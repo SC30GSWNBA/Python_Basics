{
  "nbformat": 4,
  "nbformat_minor": 0,
  "metadata": {
    "colab": {
      "name": "Python Basics : Flowcharts and looping.ipynb",
      "provenance": [],
      "collapsed_sections": []
    },
    "kernelspec": {
      "name": "python3",
      "display_name": "Python 3"
    },
    "language_info": {
      "name": "python"
    }
  },
  "cells": [
    {
      "cell_type": "markdown",
      "source": [
        "**Q1. Which Month?**\n",
        "\n",
        "**Problem Description**\n",
        "\n",
        "Write a program to input an integer(A) from user and print the Ath month of the year.\n",
        "\n",
        "Months list: **{January, February, March, April, May, June, July, August, September, October, November, December}**\n",
        "\n",
        "\n",
        "**Problem Constraints**\n",
        "\n",
        "1 <= A <= 12\n",
        "\n",
        "\n",
        "**Input Format**\n",
        "\n",
        "One line containing an integer integer A.\n",
        "\n",
        "\n",
        "**Output Format**\n",
        "\n",
        "One line containing the Ath month of the year.\n",
        "\n",
        "\n",
        "**Example Input**\n",
        "\n",
        "Input 1:\n",
        "\n",
        "1\n",
        "\n",
        "Input 2:\n",
        "\n",
        "6\n",
        "\n",
        "\n",
        "**Example Output**\n",
        "\n",
        "Output 1:\n",
        "\n",
        "January\n",
        "\n",
        "Output 1:\n",
        "\n",
        "June\n",
        "\n",
        "\n",
        "**Example Explanation**\n",
        "\n",
        "Explanation 1:\n",
        "\n",
        "Clearly, January is the 1st month.\n",
        "\n",
        "Explanation 2:\n",
        "\n",
        "Clearly, June is the 6th month."
      ],
      "metadata": {
        "id": "RQ7VqHNq3oSq"
      }
    },
    {
      "cell_type": "code",
      "execution_count": null,
      "metadata": {
        "colab": {
          "base_uri": "https://localhost:8080/"
        },
        "id": "BCA9Bh2h3Uti",
        "outputId": "4ed09a19-079d-4a92-c474-1016df5882ae"
      },
      "outputs": [
        {
          "output_type": "stream",
          "name": "stdout",
          "text": [
            "10\n",
            "October\n"
          ]
        }
      ],
      "source": [
        "def main():\n",
        "    # YOUR CODE GOES HERE\n",
        "    # Please take input and print output to standard input/output (stdin/stdout)\n",
        "    # E.g. 'input()/raw_input()' for input & 'print' for output\n",
        "\n",
        "    month = ['January', 'February', 'March', 'April', 'May', 'June', 'July', 'August', 'September', 'October', 'November', 'December']\n",
        "\n",
        "    A = int(input())\n",
        "\n",
        "    print(month[A-1])\n",
        "\n",
        "    return 0\n",
        "\n",
        "if __name__ == '__main__':\n",
        "    main()"
      ]
    },
    {
      "cell_type": "markdown",
      "source": [
        "**Q2. Days In Month**\n",
        "\n",
        "**Problem Description**\n",
        "\n",
        "You are given an integer A.\n",
        "\n",
        "You have to tell how many days are there in the month denoted by A in a non-leap year.\n",
        "\n",
        "Months are denoted as follows:\n",
        "\n",
        "January : 1\n",
        "\n",
        "February : 2\n",
        "\n",
        "March : 3\n",
        "\n",
        "April : 4\n",
        "\n",
        "May : 5\n",
        "\n",
        "June : 6\n",
        "\n",
        "July : 7\n",
        "\n",
        "August : 8\n",
        "\n",
        "September : 9\n",
        "\n",
        "October : 10\n",
        "\n",
        "November : 11\n",
        "\n",
        "December : 12\n",
        "\n",
        "\n",
        "**Problem Constraints**\n",
        "\n",
        "1 <= A <= 12\n",
        "\n",
        "\n",
        "**Input Format**\n",
        "\n",
        "The input contains a single integer A.\n",
        "\n",
        "\n",
        "**Output Format**\n",
        "\n",
        "Print a single integer denoting the number of days on a single line.\n",
        "\n",
        "\n",
        "**Example Input**\n",
        "\n",
        "Input 1:\n",
        "\n",
        " 1\n",
        "\n",
        "Input 2:\n",
        "\n",
        " 11 \n",
        "\n",
        "\n",
        "**Example Output**\n",
        "\n",
        "Output 1:\n",
        "\n",
        " 31 \n",
        "\n",
        "Output 2:\n",
        "\n",
        " 30 \n",
        "\n",
        "\n",
        "**Example Explanation**\n",
        "\n",
        "Explanation 1:\n",
        "\n",
        " Number of days in January(1) in a non-leap year = 31.\n",
        " \n",
        "Explanation 2:\n",
        "\n",
        " Number of days in November(11) in a non-leap year = 30."
      ],
      "metadata": {
        "id": "9k4d2vTB4UXV"
      }
    },
    {
      "cell_type": "code",
      "source": [
        "def main():\n",
        "    # YOUR CODE GOES HERE\n",
        "    # Please take input and print output to standard input/output (stdin/stdout)\n",
        "    # E.g. 'input()/raw_input()' for input & 'print' for output\n",
        "\n",
        "    A = int(input())\n",
        "\n",
        "    if A in [1, 3, 5, 7, 8, 10, 12]:\n",
        "        print(31)\n",
        "    elif A in [2]:\n",
        "        print(28)\n",
        "    else:\n",
        "        print(30)\n",
        "\n",
        "    return 0\n",
        "\n",
        "if __name__ == '__main__':\n",
        "    main()"
      ],
      "metadata": {
        "colab": {
          "base_uri": "https://localhost:8080/"
        },
        "id": "s-4xy0HE4nW4",
        "outputId": "d5ac8643-c464-4578-824f-36a3804e28d5"
      },
      "execution_count": null,
      "outputs": [
        {
          "output_type": "stream",
          "name": "stdout",
          "text": [
            "10\n",
            "31\n"
          ]
        }
      ]
    },
    {
      "cell_type": "markdown",
      "source": [
        "**Q3. Percentage and Grade**\n",
        "\n",
        "**Problem Description:**\n",
        "\n",
        "Write a program to calculate the percentage and grades according to the percentage of a student. Five numbers(A, B, C, D & E) represent the marks of a student in 5 subjects which are out of 100. Print the percentage and the grade of the student.\n",
        "\n",
        "If percentage >= 90% : Grade A\n",
        "\n",
        "If percentage >= 80% but < 90 : Grade B\n",
        "\n",
        "If percentage >= 70% but < 80: Grade C\n",
        "\n",
        "If percentage >= 60% but < 70: Grade D\n",
        "\n",
        "If percentage >= 40% but < 60: Grade E\n",
        "\n",
        "If percentage < 40%: Grade F\n",
        "\n",
        "**NOTE:** You have to take the lowest integer of the percentage. **E.g. 90.8% will be treated as 90%.**\n",
        "\n",
        "**Input Format:**\n",
        "\n",
        "There will be five lines of inputs as following:\n",
        "\n",
        "The five lines contain the 5 subject marks of the student in numerical format.\n",
        "\n",
        "**Output Format:**\n",
        "\n",
        "The first line indicates the percentage in integer format.  \n",
        "\n",
        "The next line displays the grade in string format.\n",
        "\n",
        "Sample Input:\n",
        "\n",
        "50   \n",
        "60   \n",
        "70   \n",
        "80   \n",
        "90\n",
        "\n",
        "Sample Output:\n",
        "\n",
        "70   \n",
        "C  "
      ],
      "metadata": {
        "id": "TFlbsaxY45Ce"
      }
    },
    {
      "cell_type": "code",
      "source": [
        "def main():\n",
        "    # YOUR CODE GOES HERE\n",
        "    # Please take input and print output to standard input/output (stdin/stdout)\n",
        "    # E.g. 'input()/raw_input()' for input & 'print' for output\n",
        "\n",
        "    l = list(map(int, input().split()))\n",
        "\n",
        "    l1 = l[0]\n",
        "    l2 = l[1]\n",
        "    l3 = l[2]\n",
        "    l4 = l[3]\n",
        "    l5 = l[4]\n",
        "\n",
        "    grade = ((l1+l2+l3+l4+l5)//5)\n",
        "    print(grade)\n",
        "\n",
        "    if grade >= 90:       \n",
        "        print('A')\n",
        "\n",
        "    elif grade >= 80:\n",
        "        print('B')\n",
        "\n",
        "    elif grade >= 70:\n",
        "        print('C')\n",
        "\n",
        "    elif grade >= 60:\n",
        "        print('D')\n",
        "\n",
        "    elif grade >= 40:\n",
        "        print('E')\n",
        "\n",
        "    else:\n",
        "        print('F')\n",
        "\n",
        "\n",
        "    return 0\n",
        "\n",
        "if __name__ == '__main__':\n",
        "    main()"
      ],
      "metadata": {
        "colab": {
          "base_uri": "https://localhost:8080/"
        },
        "id": "P1q2j30n5XKv",
        "outputId": "0cb23992-0033-4e97-8ad7-72b9e699bf0a"
      },
      "execution_count": null,
      "outputs": [
        {
          "output_type": "stream",
          "name": "stdout",
          "text": [
            "80 85 90 95 100\n",
            "90\n",
            "A\n"
          ]
        }
      ]
    },
    {
      "cell_type": "markdown",
      "source": [
        "**Q4. From top to down**\n",
        "\n",
        "**Problem Description**\n",
        "\n",
        "Write a program to print all Natural numbers from 1 to N where you have to take N as input from user\n",
        "\n",
        "\n",
        "**Problem Constraints**\n",
        "\n",
        "1 <= N <= 10000000\n",
        "\n",
        "\n",
        "**Input Format**\n",
        "\n",
        "A single line representing N\n",
        "\n",
        "\n",
        "**Output Format**\n",
        "\n",
        "N space separated integers from 1 to N.\n",
        "\n",
        "\n",
        "**Example Input**\n",
        "\n",
        "Input 1:\n",
        "\n",
        "5\n",
        "\n",
        "Input 2:\n",
        "\n",
        "10\n",
        "\n",
        "\n",
        "**Example Output**\n",
        "\n",
        "Output 1:\n",
        "\n",
        "1 2 3 4 5 \n",
        "\n",
        "Output 2:\n",
        "\n",
        "1 2 3 4 5 6 7 8 9 10 "
      ],
      "metadata": {
        "id": "dHfBRmIn6W4u"
      }
    },
    {
      "cell_type": "code",
      "source": [
        "def main():\n",
        "    # YOUR CODE GOES HERE\n",
        "    # Please take input and print output to standard input/output (stdin/stdout)\n",
        "    # E.g. 'input()/raw_input()' for input & 'print' for output\n",
        "\n",
        "    N = int(input())\n",
        "\n",
        "    for i in range(1, N+1):\n",
        "        print(i, end = ' ')\n",
        "\n",
        "    return 0\n",
        "\n",
        "if __name__ == '__main__':\n",
        "    main()"
      ],
      "metadata": {
        "colab": {
          "base_uri": "https://localhost:8080/"
        },
        "id": "aKo_pEjF6q9X",
        "outputId": "fe286a6b-8f3a-4d4b-f0f1-d78561807f49"
      },
      "execution_count": null,
      "outputs": [
        {
          "output_type": "stream",
          "name": "stdout",
          "text": [
            "10\n",
            "1 2 3 4 5 6 7 8 9 10 "
          ]
        }
      ]
    },
    {
      "cell_type": "markdown",
      "source": [
        "**Q5. From down to top**\n",
        "\n",
        "**Problem Description**\n",
        "\n",
        "Write a program to print all Natural numbers from N to 1 where you have to take N as input from user\n",
        "\n",
        "\n",
        "**Problem Constraints**\n",
        "\n",
        "1 <= N <= 10000000\n",
        "\n",
        "\n",
        "**Input Format**\n",
        "\n",
        "A single line representing N\n",
        "\n",
        "\n",
        "**Output Format**\n",
        "\n",
        "N space separated integers from N to 1.\n",
        "\n",
        "\n",
        "**Example Input**\n",
        "\n",
        "Input 1:\n",
        "\n",
        "5\n",
        "\n",
        "Input 2:\n",
        "\n",
        "10\n",
        "\n",
        "\n",
        "**Example Output**\n",
        "\n",
        "Output 1:\n",
        "\n",
        "5 4 3 2 1\n",
        "\n",
        "Output 2:\n",
        "\n",
        "10 9 8 7 6 5 4 3 2 1 "
      ],
      "metadata": {
        "id": "Bd1_eDA76vBn"
      }
    },
    {
      "cell_type": "code",
      "source": [
        "def main():\n",
        "    # YOUR CODE GOES HERE\n",
        "    # Please take input and print output to standard input/output (stdin/stdout)\n",
        "    # E.g. 'input()/raw_input()' for input & 'print' for output\n",
        "\n",
        "    N = int(input())\n",
        "\n",
        "    while N != 0:\n",
        "        print(N, end = ' ')\n",
        "        N = N - 1\n",
        "\n",
        "    return 0\n",
        "\n",
        "if __name__ == '__main__':\n",
        "    main()"
      ],
      "metadata": {
        "colab": {
          "base_uri": "https://localhost:8080/"
        },
        "id": "ZUpeQumu6-wb",
        "outputId": "e4974261-3295-4fd6-b9f1-785cb694c520"
      },
      "execution_count": null,
      "outputs": [
        {
          "output_type": "stream",
          "name": "stdout",
          "text": [
            "10\n",
            "10 9 8 7 6 5 4 3 2 1 "
          ]
        }
      ]
    },
    {
      "cell_type": "markdown",
      "source": [
        "**Q6. Sum of evens!**\n",
        "\n",
        "**Problem Description**\n",
        "\n",
        "You are given an integer A, you need to find and return the sum of all the even numbers between 1 and A.\n",
        "\n",
        "Even numbers are those numbers that are divisible by 2.\n",
        "\n",
        "\n",
        "**Problem Constraints**\n",
        "\n",
        "1 <= N <= 500\n",
        "\n",
        "\n",
        "**Input Format**\n",
        "\n",
        "First and only argument is an integer A.\n",
        "\n",
        "\n",
        "**Output Format**\n",
        "\n",
        "Return an integer denoting the sum of even numbers between [1, A] (both inclusive).\n",
        "\n",
        "\n",
        "**Example Input**\n",
        "\n",
        "Input 1:\n",
        "\n",
        " 5\n",
        "\n",
        "Input 2:\n",
        "\n",
        " 2\n",
        "\n",
        "\n",
        "**Example Output**\n",
        "\n",
        "Output 1:\n",
        "\n",
        " 6\n",
        "\n",
        "Output 2:\n",
        "\n",
        " 2\n",
        "\n",
        "\n",
        "**Example Explanation**\n",
        "\n",
        "Explanation 1:\n",
        "\n",
        " Even numbers between [1, 5] are (2, 4).\n",
        " \n",
        "Explanation 2:\n",
        "\n",
        " Even numbers between [1, 2] are (2)"
      ],
      "metadata": {
        "id": "WWhxKz-n7DUU"
      }
    },
    {
      "cell_type": "code",
      "source": [
        "# Solution-1\n",
        "\n",
        "class Solution:\n",
        "  # param A : integer\n",
        "  # return an integer\n",
        "  def solve(self, A):\n",
        "    total = 0\n",
        "    for i in range(1, A+1):\n",
        "        if i%2 == 0:\n",
        "          total = total + i\n",
        "\n",
        "    return total\n",
        "\n",
        "X = Solution()\n",
        "\n",
        "print(X.solve(34))"
      ],
      "metadata": {
        "colab": {
          "base_uri": "https://localhost:8080/"
        },
        "id": "G3NbGaox7WB6",
        "outputId": "697d5912-795d-4349-ef8b-7a1b0839fd79"
      },
      "execution_count": null,
      "outputs": [
        {
          "output_type": "stream",
          "name": "stdout",
          "text": [
            "306\n"
          ]
        }
      ]
    },
    {
      "cell_type": "markdown",
      "source": [
        "Note we can make the solution independent of loops using the following method:\n",
        "\n",
        "Sum of Even numbers upto 10 :\n",
        "\n",
        "    = 2 + 4 + 6 + 8 + 10\n",
        "    = 2 * (1 + 2 + 3 + 4 + 5) -> Sum of first n natural numbers\n",
        "    = 2 * (5*(5+1)/2)\n",
        "    = 5 * 6\n",
        "    = 30"
      ],
      "metadata": {
        "id": "ZKsxmYBM-Aea"
      }
    },
    {
      "cell_type": "code",
      "source": [
        "# Solution-2\n",
        "\n",
        "class Solution:\n",
        "  # param A : integer\n",
        "  # return an integer\n",
        "  def solve(self, A):\n",
        "\n",
        "    return 2 * ((A//2) * ((A//2)+1))//2\n",
        "\n",
        "X = Solution()\n",
        "\n",
        "print(X.solve(34))"
      ],
      "metadata": {
        "colab": {
          "base_uri": "https://localhost:8080/"
        },
        "id": "pES4bszS9cme",
        "outputId": "d3ee4926-ea92-44e2-f28e-99950d011e94"
      },
      "execution_count": null,
      "outputs": [
        {
          "output_type": "stream",
          "name": "stdout",
          "text": [
            "306\n"
          ]
        }
      ]
    },
    {
      "cell_type": "markdown",
      "source": [
        "**Q7. Sum of Odds**\n",
        "\n",
        "**Problem Description**\n",
        "\n",
        "You are given a positive integer A. You have to print the sum of all odd numbers in the range [1, A].\n",
        "\n",
        "\n",
        "**Problem Constraints**\n",
        "\n",
        "1 <= A <= 1000\n",
        "\n",
        "\n",
        "**Input Format**\n",
        "\n",
        "First and only line contains a single positive integer A.\n",
        "\n",
        "\n",
        "**Output Format**\n",
        "\n",
        "Print the required sum in a single line.\n",
        "\n",
        "\n",
        "**Example Input**\n",
        "\n",
        "Input 1:\n",
        "\n",
        " 1\n",
        "\n",
        "Input 2:\n",
        "\n",
        " 4 \n",
        "\n",
        "\n",
        "**Example Output**\n",
        "\n",
        "Output 1:\n",
        "\n",
        " 1 \n",
        "\n",
        "Output 2:\n",
        "\n",
        " 4 \n",
        "\n",
        "\n",
        "**Example Explanation**\n",
        "\n",
        "Explanation 1:\n",
        "\n",
        " For A = 1, 1 is the only odd number which lies in the range [1, 1].\n",
        "\n",
        "Explanation 2:\n",
        "\n",
        " For A = 4, Odd numbers 1 and 3 lie in the range [1, 4]. \n",
        " \n",
        " Sum = 1 + 3 = 4. "
      ],
      "metadata": {
        "id": "ADqAiRLB7vYl"
      }
    },
    {
      "cell_type": "code",
      "source": [
        "# Solution-1\n",
        "\n",
        "class Solution:\n",
        "  # param A : integer\n",
        "  # return an integer\n",
        "  def solve(self, A):\n",
        "    total = 0\n",
        "    for i in range(1, A+1):\n",
        "        if i%2 == 1:\n",
        "          total = total + i\n",
        "\n",
        "    return total\n",
        "\n",
        "X = Solution()\n",
        "\n",
        "print(X.solve(34))"
      ],
      "metadata": {
        "colab": {
          "base_uri": "https://localhost:8080/"
        },
        "id": "UjfVRgRP77dX",
        "outputId": "eb6d10df-f05f-43e4-f0fd-d9911591de5a"
      },
      "execution_count": null,
      "outputs": [
        {
          "output_type": "stream",
          "name": "stdout",
          "text": [
            "289\n"
          ]
        }
      ]
    },
    {
      "cell_type": "markdown",
      "source": [
        "**Note:** Sum of Odd Numbers upto 10 = Sum of all numbers upto 10 - Sum of all even numbers upto 10"
      ],
      "metadata": {
        "id": "pv619LIX-0Fc"
      }
    },
    {
      "cell_type": "code",
      "source": [
        "# Solution-2\n",
        "\n",
        "class Solution:\n",
        "  # param A : integer\n",
        "  # return an integer\n",
        "  def solve(self, A):\n",
        "\n",
        "    return (A*(A+1)//2) - 2*((A//2)*((A//2)+1))//2\n",
        "\n",
        "X = Solution()\n",
        "\n",
        "print(X.solve(34))"
      ],
      "metadata": {
        "colab": {
          "base_uri": "https://localhost:8080/"
        },
        "id": "YJmeil5I-zb9",
        "outputId": "09a8821d-4936-44a8-e7b5-5757878b7079"
      },
      "execution_count": null,
      "outputs": [
        {
          "output_type": "stream",
          "name": "stdout",
          "text": [
            "289\n"
          ]
        }
      ]
    },
    {
      "cell_type": "markdown",
      "source": [
        "**Q8. Angles Of Valid Triangle?**\n",
        "\n",
        "**Problem Description**\n",
        "\n",
        "You are given 3 integer angles(in degrees) A, B and C of a triangle. You have to tell whether the triangle is valid or not.\n",
        "\n",
        "A triangle is valid if sum of its angles equals to 180.\n",
        "\n",
        "\n",
        "**Problem Constraints**\n",
        "\n",
        "1 <= A, B, C <= 180\n",
        "\n",
        "\n",
        "**Input Format**\n",
        "\n",
        "First line of the input contains an integer A.\n",
        "\n",
        "Second line of the input contains an integer B.\n",
        "\n",
        "Third line of the input contains an integer C.\n",
        "\n",
        "\n",
        "**Output Format**\n",
        "\n",
        "Print 1 if the triangle having given sides is valid, else print 0.\n",
        "\n",
        "\n",
        "**Example Input**\n",
        "\n",
        "Input 1:\n",
        "\n",
        " 60\n",
        " 60\n",
        " 60\n",
        "\n",
        "Input 2:\n",
        "\n",
        " 30\n",
        " 40\n",
        " 50\n",
        "\n",
        "**Example Output**\n",
        "\n",
        "Output 1:\n",
        "\n",
        " 1 \n",
        "\n",
        "Output 2:\n",
        "\n",
        " 0 \n",
        "\n",
        "**Example Explanation**\n",
        "\n",
        "Explanation 1:\n",
        "\n",
        " Sum of angles = A + B + C = 60 + 60 + 60 = 180\n",
        " Hence, the given triangle is valid.\n",
        " \n",
        "Explanation 2:\n",
        "\n",
        " Sum of angles = A + B + C = 30 + 40 + 50 = 120\n",
        " As sum of angles is not equal to 180, the given triangle is not valid."
      ],
      "metadata": {
        "id": "150Lc_08AJtv"
      }
    },
    {
      "cell_type": "code",
      "source": [
        "def main():\n",
        "    # YOUR CODE GOES HERE\n",
        "    # Please take input and print output to standard input/output (stdin/stdout)\n",
        "    # E.g. 'input()/raw_input()' for input & 'print' for output\n",
        "\n",
        "    A = int(input())\n",
        "    B = int(input())\n",
        "    C = int(input())\n",
        "\n",
        "    if (A + B + C) == 180:\n",
        "        print(1)\n",
        "    else:\n",
        "        print(0)\n",
        "\n",
        "    return 0\n",
        "\n",
        "if __name__ == '__main__':\n",
        "    main()"
      ],
      "metadata": {
        "colab": {
          "base_uri": "https://localhost:8080/"
        },
        "id": "oTVDK8D6AdkZ",
        "outputId": "5a38bca0-c735-4e29-8e95-2300fcbc3f7d"
      },
      "execution_count": null,
      "outputs": [
        {
          "output_type": "stream",
          "name": "stdout",
          "text": [
            "50\n",
            "60\n",
            "70\n",
            "1\n"
          ]
        }
      ]
    },
    {
      "cell_type": "markdown",
      "source": [
        "**Q9. Divisible by 2 numbers**\n",
        "\n",
        "**Problem Description**\n",
        "\n",
        "You are given an integer A. You have to tell whether A is divible by both 5 and 11 or not.\n",
        "\n",
        "**Problem Constraints**\n",
        "\n",
        "1 <= A <= 109\n",
        "\n",
        "**Input Format**\n",
        "\n",
        "The input contains a single integer A.\n",
        "\n",
        "**Output Format**\n",
        "\n",
        "Print 1 if A is divisible by both 5 and 11, else print 0.\n",
        "\n",
        "**Example Input**\n",
        "\n",
        "Input 1:\n",
        "\n",
        " 55 \n",
        "\n",
        "Input 2:\n",
        "\n",
        " 22 \n",
        "\n",
        "**Example Output**\n",
        "\n",
        "Output 1:\n",
        "\n",
        " 1 \n",
        "\n",
        "Output 2:\n",
        "\n",
        " 0 \n",
        "\n",
        "**Example Explanation**\n",
        "\n",
        "Explanation 1:\n",
        "\n",
        " 55 is divisible by both 5 (5 * 11 = 55) and 11 (11 * 5 = 55).\n",
        " \n",
        "Explanation 2:\n",
        "\n",
        " 22 is divisble by 11 (11 * 2 = 22),but it is not divisible by 5."
      ],
      "metadata": {
        "id": "Ef6tnlEDAth6"
      }
    },
    {
      "cell_type": "code",
      "source": [
        "def main():\n",
        "    # YOUR CODE GOES HERE\n",
        "    # Please take input and print output to standard input/output (stdin/stdout)\n",
        "    # E.g. 'input()/raw_input()' for input & 'print' for output\n",
        "\n",
        "    A = int(input())\n",
        "\n",
        "    if A%55 == 0:\n",
        "        print(1)\n",
        "    else:\n",
        "        print(0)\n",
        "\n",
        "    return 0\n",
        "\n",
        "if __name__ == '__main__':\n",
        "    main()"
      ],
      "metadata": {
        "colab": {
          "base_uri": "https://localhost:8080/"
        },
        "id": "EpHPsv72BBG3",
        "outputId": "089dfe23-86c6-439c-a940-b98e523640a6"
      },
      "execution_count": null,
      "outputs": [
        {
          "output_type": "stream",
          "name": "stdout",
          "text": [
            "330\n",
            "1\n"
          ]
        }
      ]
    },
    {
      "cell_type": "markdown",
      "source": [
        "**Q10. Which triangle?**\n",
        "\n",
        "**Problem Description**\n",
        "\n",
        "Write a program to input from user three numbers(A, B & C) representing side lengths of a triangle.\n",
        "\n",
        "You have to print if the traingle is \"equilateral\", \"scalene\" or \"isosceles\".\n",
        "\n",
        "**Problem Constraints**\n",
        "\n",
        "1 <= A <= 100000\n",
        "\n",
        "1 <= B <= 100000\n",
        "\n",
        "1 <= C <= 100000\n",
        "\n",
        "**Input Format**\n",
        "\n",
        "One line containing three space separated integers A, B & C.\n",
        "\n",
        "**Output Format**\n",
        "\n",
        "One string either \"equilateral\", \"scalene\" or \"isosceles\".\n",
        "\n",
        "**Example Input**\n",
        "\n",
        "Input 1:\n",
        "\n",
        "5 6 7\n",
        "\n",
        "Input 2:\n",
        "\n",
        "30 30 30\n",
        "\n",
        "**Example Output**\n",
        "\n",
        "Output 1:\n",
        "\n",
        "scalene\n",
        "\n",
        "Output 2:\n",
        "\n",
        "equilateral\n",
        "\n",
        "**Example Explanation**\n",
        "\n",
        "Explanation 1:\n",
        "\n",
        "Since all sides are different, hence it's a scalene triangle.\n",
        "\n",
        "Explanation 2:\n",
        "\n",
        "Since all sides are same, hence it's a equilateral triangle."
      ],
      "metadata": {
        "id": "_a1kqxKSBJwi"
      }
    },
    {
      "cell_type": "code",
      "source": [
        "def main():\n",
        "    # YOUR CODE GOES HERE\n",
        "    # Please take input and print output to standard input/output (stdin/stdout)\n",
        "    # E.g. 'input()/raw_input()' for input & 'print' for output\n",
        "\n",
        "    l = list(map(int, input().split()))\n",
        "\n",
        "    A = l[0]\n",
        "    B = l[1]\n",
        "    C = l[2]\n",
        "\n",
        "    if A == B and B == C:\n",
        "        print('equilateral')\n",
        "    elif A == B or B == C or C == A:\n",
        "        print('isosceles')\n",
        "    else:\n",
        "        print('scalene')\n",
        "\n",
        "    return 0\n",
        "\n",
        "if __name__ == '__main__':\n",
        "    main()"
      ],
      "metadata": {
        "colab": {
          "base_uri": "https://localhost:8080/"
        },
        "id": "W2zBktR_BeB2",
        "outputId": "7aa41857-6c8d-40d0-bf5f-f2e323893177"
      },
      "execution_count": null,
      "outputs": [
        {
          "output_type": "stream",
          "name": "stdout",
          "text": [
            "6 6 6\n",
            "equilateral\n"
          ]
        }
      ]
    },
    {
      "cell_type": "markdown",
      "source": [
        "**Q11. Summation Game**\n",
        "\n",
        "**Problem Description**\n",
        "\n",
        "Write a program to find sum all Natural numbers from 1 to N where you have to take N as input from user\n",
        "\n",
        "**Problem Constraints**\n",
        "\n",
        "1 <= N <= 1000\n",
        "\n",
        "**Input Format**\n",
        "\n",
        "A single line representing N\n",
        "\n",
        "**Output Format**\n",
        "\n",
        "A single integer showing sum of all Natural numbers from 1 to N\n",
        "\n",
        "**Example Input**\n",
        "\n",
        "Input 1:\n",
        "\n",
        "5\n",
        "\n",
        "Input 2:\n",
        "\n",
        "10\n",
        "\n",
        "**Example Output**\n",
        "\n",
        "Output 1:\n",
        "\n",
        "15\n",
        "\n",
        "Output 2:\n",
        "\n",
        "55"
      ],
      "metadata": {
        "id": "xco8dX9UBnKN"
      }
    },
    {
      "cell_type": "code",
      "source": [
        "def main():\n",
        "    # YOUR CODE GOES HERE\n",
        "    # Please take input and print output to standard input/output (stdin/stdout)\n",
        "    # E.g. 'input()/raw_input()' for input & 'print' for output\n",
        "\n",
        "    N = int(input())\n",
        "\n",
        "    print((N * (N+1))//2)\n",
        "\n",
        "    return 0\n",
        "\n",
        "if __name__ == '__main__':\n",
        "    main()"
      ],
      "metadata": {
        "colab": {
          "base_uri": "https://localhost:8080/"
        },
        "id": "stJDkiApB0Q7",
        "outputId": "fe959123-39ac-4579-e292-d136797bfd5f"
      },
      "execution_count": null,
      "outputs": [
        {
          "output_type": "stream",
          "name": "stdout",
          "text": [
            "11\n",
            "66\n"
          ]
        }
      ]
    },
    {
      "cell_type": "markdown",
      "source": [
        "**Q12. Even Game**\n",
        "\n",
        "**Problem Description**\n",
        "\n",
        "Write a program to print all even numbers from 1 to N where you have to take N as input from user. Strictly use while loop.\n",
        "\n",
        "**Problem Constraints**\n",
        "\n",
        "1 <= N <= 1000000\n",
        "\n",
        "**Input Format**\n",
        "\n",
        "A single line representing N\n",
        "\n",
        "\n",
        "**Output Format**\n",
        "\n",
        "All even numbers from 1 to N separated by spaces.\n",
        "\n",
        "\n",
        "**Example Input**\n",
        "\n",
        "Input 1:\n",
        "\n",
        "5\n",
        "\n",
        "Input 2:\n",
        "\n",
        "10\n",
        "\n",
        "**Example Output**\n",
        "\n",
        "Output 1:\n",
        "\n",
        "2 4 \n",
        "\n",
        "Output 2:\n",
        "\n",
        "2 4 6 8 10"
      ],
      "metadata": {
        "id": "BI0AlkjlB77D"
      }
    },
    {
      "cell_type": "code",
      "source": [
        "def main():\n",
        "    # YOUR CODE GOES HERE\n",
        "    # Please take input and print output to standard input/output (stdin/stdout)\n",
        "    # E.g. 'input()/raw_input()' for input & 'print' for output\n",
        "\n",
        "    N = int(input())\n",
        "\n",
        "    i = 1\n",
        "\n",
        "    while N != 0:\n",
        "        if i%2 == 0:\n",
        "            print(i, end = ' ')\n",
        "        i = i+1\n",
        "        N = N-1\n",
        "\n",
        "    return 0\n",
        "\n",
        "if __name__ == '__main__':\n",
        "    main()"
      ],
      "metadata": {
        "colab": {
          "base_uri": "https://localhost:8080/"
        },
        "id": "G3ix-vu5CLd1",
        "outputId": "b4f55545-b705-45d0-904c-8e264e5da3e0"
      },
      "execution_count": null,
      "outputs": [
        {
          "output_type": "stream",
          "name": "stdout",
          "text": [
            "10\n",
            "2 4 6 8 10 "
          ]
        }
      ]
    },
    {
      "cell_type": "markdown",
      "source": [
        "**Q13. Odd Game**\n",
        "\n",
        "**Problem Description**\n",
        "\n",
        "Write a program to print all odd numbers from 1 to N where you have to take N as input from user.\n",
        "\n",
        "**Problem Constraints**\n",
        "\n",
        "1 <= N <= 1000000\n",
        "\n",
        "**Input Format**\n",
        "\n",
        "A single line representing N\n",
        "\n",
        "**Output Format**\n",
        "\n",
        "All odd numbers from 1 to N separated by spaces.\n",
        "\n",
        "**Example Input**\n",
        "\n",
        "Input 1:\n",
        "\n",
        "5\n",
        "\n",
        "Input 2:\n",
        "\n",
        "10\n",
        "\n",
        "**Example Output**\n",
        "\n",
        "Output 1:\n",
        "\n",
        "1 3 5 \n",
        "\n",
        "Output 2:\n",
        "\n",
        "1 3 5 7 9 "
      ],
      "metadata": {
        "id": "i_soqW7zCRTO"
      }
    },
    {
      "cell_type": "code",
      "source": [
        "def main():\n",
        "    # YOUR CODE GOES HERE\n",
        "    # Please take input and print output to standard input/output (stdin/stdout)\n",
        "    # E.g. 'input()/raw_input()' for input & 'print' for output\n",
        "\n",
        "    N = int(input())\n",
        "\n",
        "    for i in range(1, N+1):\n",
        "        if i%2 == 1:\n",
        "            print(i, end = ' ')\n",
        "\n",
        "    return 0\n",
        "\n",
        "if __name__ == '__main__':\n",
        "    main()"
      ],
      "metadata": {
        "colab": {
          "base_uri": "https://localhost:8080/"
        },
        "id": "l3y4TE0sCcOa",
        "outputId": "3a88df13-6f90-4189-9308-166c7c78194f"
      },
      "execution_count": null,
      "outputs": [
        {
          "output_type": "stream",
          "name": "stdout",
          "text": [
            "10\n",
            "1 3 5 7 9 "
          ]
        }
      ]
    }
  ]
}