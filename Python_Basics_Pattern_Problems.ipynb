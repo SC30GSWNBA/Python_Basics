{
  "nbformat": 4,
  "nbformat_minor": 0,
  "metadata": {
    "colab": {
      "name": "Python_Basics : Pattern Problems.ipynb",
      "provenance": [],
      "collapsed_sections": []
    },
    "kernelspec": {
      "name": "python3",
      "display_name": "Python 3"
    },
    "language_info": {
      "name": "python"
    }
  },
  "cells": [
    {
      "cell_type": "markdown",
      "source": [
        "**Q1. Star Pattern II**\n",
        "\n",
        "**Problem Description**\n",
        "\n",
        "Write a program to input an integer N from user and print hollow inverted right triangle star pattern of N lines using '*'.\n",
        "\n",
        "See example for clarifications.\n",
        "\n",
        "![Hollow Inverted Half Pyramid.JPG](data:image/jpeg;base64,/9j/4AAQSkZJRgABAQEAYABgAAD/4RCiRXhpZgAATU0AKgAAAAgABAE7AAIAAAAQAAAISodpAAQAAAABAAAIWpydAAEAAAAgAAAQeuocAAcAAAgMAAAAPgAAAAAc6gAAAAgAAAAAAAAAAAAAAAAAAAAAAAAAAAAAAAAAAAAAAAAAAAAAAAAAAAAAAAAAAAAAAAAAAAAAAAAAAAAAAAAAAAAAAAAAAAAAAAAAAAAAAAAAAAAAAAAAAAAAAAAAAAAAAAAAAAAAAAAAAAAAAAAAAAAAAAAAAAAAAAAAAAAAAAAAAAAAAAAAAAAAAAAAAAAAAAAAAAAAAAAAAAAAAAAAAAAAAAAAAAAAAAAAAAAAAAAAAAAAAAAAAAAAAAAAAAAAAAAAAAAAAAAAAAAAAAAAAAAAAAAAAAAAAAAAAAAAAAAAAAAAAAAAAAAAAAAAAAAAAAAAAAAAAAAAAAAAAAAAAAAAAAAAAAAAAAAAAAAAAAAAAAAAAAAAAAAAAAAAAAAAAAAAAAAAAAAAAAAAAAAAAAAAAAAAAAAAAAAAAAAAAAAAAAAAAAAAAAAAAAAAAAAAAAAAAAAAAAAAAAAAAAAAAAAAAAAAAAAAAAAAAAAAAAAAAAAAAAAAAAAAAAAAAAAAAAAAAAAAAAAAAAAAAAAAAAAAAAAAAAAAAAAAAAAAAAAAAAAAAAAAAAAAAAAAAAAAAAAAAAAAAAAAAAAAAAAAAAAAAAAAAAAAAAAAAAAAAAAAAAAAAAAAAAAAAAAAAAAAAAAAAAAAAAAAAAAAAAAAAAAAAAAAAAAAAAAAAAAAAAAAAAAAAAAAAAAAAAAAAAAAAAAAAAAAAAAAAAAAAAAAAAAAAAAAAAAAAAAAAAAAAAAAAAAAAAAAAAAAAAAAAAAAAAAAAAAAAAAAAAAAAAAAAAAAAAAAAAAAAAAAAAAAAAAAAAAAAAAAAAAAAAAAAAAAAAAAAAAAAAAAAAAAAAAAAAAAAAAAAAAAAAAAAAAAAAAAAAAAAAAAAAAAAAAAAAAAAAAAAAAAAAAAAAAAAAAAAAAAAAAAAAAAAAAAAAAAAAAAAAAAAAAAAAAAAAAAAAAAAAAAAAAAAAAAAAAAAAAAAAAAAAAAAAAAAAAAAAAAAAAAAAAAAAAAAAAAAAAAAAAAAAAAAAAAAAAAAAAAAAAAAAAAAAAAAAAAAAAAAAAAAAAAAAAAAAAAAAAAAAAAAAAAAAAAAAAAAAAAAAAAAAAAAAAAAAAAAAAAAAAAAAAAAAAAAAAAAAAAAAAAAAAAAAAAAAAAAAAAAAAAAAAAAAAAAAAAAAAAAAAAAAAAAAAAAAAAAAAAAAAAAAAAAAAAAAAAAAAAAAAAAAAAAAAAAAAAAAAAAAAAAAAAAAAAAAAAAAAAAAAAAAAAAAAAAAAAAAAAAAAAAAAAAAAAAAAAAAAAAAAAAAAAAAAAAAAAAAAAAAAAAAAAAAAAAAAAAAAAAAAAAAAAAAAAAAAAAAAAAAAAAAAAAAAAAAAAAAAAAAAAAAAAAAAAAAAAAAAAAAAAAAAAAAAAAAAAAAAAAAAAAAAAAAAAAAAAAAAAAAAAAAAAAAAAAAAAAAAAAAAAAAAAAAAAAAAAAAAAAAAAAAAAAAAAAAAAAAAAAAAAAAAAAAAAAAAAAAAAAAAAAAAAAAAAAAAAAAAAAAAAAAAAAAAAAAAAAAAAAAAAAAAAAAAAAAAAAAAAAAAAAAAAAAAAAAAAAAAAAAAAAAAAAAAAAAAAAAAAAAAAAAAAAAAAAAAAAAAAAAAAAAAAAAAAAAAAAAAAAAAAAAAAAAAAAAAAAAAAAAAAAAAAAAAAAAAAAAAAAAAAAAAAAAAAAAAAAAAAAAAAAAAAAAAAAAAAAAAAAAAAAAAAAAAAAAAAAAAAAAAAAAAAAAAAAAAAAAAAAAAAAAAAAAAAAAAAAAAAAAAAAAAAAAAAAAAAAAAAAAAAAAAAAAAAAAAAAAAAAAAAAAAAAAAAAAAAAAAAAAAAAAAAAAAAAAAAAAAAAAAAAAAAAAAAAAAAAAAAAAAAAAAAAAAAAAAAAAAAAAAAAAAAAAAAAAAAAAAAAAAAAAAAAAAAAAAAAAAAAAAAAAAAAAAAAAAAAAAAAAAAAAAAAAAAAAAAAAAAAAAAAAAAAAAAAAAAAAAAAAAAAAAAAAAAAAAAAAAAAAAAAAAAAAAAAAAAAAAAAAAAAAAAAAAAAAAAAAAAAAAAAAAAAAAAAAAAAAAAAAAAAAAAAAAAAAAAAAAAAAAAAAAAAAAAAAAAAAAAAAAAAAAAAAAAAAAAAAAAAAAAAAAAAAAAAAAAAAAAAAAAAAAAAAAAAAAAAAAAAAAAAAAAAAAAAAAAAAAAAAAAAAAAAAAAAAAAAAAAAAAAAAAAAAAAAAAAAAAAAAAAAAAAAAAAAAAAAAAAAAAAAAAAAAAAAAAAAAAAAAAAAAAAAAAAAAAAAAAAAAAAAAAAAAAAAAAAAAAAAAAAAAAAAAAAAAAAAAAAAAAAAAAAAAAAAAAAAAAAAAAAAAAAAAAAAAAAAAAAAAAAAAAAAAAAAAAAAAAAAAAAAAAAAAAAAAAAAAAAAAAAAAAAAAAAAAAAAAAAAAAAAAAAAAAAAAAAAAAAAAAAAAAAAAAAAAAAAAAAAAAAAAAAAAAAAAAAAAAAAAAAAAAAAAAAAAAAAAAAAAAAAAAAAAAAAAAAAAAAAAAAAAAAAAAAAAAAAAAAAAAAAAAAAAAAAAAAAAAAAAAAAAAAAAAAAAAAAAAAAAAAAAAAAAAAAAAAAAAAAAAAAAAAAAAAAAAAAAAAAAAAAAAAAAAAAAAAAAAAAAAAAAAAAAAAAAAAAAAAAAAAAAAAAAAAAAAAAAAAAAAAAAAAAAAAAAAAAAAAAEJpbGxpb25haXJlU1JveQAAAeocAAcAAAgMAAAIbAAAAAAc6gAAAAgAAAAAAAAAAAAAAAAAAAAAAAAAAAAAAAAAAAAAAAAAAAAAAAAAAAAAAAAAAAAAAAAAAAAAAAAAAAAAAAAAAAAAAAAAAAAAAAAAAAAAAAAAAAAAAAAAAAAAAAAAAAAAAAAAAAAAAAAAAAAAAAAAAAAAAAAAAAAAAAAAAAAAAAAAAAAAAAAAAAAAAAAAAAAAAAAAAAAAAAAAAAAAAAAAAAAAAAAAAAAAAAAAAAAAAAAAAAAAAAAAAAAAAAAAAAAAAAAAAAAAAAAAAAAAAAAAAAAAAAAAAAAAAAAAAAAAAAAAAAAAAAAAAAAAAAAAAAAAAAAAAAAAAAAAAAAAAAAAAAAAAAAAAAAAAAAAAAAAAAAAAAAAAAAAAAAAAAAAAAAAAAAAAAAAAAAAAAAAAAAAAAAAAAAAAAAAAAAAAAAAAAAAAAAAAAAAAAAAAAAAAAAAAAAAAAAAAAAAAAAAAAAAAAAAAAAAAAAAAAAAAAAAAAAAAAAAAAAAAAAAAAAAAAAAAAAAAAAAAAAAAAAAAAAAAAAAAAAAAAAAAAAAAAAAAAAAAAAAAAAAAAAAAAAAAAAAAAAAAAAAAAAAAAAAAAAAAAAAAAAAAAAAAAAAAAAAAAAAAAAAAAAAAAAAAAAAAAAAAAAAAAAAAAAAAAAAAAAAAAAAAAAAAAAAAAAAAAAAAAAAAAAAAAAAAAAAAAAAAAAAAAAAAAAAAAAAAAAAAAAAAAAAAAAAAAAAAAAAAAAAAAAAAAAAAAAAAAAAAAAAAAAAAAAAAAAAAAAAAAAAAAAAAAAAAAAAAAAAAAAAAAAAAAAAAAAAAAAAAAAAAAAAAAAAAAAAAAAAAAAAAAAAAAAAAAAAAAAAAAAAAAAAAAAAAAAAAAAAAAAAAAAAAAAAAAAAAAAAAAAAAAAAAAAAAAAAAAAAAAAAAAAAAAAAAAAAAAAAAAAAAAAAAAAAAAAAAAAAAAAAAAAAAAAAAAAAAAAAAAAAAAAAAAAAAAAAAAAAAAAAAAAAAAAAAAAAAAAAAAAAAAAAAAAAAAAAAAAAAAAAAAAAAAAAAAAAAAAAAAAAAAAAAAAAAAAAAAAAAAAAAAAAAAAAAAAAAAAAAAAAAAAAAAAAAAAAAAAAAAAAAAAAAAAAAAAAAAAAAAAAAAAAAAAAAAAAAAAAAAAAAAAAAAAAAAAAAAAAAAAAAAAAAAAAAAAAAAAAAAAAAAAAAAAAAAAAAAAAAAAAAAAAAAAAAAAAAAAAAAAAAAAAAAAAAAAAAAAAAAAAAAAAAAAAAAAAAAAAAAAAAAAAAAAAAAAAAAAAAAAAAAAAAAAAAAAAAAAAAAAAAAAAAAAAAAAAAAAAAAAAAAAAAAAAAAAAAAAAAAAAAAAAAAAAAAAAAAAAAAAAAAAAAAAAAAAAAAAAAAAAAAAAAAAAAAAAAAAAAAAAAAAAAAAAAAAAAAAAAAAAAAAAAAAAAAAAAAAAAAAAAAAAAAAAAAAAAAAAAAAAAAAAAAAAAAAAAAAAAAAAAAAAAAAAAAAAAAAAAAAAAAAAAAAAAAAAAAAAAAAAAAAAAAAAAAAAAAAAAAAAAAAAAAAAAAAAAAAAAAAAAAAAAAAAAAAAAAAAAAAAAAAAAAAAAAAAAAAAAAAAAAAAAAAAAAAAAAAAAAAAAAAAAAAAAAAAAAAAAAAAAAAAAAAAAAAAAAAAAAAAAAAAAAAAAAAAAAAAAAAAAAAAAAAAAAAAAAAAAAAAAAAAAAAAAAAAAAAAAAAAAAAAAAAAAAAAAAAAAAAAAAAAAAAAAAAAAAAAAAAAAAAAAAAAAAAAAAAAAAAAAAAAAAAAAAAAAAAAAAAAAAAAAAAAAAAAAAAAAAAAAAAAAAAAAAAAAAAAAAAAAAAAAAAAAAAAAAAAAAAAAAAAAAAAAAAAAAAAAAAAAAAAAAAAAAAAAAAAAAAAAAAAAAAAAAAAAAAAAAAAAAAAAAAAAAAAAAAAAAAAAAAAAAAAAAAAAAAAAAAAAAAAAAAAAAAAAAAAAAAAAAAAAAAAAAAAAAAAAAAAAAAAAAAAAAAAAAAAAAAAAAAAAAAAAAAAAAAAAAAAAAAAAAAAAAAAAAAAAAAAAAAAAAAAAAAAAAAAAAAAAAAAAAAAAAAAAAAAAAAAAAAAAAAAAAAAAAAAAAAAAAAAAAAAAAAAAAAAAAAAAAAAAAAAAAAAAAAAAAAAAAAAAAAAAAAAAAAAAAAAAAAAAAAAAAAAAAAAAAAAAAAAAAAAAAAAAAAAAAAAAAAAAAAAAAAAAAAAAAAAAAAAAAAAAAAAAAAAAAAAAAAAAAAAAAAAAAAAAAAAAAAAAAAAAAAAAAAAAAAAAAAAAAAAAAAAAAAAAAAAAAAAAAAAAAAAAAAAAAAAAAAAAAAAAAAAAAAAAAAAAAAAAAAAAAAAAAAAAAAAAAAAAAAAAAAAAAAAAAAAAAAAAAAAAAAAAAAAAAAAAAAAAAAAAAAAAAAAAAAAAAAAAAAAAAAAAAAAAAAAAAAAAAAAAAAAAAAAAAAAAAAAAAAAAAAAAAAAAAAAAAAAAAAAAAAAAAAAAAAAAAAAAAAAAAAAAAAAAAAAAAAAAAAAAAAAAAAAAAAAAAAAAAAAAAAAAAAAAAAAAAAAAAAAAAAAAAAAAAAAAAAAAAAAAAAAAAAAAAAAAAAAAAAAAAAAAAAAAAAAAAAAAAAAAAAAAAAAAAAAAAAAAAAAAAAAAAAAAAAAAAAAAAAAAAAAAAAAAAAAAAAAAAAAAAAAAAAAAAAAQgBpAGwAbABpAG8AbgBhAGkAcgBlAFMAUgBvAHkAAAD/4QsiaHR0cDovL25zLmFkb2JlLmNvbS94YXAvMS4wLwA8P3hwYWNrZXQgYmVnaW49J++7vycgaWQ9J1c1TTBNcENlaGlIenJlU3pOVGN6a2M5ZCc/Pg0KPHg6eG1wbWV0YSB4bWxuczp4PSJhZG9iZTpuczptZXRhLyI+PHJkZjpSREYgeG1sbnM6cmRmPSJodHRwOi8vd3d3LnczLm9yZy8xOTk5LzAyLzIyLXJkZi1zeW50YXgtbnMjIj48cmRmOkRlc2NyaXB0aW9uIHJkZjphYm91dD0idXVpZDpmYWY1YmRkNS1iYTNkLTExZGEtYWQzMS1kMzNkNzUxODJmMWIiIHhtbG5zOmRjPSJodHRwOi8vcHVybC5vcmcvZGMvZWxlbWVudHMvMS4xLyIvPjxyZGY6RGVzY3JpcHRpb24gcmRmOmFib3V0PSJ1dWlkOmZhZjViZGQ1LWJhM2QtMTFkYS1hZDMxLWQzM2Q3NTE4MmYxYiIgeG1sbnM6eG1wPSJodHRwOi8vbnMuYWRvYmUuY29tL3hhcC8xLjAvIj48eG1wOkNyZWF0ZURhdGU+MjAyMi0wNy0xOVQxMDowOTowOC45OTY8L3htcDpDcmVhdGVEYXRlPjwvcmRmOkRlc2NyaXB0aW9uPjxyZGY6RGVzY3JpcHRpb24gcmRmOmFib3V0PSJ1dWlkOmZhZjViZGQ1LWJhM2QtMTFkYS1hZDMxLWQzM2Q3NTE4MmYxYiIgeG1sbnM6ZGM9Imh0dHA6Ly9wdXJsLm9yZy9kYy9lbGVtZW50cy8xLjEvIj48ZGM6Y3JlYXRvcj48cmRmOlNlcSB4bWxuczpyZGY9Imh0dHA6Ly93d3cudzMub3JnLzE5OTkvMDIvMjItcmRmLXN5bnRheC1ucyMiPjxyZGY6bGk+QmlsbGlvbmFpcmVTUm95PC9yZGY6bGk+PC9yZGY6U2VxPg0KCQkJPC9kYzpjcmVhdG9yPjwvcmRmOkRlc2NyaXB0aW9uPjwvcmRmOlJERj48L3g6eG1wbWV0YT4NCiAgICAgICAgICAgICAgICAgICAgICAgICAgICAgICAgICAgICAgICAgICAgICAgICAgICAgICAgICAgICAgICAgICAgICAgICAgICAgICAgICAgICAgICAgICAgICAgICAgICAKICAgICAgICAgICAgICAgICAgICAgICAgICAgICAgICAgICAgICAgICAgICAgICAgICAgICAgICAgICAgICAgICAgICAgICAgICAgICAgICAgICAgICAgICAgICAgICAgICAgIAogICAgICAgICAgICAgICAgICAgICAgICAgICAgICAgICAgICAgICAgICAgICAgICAgICAgICAgICAgICAgICAgICAgICAgICAgICAgICAgICAgICAgICAgICAgICAgICAgICAgCiAgICAgICAgICAgICAgICAgICAgICAgICAgICAgICAgICAgICAgICAgICAgICAgICAgICAgICAgICAgICAgICAgICAgICAgICAgICAgICAgICAgICAgICAgICAgICAgICAgICAKICAgICAgICAgICAgICAgICAgICAgICAgICAgICAgICAgICAgICAgICAgICAgICAgICAgICAgICAgICAgICAgICAgICAgICAgICAgICAgICAgICAgICAgICAgICAgICAgICAgIAogICAgICAgICAgICAgICAgICAgICAgICAgICAgICAgICAgICAgICAgICAgICAgICAgICAgICAgICAgICAgICAgICAgICAgICAgICAgICAgICAgICAgICAgICAgICAgICAgICAgCiAgICAgICAgICAgICAgICAgICAgICAgICAgICAgICAgICAgICAgICAgICAgICAgICAgICAgICAgICAgICAgICAgICAgICAgICAgICAgICAgICAgICAgICAgICAgICAgICAgICAKICAgICAgICAgICAgICAgICAgICAgICAgICAgICAgICAgICAgICAgICAgICAgICAgICAgICAgICAgICAgICAgICAgICAgICAgICAgICAgICAgICAgICAgICAgICAgICAgICAgIAogICAgICAgICAgICAgICAgICAgICAgICAgICAgICAgICAgICAgICAgICAgICAgICAgICAgICAgICAgICAgICAgICAgICAgICAgICAgICAgICAgICAgICAgICAgICAgICAgICAgCiAgICAgICAgICAgICAgICAgICAgICAgICAgICAgICAgICAgICAgICAgICAgICAgICAgICAgICAgICAgICAgICAgICAgICAgICAgICAgICAgICAgICAgICAgICAgICAgICAgICAKICAgICAgICAgICAgICAgICAgICAgICAgICAgICAgICAgICAgICAgICAgICAgICAgICAgICAgICAgICAgICAgICAgICAgICAgICAgICAgICAgICAgICAgICAgICAgICAgICAgIAogICAgICAgICAgICAgICAgICAgICAgICAgICAgICAgICAgICAgICAgICAgICAgICAgICAgICAgICAgICAgICAgICAgICAgICAgICAgICAgICAgICAgICAgICAgICAgICAgICAgCiAgICAgICAgICAgICAgICAgICAgICAgICAgICAgICAgICAgICAgICAgICAgICAgICAgICAgICAgICAgICAgICAgICAgICAgICAgICAgICAgICAgICAgICAgICAgICAgICAgICAKICAgICAgICAgICAgICAgICAgICAgICAgICAgICAgICAgICAgICAgICAgICAgICAgICAgICAgICAgICAgICAgICAgICAgICAgICAgICAgICAgICAgICAgICAgICAgICAgICAgIAogICAgICAgICAgICAgICAgICAgICAgICAgICAgICAgICAgICAgICAgICAgICAgICAgICAgICAgICAgICAgICAgICAgICAgICAgICAgICAgICAgICAgICAgICAgICAgICAgICAgCiAgICAgICAgICAgICAgICAgICAgICAgICAgICAgICAgICAgICAgICAgICAgICAgICAgICAgICAgICAgICAgICAgICAgICAgICAgICAgICAgICAgICAgICAgICAgICAgICAgICAKICAgICAgICAgICAgICAgICAgICAgICAgICAgICAgICAgICAgICAgICAgICAgICAgICAgICAgICAgICAgICAgICAgICAgICAgICAgICAgICAgICAgICAgICAgICAgICAgICAgIAogICAgICAgICAgICAgICAgICAgICAgICAgICAgICAgICAgICAgICAgICAgICAgICAgICAgICAgICAgICAgICAgICAgICAgICAgICAgICAgICAgICAgICAgICAgICAgICAgICAgCiAgICAgICAgICAgICAgICAgICAgICAgICAgICAgICAgICAgICAgICAgICAgICAgICAgICAgICAgICAgICAgICAgICAgICAgICAgICAgICAgICAgICAgICAgICAgICAgICAgICAKICAgICAgICAgICAgICAgICAgICAgICAgICAgICAgICAgICAgICAgICAgICAgICAgICAgICAgICAgICAgICAgICAgICAgICAgICAgICAgICAgICAgICAgICAgICAgICAgICAgIAogICAgICAgICAgICAgICAgICAgICAgICAgICAgPD94cGFja2V0IGVuZD0ndyc/Pv/bAEMABwUFBgUEBwYFBggHBwgKEQsKCQkKFQ8QDBEYFRoZGBUYFxseJyEbHSUdFxgiLiIlKCkrLCsaIC8zLyoyJyorKv/bAEMBBwgICgkKFAsLFCocGBwqKioqKioqKioqKioqKioqKioqKioqKioqKioqKioqKioqKioqKioqKioqKioqKioqKv/AABEIAPcAtAMBIgACEQEDEQH/xAAfAAABBQEBAQEBAQAAAAAAAAAAAQIDBAUGBwgJCgv/xAC1EAACAQMDAgQDBQUEBAAAAX0BAgMABBEFEiExQQYTUWEHInEUMoGRoQgjQrHBFVLR8CQzYnKCCQoWFxgZGiUmJygpKjQ1Njc4OTpDREVGR0hJSlNUVVZXWFlaY2RlZmdoaWpzdHV2d3h5eoOEhYaHiImKkpOUlZaXmJmaoqOkpaanqKmqsrO0tba3uLm6wsPExcbHyMnK0tPU1dbX2Nna4eLj5OXm5+jp6vHy8/T19vf4+fr/xAAfAQADAQEBAQEBAQEBAAAAAAAAAQIDBAUGBwgJCgv/xAC1EQACAQIEBAMEBwUEBAABAncAAQIDEQQFITEGEkFRB2FxEyIygQgUQpGhscEJIzNS8BVictEKFiQ04SXxFxgZGiYnKCkqNTY3ODk6Q0RFRkdISUpTVFVWV1hZWmNkZWZnaGlqc3R1dnd4eXqCg4SFhoeIiYqSk5SVlpeYmZqio6Slpqeoqaqys7S1tre4ubrCw8TFxsfIycrS09TV1tfY2dri4+Tl5ufo6ery8/T19vf4+fr/2gAMAwEAAhEDEQA/APpGiiigAooooAKKKKACisy28RaZd3y2kFyGnZmUJjnK9a0iQqknoBk1KkpbMudOcHaSsLRWZZeItM1C7W2tLgSSsGO0D0ODWk7rHGzucKoyT7UKSkrphOnOD5ZKzForN0/xBpuqXAhsrgSSbN+0DoM4q/NKkEDzSnCRqWY+gFCkmrphKnOEuWSsx9FZ+na7p+qytHYziVlRZCAOgPSrd1cxWdrLc3DbYolLucZwBQpJq6egSpzjLkktSWiqOnazY6q8i2E4lMSoz4HQMMj9Knvb2DT7OS6un2QxjLNjOBQpJq6egOnNS5GtexPRVLT9WstU837DMJRCwVyOmSM1dpppq6FKMoPlkrMKKKKZIUUUUAFFFFABRRRQAUUUUAFRXUAubWWAsyCRSu5TgjPpUtFG402ndHnOl+A7+38Ri7nkZYGkfcVl+YAY2knvnvXfX1r9ssZbcu6eYpG5Dgj8asUVjTowppqPU68RjKuInGc91seeeHvA9/YeIBd3TssRLMdkvIIPAPrmu41Sy/tDTZrYO6F14KNtOfrVuiinRhTi4rqGIxtXEVFUnujz/wAKeCb7StaF1euVTbv/AHcn8WT8p9a7DW9PbU9Jmt0d1cjK7H25PYZ9K0KKIUYQhyLYK+Nq16qrT3Rwng7wZeaLqhub2QgBVdQknBYggqR3xnrXTeJNMk1bRJreBnEoBaMK+3c2CACfTmtWiiFGEIci2HWxtWtXVeW6/Q4rwV4Qu9BvZpbyRsBVKbH+ViV+YEex4Bra8V6PLrOiSQ2zOJlBKKH2hjjGD7c1t0URowjT9mtgqY2rUrrES+JHH+CvClzoEtw13IxwcR7X+VgQMnHrmuwooqqdONOPLExxGIniKjqVN2FFFFaGAUUUUAFFFFABRRRQAUUUUAFFFRXU32a1lmEbyeWpbZGMs2OwHrQNJt2RLRXm+leOdUuPEv2SeG4khWR8xrbjzMHGAw7Y9a9IrKlWjVTcTqxWEqYWSjU6q4UUUVqcgUUUUAFFFU9WvW0/S5rmOGaZ1ACpAm9sk4yB3xnP4Um7K7KjFykorqXKK8/8G+M9S1jVvs99HLKgjWPdFCNobJ+dz/DkDGOlegVnSqxqx5onRisLUwtT2dTcKKKK1OUKKKKACiiigAooooAKKKKACiiigAo60UUAZsHh/S7W7S5gs0SZGZ1cZyC33jWlRRSUVHZFynObvJ3CiiimQFFFFABTZI1ljaORQyOCrA9wadRQBn2GhabpkwlsLRIXEQhDKT9wHOPz79a0KKKSioqyKnOU3eTuwooopkhRRRQAUUUUAFFFFABRRRQAUUUUAFFFRXUJuLWWFZGjLqVDp1X3FA1ZvUqQa7ptzdLbwXkbyszKqA8kr1H4VoV5rpPgrVrfxOLuaWaOJpHzKrjeAMYJ9d3tXpVYUZzmm5qx24yhRoySoz5roKKKK3OEKgvL230+38+8lWKPcF3MeMnpU9c5400W71nR/LsZJPMBx5SsArgkctn0qKkpRi3FXZvh4QqVYxqOyfU27PULXUFkazmWYRuY3KnOGHarFcn4H8PXuh2s630kgO8qse4FCM/eH1rrKVOUpQTkrMeJp06dVwpyul1CiiitDnCiiigAooooAKKKKACiiigAooooAKKKKACiiigAooooAKKKKACiiigAooooAKKKKACiiigAooooAKKKKACiiigAooooAKKKKACormcWtrLOysyxqWIUZJx6CpaDzQNWvqed6X4/vLnxELS4icwCRgQsB3kHG0Edsd69ErKtvDWmWl+t5BBtnVnffuPJbrmtWsKMakU+d3O3GVcPVknQjyq2oVxfjPxjc6DeRw2cbHg7y8Z2kkcYb29K7Ss/UtEsNXaNr+HzTGCFyeBkYNVWjOULQdmRhKlGnVUq0eaPYi8Oaq2r6NFcSK6yYw5aMpk+oHpWrUNpaxWVpHbW4KxxqFUE54qarimopPcwqyjKo3BWQUUUVRmFFFFABRRRQAUUUUAFFFFABRRRQAUUUUAFFFFABRRRQAUVTi1fT551hhvIXkdmVVVxlivUD6VcJABJOAOpNJNPYqUZR0krBRVODVtPupkit7yGSRwSqq4JYDg4q5QmnsEoyi7SVgooopkhRRRQAUUUUAFFFFABRRRQAUUUUAFFFFABRRRQAUUUUAFRXUTzWssUUrQu6kLIo5U+oqWijcadnc8y0fwlrkHioXUr3EMbyPmcBC2Bjkjp83tXot9BJc2M0MEzwSOpCyIASp9s1YorClRjTTS6nZicbUxM4zklp5HmnhjwprVl4m+03Bnt4mLMXG0kjPRvTPtXpdFFOlRjSjaIsXi54uanNJW00CiiitjjCiiigAooooAKKKKACiiigAooooAKKKKACiiigAooooAKKKiubhLW1knlzsjUs2Bnge1Gw0m3ZEtFcBpvxDkuteW0uEVYPMYF1jbLDjbx2Prmu/rKnVhVV4nTicJVwzSqq1wooorU5QooooAKKKKACiiigAooooAKKKKACiiigAooooAKKKKACiiigAoIyMGiigDFtPCum2epi/hWT7QHdixbO7d1z6itqiipjGMfhRpUqzqO83cKKKKozCiiigAooooAKKKKACiiigAooooAKKKKACiiigAooooAKKKKACiiigAooooAKKKKACiiigAooooAKKKKACiiigAooooAKKKKACiiigAooooAK4geNbXS/iPr+ma9q0FpaQ2llJaRzMF+Z/O8wg9/upXb1zun+Hprfx3r2tXPkPbahbWcUK8l1MXm7sgjAB8xcYJ79KAMXTvH1hL4j8U3UmqxT6JplpaSI0XzBWfzd4GOSTtUYq1eeOI59K1KGK0v9J1KKxkubeO+hVTIqj7y4LA4JGQeRnpVfWfAd1quoeJZY57e3j1O3shakAkpLbvI+XXA+Ull6HnnpTb7wz4i8SXkl7rcenWUsGnz2trDa3Dyq7ygAu7FFwABwAD160ARaL4xnhvxNrl7ixi8PWt9KSo/1jfebjnJ9K14viBp585bzT9TsJY7drlIrqAK08a9WTDEHHXBwfasOb4c393ayQT3VvHu0O2sFdCWxNEQckYGVyPr7Vq2uha7rHiS01PxTDp9tFY28kKQ2czy+czjazMWVdox/Dz9aANOTxlo0eqaTYGdjNq8Xm2uFyCuMjJ7Zq/pmsWurtd/Y97LaztA7suFZl67T3FcDB8NdWt9H1JFvrZtRjdRo0zFttvGjFkDcepOcZ6Cu28L6KdA8OWthI4kmRS08i/xyMcsfzNAHN6X45Ww02SXXDc3Us+r3FlbJbxBmO1jtXHHYda04PH2mSRsbm2vrKWO8js5obmJQ0LuMoWwxG05HIJ6isy08E6lBc6dJJLalbXWp9QfDtzG4YAD5fvfMOOnvV278GyajeeKPtckawawkQgZCS8TJGAGIxwQwBHXpQBo6n4v0rSbq7t7ppS9nFHJL5abuZGKxoPV2I4HuKqSeP8ATbXTtRutTtL/AE5tNiSee3uYl8zy3O1XXaxBGQR1yMVht8PdS1DwVc2+s3NpNr1zex30sqhjA7RsNkZ6HbsUL+tMn8C6hf8AhzWbUaPo2k3d7BHDE0F1JNuCvuO5ygwPQAGgC34g+Id1pzaE1loOpeXqOpi1cTQKGaPy3bKDfwxIGM44DZxWte+O7CyuZ4vsOo3C2aq17LBCrJablDYf5s5AIJChsCneMtDv9Yt9JuNI+ztd6VqMd9HFcOUSbaroVLAErw5IODyBXM3XgLUBrmpXqaPpGpR6vItxKt5dyIbWTy1V1G1D5ifLkfdPWgDodV8dWNpcXFpY2t9qMkNuJppbKESJbqwJUsSR1HOACcdqs+BNTuNZ8C6VqN7L509xDveTGN3J5xWMfDXiDRdU1N/DcWmS2mqwxK63Erxm1dI/LyoCtvXaBxkdOvNb3g3R7nw/4O03Sr945Li1h2SPETtY5JyMgetAG3RRRQAUUUUAFFFFABRRRQAVCl3by3c1rHPG9xAqtLErAsgbO0kds7Tj6Gpq85juNbg+L3ir+wdPs73dY6d5v2m7MOz/AI+MYwjZzz6dKAPQEu7eW6lto542nhVWkiDAsgbO0kds4OPoadcXENpbyXF1KkMMalnkkYKqgdSSelea6bq19YeLPG9/rps9HuItPsMSK7XMaf6/aTwhY5/hFZ+reJdSutJ8VaJf3M95ENCku45rnTns5FOdpXa3VeQQaAPU59W061e2W5vreJrohbdXlUGUnoFz1/CotU17SNE8v+2NTtLDzM7PtMyx7vpk81594fsdQm+K0Uj6jG0UGh27pE1qCVQkZUNng5HWtLxnPdW/xG8NPY6WdUl8m5H2cSImRt65cgUAdpp2q6fq9v5+lXtvew5x5lvKHXP1FW682lt/EGiS6v4tTTbfTNwh8zT0ZZC8SH53YrwGweMZ4FTa9401VrTWL/w7JbmzsY4I4XkTcJJpHXPOegVsfWgD0OiuH1XUdW02OysbrxJjULhWmK2ejtPIy/7KKThR0yc59qx9P8Z+Idft/C0Fnc29nNqhu47qdrYk/uSoDKhIwTk8HpmgD1CoYbu3uZJo7eeOV4H2SqjgmNsZwfQ4I4rzKPxL4th0W91a51OzkTSNX/s6SBbTH2tBcLEXJ3fK2GyAOOPerN14r1KDUNUsdOS0trm68Rw6XDcmDIjV7dZDI4BG9sBgMkclaAPRBd25vGtBPGblYxI0O4bghJAbHXGQRn2qauA8Pwaja/GLU4NVvo7+RdDtyk6ReWxUzS8MoJGc55HbHFd/QAUUUUAFFFFABRRRQAUUUUAFFFFABVG30e0tdbvtVhRhd30cUc7FuCse7Zx2++1XqKAMW+8J6RqUmqPe25l/tWGOC6Bcjcse7ZjHQjeeRVGH4e6JGbx5ftdzLfWhs55ri5aR3iJztyenTtXUUUAZtpoFhZar/aMEbC4+ypabi2R5anIGKkuNItLnWLTU5UY3VorpEwbgBhg8VeooAr6hFJNptzFCiSSSRMqpJ91iRjB9q53QPA1lp3gSHw9eqHUkS3BjYjdJuD5B9MgflXVUUAYus+FdO1u6t7m5NxDc26GNJradon2HqpI6g1FpvgrRdJ/s77DA6f2aZjbZkJ2+aQXz69K36KAMV/CelPpl5YNE/kXt2byYbzkymQSZz2+YDimXXg3Rry31GGeByNQuVupWWQqyyqqqrow5UjYvIrdooAwtF8IaZoWqT6jaG5lvbiFYZp7mdpGkVSSMk+me1btFFABRRRQAUUUUAFFFFABRRRQAUUUUAFFFFABRRRQAUUUUAFFFFABRRRQAUUUUAFFFFABRRRQAUUUUAFFFFABRRRQB/9k=)\n",
        "\n",
        "**Problem Constraints**\n",
        "\n",
        "1 <= N <= 1000\n",
        "\n",
        "**Input Format**\n",
        "\n",
        "First line is an integer N\n",
        "\n",
        "**Output Format**\n",
        "\n",
        "N lines conatining only char '*' as per the question.\n",
        "\n",
        "**Example Input**\n",
        "\n",
        "Input 1:\n",
        "\n",
        "7\n",
        "\n",
        "Input 2:\n",
        "\n",
        "4\n",
        "\n",
        "**Example Output**\n",
        "\n",
        "See attached figure"
      ],
      "metadata": {
        "id": "Gn2IL6lcwkge"
      }
    },
    {
      "cell_type": "code",
      "execution_count": 1,
      "metadata": {
        "colab": {
          "base_uri": "https://localhost:8080/"
        },
        "id": "O9XXcg3PwdYD",
        "outputId": "2a8748ef-4327-43f5-be7b-2f05784e866e"
      },
      "outputs": [
        {
          "output_type": "stream",
          "name": "stdout",
          "text": [
            "7\n",
            "*******\n",
            "*    *\n",
            "*   *\n",
            "*  *\n",
            "* *\n",
            "**\n",
            "*\n"
          ]
        }
      ],
      "source": [
        "def main():\n",
        "    # YOUR CODE GOES HERE\n",
        "    # Please take input and print output to standard input/output (stdin/stdout)\n",
        "    # E.g. 'input()/raw_input()' for input & 'print' for output\n",
        "\n",
        "    N = int(input())\n",
        "\n",
        "    for i in range(N, 0, -1):\n",
        "        \n",
        "        if i == N or i == 2 or i == 1:\n",
        "            \n",
        "            print('*'*i)\n",
        "            \n",
        "        else:\n",
        "            \n",
        "            print('*' + ' '*(i-2) + '*')\n",
        "\n",
        "    return 0\n",
        "\n",
        "if __name__ == '__main__':\n",
        "    main()"
      ]
    },
    {
      "cell_type": "markdown",
      "source": [
        "**Q2. Characters Stair Pattern**\n",
        "\n",
        "**Problem Description**\n",
        "\n",
        "Given an integer N, print the corresponding pattern for N.\n",
        "\n",
        "For example if N = 4 then pattern will be like:\n",
        "\n",
        "A\n",
        "\n",
        "B B\n",
        "\n",
        "C C C\n",
        "\n",
        "D D D D\n",
        "\n",
        "**Problem Constraints**\n",
        "\n",
        "1 <= N <= 26\n",
        "\n",
        "**Input Format**\n",
        "\n",
        "First and only line of input contains a single integer N.\n",
        "\n",
        "**Output Format**\n",
        "\n",
        "Output the pattern corresponding to the given N.\n",
        "\n",
        "**NOTE:** There should be no extra spaces after last character or before first character in any row and all characters in any row in the pattern are space separated.\n",
        "\n",
        "**Example Input**\n",
        "\n",
        "Input 1:\n",
        "\n",
        " 2\n",
        "\n",
        "Input 2:\n",
        "\n",
        " 3\n",
        "\n",
        "**Example Output**\n",
        "\n",
        "Output 1:\n",
        "\n",
        "A\n",
        "\n",
        "B B\n",
        "\n",
        "Output 2:\n",
        "\n",
        "A\n",
        "\n",
        "B B\n",
        "\n",
        "C C C\n",
        "\n",
        "**Example Explanation**\n",
        "\n",
        " Print the pattern as described."
      ],
      "metadata": {
        "id": "G4xbNX8N3KUf"
      }
    },
    {
      "cell_type": "code",
      "source": [
        "def main():\n",
        "    # YOUR CODE GOES HERE\n",
        "    # Please take input and print output to standard input/output (stdin/stdout)\n",
        "    # E.g. 'input()/raw_input()' for input & 'print' for output\n",
        "\n",
        "    N = int(input())\n",
        "\n",
        "    k = 65\n",
        "\n",
        "    for i in range(1, N+1):\n",
        "        for j in range(1, i+1):\n",
        "            if j == i:\n",
        "                print(chr(k))\n",
        "            else:\n",
        "                print(chr(k), end = ' ')\n",
        "        k = k+1\n",
        "\n",
        "    return 0\n",
        "\n",
        "if __name__ == '__main__':\n",
        "    main()"
      ],
      "metadata": {
        "colab": {
          "base_uri": "https://localhost:8080/"
        },
        "id": "3JeHLZfB3rV-",
        "outputId": "eee93fe7-562f-48bb-9b68-d1e4b654757f"
      },
      "execution_count": 2,
      "outputs": [
        {
          "output_type": "stream",
          "name": "stdout",
          "text": [
            "4\n",
            "A\n",
            "B B\n",
            "C C C\n",
            "D D D D\n"
          ]
        }
      ]
    },
    {
      "cell_type": "markdown",
      "source": [
        "**Q3. Half Diamond**\n",
        "\n",
        "**Problem Description**\n",
        "\n",
        "Given an integer N, print the corresponding Half Diamond pattern with 2*N - 1 rows.\n",
        "\n",
        "For example if N = 5 then pattern will be like:\n",
        "\n",
        "![solid-right-half-daimond.jpg](data:image/jpeg;base64,/9j/4AAQSkZJRgABAQEAYABgAAD/4QCARXhpZgAASUkqAAgAAAAFABIBAwABAAAAAQAAABoBBQABAAAASgAAABsBBQABAAAAUgAAACgBAwABAAAAAgAAAGmHBAABAAAAWgAAAAAAAABgAAAAAQAAAGAAAAABAAAAAgACoAQAAQAAAIwAAAADoAQAAQAAAMgAAAAAAAAA/+ELkGh0dHA6Ly9ucy5hZG9iZS5jb20veGFwLzEuMC8APD94cGFja2V0IGJlZ2luPSfvu78nIGlkPSdXNU0wTXBDZWhpSHpyZVN6TlRjemtjOWQnPz4KPHg6eG1wbWV0YSB4bWxuczp4PSdhZG9iZTpuczptZXRhLycgeDp4bXB0az0nSW1hZ2U6OkV4aWZUb29sIDEwLjgwJz4KPHJkZjpSREYgeG1sbnM6cmRmPSdodHRwOi8vd3d3LnczLm9yZy8xOTk5LzAyLzIyLXJkZi1zeW50YXgtbnMjJz4KCiA8cmRmOkRlc2NyaXB0aW9uIHJkZjphYm91dD0nJwogIHhtbG5zOnBkZj0naHR0cDovL25zLmFkb2JlLmNvbS9wZGYvMS4zLyc+CiAgPHBkZjpBdXRob3I+bWFzdW0gYmhhaTwvcGRmOkF1dGhvcj4KIDwvcmRmOkRlc2NyaXB0aW9uPgoKIDxyZGY6RGVzY3JpcHRpb24gcmRmOmFib3V0PScnCiAgeG1sbnM6eG1wPSdodHRwOi8vbnMuYWRvYmUuY29tL3hhcC8xLjAvJz4KICA8eG1wOkNyZWF0b3JUb29sPkNhbnZhPC94bXA6Q3JlYXRvclRvb2w+CiA8L3JkZjpEZXNjcmlwdGlvbj4KPC9yZGY6UkRGPgo8L3g6eG1wbWV0YT4KICAgICAgICAgICAgICAgICAgICAgICAgICAgICAgICAgICAgICAgICAgICAgICAgICAgICAgICAgICAgICAgICAgICAgICAgICAgICAgICAgICAgICAgICAgICAgICAgICAgIAogICAgICAgICAgICAgICAgICAgICAgICAgICAgICAgICAgICAgICAgICAgICAgICAgICAgICAgICAgICAgICAgICAgICAgICAgICAgICAgICAgICAgICAgICAgICAgICAgICAgCiAgICAgICAgICAgICAgICAgICAgICAgICAgICAgICAgICAgICAgICAgICAgICAgICAgICAgICAgICAgICAgICAgICAgICAgICAgICAgICAgICAgICAgICAgICAgICAgICAgICAKICAgICAgICAgICAgICAgICAgICAgICAgICAgICAgICAgICAgICAgICAgICAgICAgICAgICAgICAgICAgICAgICAgICAgICAgICAgICAgICAgICAgICAgICAgICAgICAgICAgIAogICAgICAgICAgICAgICAgICAgICAgICAgICAgICAgICAgICAgICAgICAgICAgICAgICAgICAgICAgICAgICAgICAgICAgICAgICAgICAgICAgICAgICAgICAgICAgICAgICAgCiAgICAgICAgICAgICAgICAgICAgICAgICAgICAgICAgICAgICAgICAgICAgICAgICAgICAgICAgICAgICAgICAgICAgICAgICAgICAgICAgICAgICAgICAgICAgICAgICAgICAKICAgICAgICAgICAgICAgICAgICAgICAgICAgICAgICAgICAgICAgICAgICAgICAgICAgICAgICAgICAgICAgICAgICAgICAgICAgICAgICAgICAgICAgICAgICAgICAgICAgIAogICAgICAgICAgICAgICAgICAgICAgICAgICAgICAgICAgICAgICAgICAgICAgICAgICAgICAgICAgICAgICAgICAgICAgICAgICAgICAgICAgICAgICAgICAgICAgICAgICAgCiAgICAgICAgICAgICAgICAgICAgICAgICAgICAgICAgICAgICAgICAgICAgICAgICAgICAgICAgICAgICAgICAgICAgICAgICAgICAgICAgICAgICAgICAgICAgICAgICAgICAKICAgICAgICAgICAgICAgICAgICAgICAgICAgICAgICAgICAgICAgICAgICAgICAgICAgICAgICAgICAgICAgICAgICAgICAgICAgICAgICAgICAgICAgICAgICAgICAgICAgIAogICAgICAgICAgICAgICAgICAgICAgICAgICAgICAgICAgICAgICAgICAgICAgICAgICAgICAgICAgICAgICAgICAgICAgICAgICAgICAgICAgICAgICAgICAgICAgICAgICAgCiAgICAgICAgICAgICAgICAgICAgICAgICAgICAgICAgICAgICAgICAgICAgICAgICAgICAgICAgICAgICAgICAgICAgICAgICAgICAgICAgICAgICAgICAgICAgICAgICAgICAKICAgICAgICAgICAgICAgICAgICAgICAgICAgICAgICAgICAgICAgICAgICAgICAgICAgICAgICAgICAgICAgICAgICAgICAgICAgICAgICAgICAgICAgICAgICAgICAgICAgIAogICAgICAgICAgICAgICAgICAgICAgICAgICAgICAgICAgICAgICAgICAgICAgICAgICAgICAgICAgICAgICAgICAgICAgICAgICAgICAgICAgICAgICAgICAgICAgICAgICAgCiAgICAgICAgICAgICAgICAgICAgICAgICAgICAgICAgICAgICAgICAgICAgICAgICAgICAgICAgICAgICAgICAgICAgICAgICAgICAgICAgICAgICAgICAgICAgICAgICAgICAKICAgICAgICAgICAgICAgICAgICAgICAgICAgICAgICAgICAgICAgICAgICAgICAgICAgICAgICAgICAgICAgICAgICAgICAgICAgICAgICAgICAgICAgICAgICAgICAgICAgIAogICAgICAgICAgICAgICAgICAgICAgICAgICAgICAgICAgICAgICAgICAgICAgICAgICAgICAgICAgICAgICAgICAgICAgICAgICAgICAgICAgICAgICAgICAgICAgICAgICAgCiAgICAgICAgICAgICAgICAgICAgICAgICAgICAgICAgICAgICAgICAgICAgICAgICAgICAgICAgICAgICAgICAgICAgICAgICAgICAgICAgICAgICAgICAgICAgICAgICAgICAKICAgICAgICAgICAgICAgICAgICAgICAgICAgICAgICAgICAgICAgICAgICAgICAgICAgICAgICAgICAgICAgICAgICAgICAgICAgICAgICAgICAgICAgICAgICAgICAgICAgIAogICAgICAgICAgICAgICAgICAgICAgICAgICAgICAgICAgICAgICAgICAgICAgICAgICAgICAgICAgICAgICAgICAgICAgICAgICAgICAgICAgICAgICAgICAgICAgICAgICAgCiAgICAgICAgICAgICAgICAgICAgICAgICAgICAgICAgICAgICAgICAgICAgICAgICAgICAgICAgICAgICAgICAgICAgICAgICAgICAgICAgICAgICAgICAgICAgICAgICAgICAKICAgICAgICAgICAgICAgICAgICAgICAgICAgICAgICAgICAgICAgICAgICAgICAgICAgICAgICAgICAgICAgICAgICAgICAgICAgICAgICAgICAgICAgICAgICAgICAgICAgIAogICAgICAgICAgICAgICAgICAgICAgICAgICAgICAgICAgICAgICAgICAgICAgICAgICAgICAgICAgICAgICAgICAgICAgICAgICAgICAgICAgICAgICAgICAgICAgICAgICAgCiAgICAgICAgICAgICAgICAgICAgICAgICAgICAgICAgICAgICAgICAgICAgICAgICAgICAgICAgICAgICAgICAgICAgICAgICAgICAgICAgICAgICAgICAgICAgICAgICAgICAKPD94cGFja2V0IGVuZD0ndyc/Pv/iAihJQ0NfUFJPRklMRQABAQAAAhgAAAAAAhAAAG1udHJSR0IgWFlaIAAAAAAAAAAAAAAAAGFjc3AAAAAAAAAAAAAAAAAAAAAAAAAAAAAAAAAAAAABAAD21gABAAAAANMtAAAAAAAAAAAAAAAAAAAAAAAAAAAAAAAAAAAAAAAAAAAAAAAAAAAAAAAAAAAAAAAAAAAACWRlc2MAAADwAAAAdHJYWVoAAAFkAAAAFGdYWVoAAAF4AAAAFGJYWVoAAAGMAAAAFHJUUkMAAAGgAAAAKGdUUkMAAAGgAAAAKGJUUkMAAAGgAAAAKHd0cHQAAAHIAAAAFGNwcnQAAAHcAAAAPG1sdWMAAAAAAAAAAQAAAAxlblVTAAAAWAAAABwAcwBSAEcAQgAAAAAAAAAAAAAAAAAAAAAAAAAAAAAAAAAAAAAAAAAAAAAAAAAAAAAAAAAAAAAAAAAAAAAAAAAAAAAAAAAAAAAAAAAAAAAAAAAAAAAAAAAAWFlaIAAAAAAAAG+iAAA49QAAA5BYWVogAAAAAAAAYpkAALeFAAAY2lhZWiAAAAAAAAAkoAAAD4QAALbPcGFyYQAAAAAABAAAAAJmZgAA8qcAAA1ZAAAT0AAAClsAAAAAAAAAAFhZWiAAAAAAAAD21gABAAAAANMtbWx1YwAAAAAAAAABAAAADGVuVVMAAAAgAAAAHABHAG8AbwBnAGwAZQAgAEkAbgBjAC4AIAAyADAAMQA2/9sAQwAGBAUGBQQGBgUGBwcGCAoQCgoJCQoUDg8MEBcUGBgXFBYWGh0lHxobIxwWFiAsICMmJykqKRkfLTAtKDAlKCko/9sAQwEHBwcKCAoTCgoTKBoWGigoKCgoKCgoKCgoKCgoKCgoKCgoKCgoKCgoKCgoKCgoKCgoKCgoKCgoKCgoKCgoKCgo/8AAEQgAyACMAwEiAAIRAQMRAf/EAB8AAAEFAQEBAQEBAAAAAAAAAAABAgMEBQYHCAkKC//EALUQAAIBAwMCBAMFBQQEAAABfQECAwAEEQUSITFBBhNRYQcicRQygZGhCCNCscEVUtHwJDNicoIJChYXGBkaJSYnKCkqNDU2Nzg5OkNERUZHSElKU1RVVldYWVpjZGVmZ2hpanN0dXZ3eHl6g4SFhoeIiYqSk5SVlpeYmZqio6Slpqeoqaqys7S1tre4ubrCw8TFxsfIycrS09TV1tfY2drh4uPk5ebn6Onq8fLz9PX29/j5+v/EAB8BAAMBAQEBAQEBAQEAAAAAAAABAgMEBQYHCAkKC//EALURAAIBAgQEAwQHBQQEAAECdwABAgMRBAUhMQYSQVEHYXETIjKBCBRCkaGxwQkjM1LwFWJy0QoWJDThJfEXGBkaJicoKSo1Njc4OTpDREVGR0hJSlNUVVZXWFlaY2RlZmdoaWpzdHV2d3h5eoKDhIWGh4iJipKTlJWWl5iZmqKjpKWmp6ipqrKztLW2t7i5usLDxMXGx8jJytLT1NXW19jZ2uLj5OXm5+jp6vLz9PX29/j5+v/aAAwDAQACEQMRAD8A+mKKKK2MQopGZVIBYAt0BPWloAKKKKACiiigAooooAKKKKACiiigAooooAKKKKACiiigDwn4m6x4i07xxZyrcabe22hStqTzfYJP9Agn3W6CQLJ+9IDlsLtOIyfavadFS9j0q2XVLqG8vNuZJ4YvKRznqFycDGO5q7iilYdwooopiCiiigAooooAKKKKACiiigAooooAKKKKACiiigDxLx1411/SfiDpEE9hZbLGWV2MOqOkBinzFAbr93hCWIx94ZBPA5rV+Let+K7HwaLUWFkLvVLdbNDY6hIlwl65OFhGz51AAOcqcBs9K9Iu9J0q4a5+12FlI16ESfzYVPnhOUDZHzY5xnOKnubS0mlt57m3geS1YyQySICYSQQSpP3TgkZHY0rDuc98O9fv/E2hpqtza2NvYXCq1n9mu2uGK4IPmEouGBGCOcHIPSuqqvYWlrZW4isLeC3gLFwkKBFJY5JwOMkknPfNTK6tnawODg4OcH0piHUUUUAFFFFABRRRQAUUUUAFFFFABRRRQAUUUUAeF/FnVvEVh4ssvKm06+ttGl/txj9gk3WNuQ0ALkSYlx5jPtXacRE+gO98SZfE0HgW3gGraXfz6tG2mPCNPcC8kuCVTyyJP3YVW5LbhgE+1erYopWHc8s8CX3iS+8AXVydX0rT5rJFtVhbTXIsGtyVmSTMmZMhcZGPUDnFYXwc1PxFeeIbyK4k0/TrfUpT4g8r7DJvvYJfkDoxkIj5RSVIYjcOTnj3CjGKLBcKKKKYgooooAKKKKACiiigAooooAKKKKACiiigDyv4qfEC98M3+nWx0/U7OD+0oD9ri8iSO8twA0qAF9ydcEkADGdwzWz4h8aX+l+FW1W78NatZwmOczN5tuz2aqPkkceZgg5zhSSMdOldFq/hjR9YvHutTsUuZ3s5bAl2bHkSY3qBnAzgc9fenXvhvSr7RLXSLu083TrYxGOBpGI/dEFMnOWAKjg5zjnNIZxvw98bavrHgq2u28P6rfXNvZR+bO7wRm7uVIWVEXf8pDbvvBemMVn+B/iLfa14w17T49K1e6jF9Esccn2dFsINipIWIfLgSrMPl3/dxnPFekaXomn6U2oHT7cQfb7hrq42u2HlYAM2M8E4HTHrVHR/B+g6NPp82maelvLYW8lrbsjtlYnbeynJ+bLDPzZOST3NAXOB8R/EjUNP8f6Hpsmi6zbE/aUksV+zN9tLYEDK/mfKMrIQGKk8jBxXqmmzzXWn209zayWc8savJbyMrNExGSpKkgkHjI4rI1HwboGpXGoT3unrLNfvBJcSGRwzNAcxEEHK7T/dx3z1NdBQAUUUUxBRRRQAUUUUAFFFFABRRRQAUUUUAeefE34iW/hSB4IzLb3yXFqvmXNjM1u8ckqCTbIo2lghY4znjoelazePtITTE1GS31lLJrhrfzG0q4yCFDbymzcE5xuIxnNXPE/hHTPE91ZyawJp4LaOZFtSw8lzKhRmZccsFLAHPG40l34Ut7vwR/wjE+oak9obZbV7nzh9odBgEM+O4GDxyCaWo9Dmfh38SoPEHhaG7u4ru6v47OS7uXsdOn8glGxsjYghnIxhVJOQah0T4q2F94u1jTj9rmt4zaraQw6XceejOD5nnAr8gB24LBRjPWuz8OeGrHw7cam+lmWOC+nFwbXcPKhfaFJjXHy7sZPXmsvRPAGl6Pq9rqlpcX51CJ7l5p3lBa789gzCbj5gpC7emNoo1DQw/FPxQstI8U6Ppubm3je9mt71bjTbgu6pE5VoCFxJl1UfLu4Ycd6s+NviRaaL4QudRt4NQt7uSwlurNrvTZ/K8xchUlIX5CSBwxXgj1rU8TeAdK8R6hdX2oz332mW3jt4XjlCm02SCQPDx8rlgpJ5ztFaviLw9a+IIdPh1GW4aC0uo7vylYBZ2TlRIMfMucNjjkCjUNCv4O8U2fia0aSyF03lRxl55LSWCKUsCcxlwNw4PIyORzzXQ1keFdAtvDOjR6Xp8tw9nE7tCsz7jErMWEanA+Vc4A7AAVr0AFFFFMQUUUUAFFFFABRRRQAUUUUAYuv+IrbRjZK8cly9zfw2BWAqTE8v3WcEjA6H1welXrnUraG2klWWOUojsI43BZygywAzyRXnHxM+Fkfi/WvttrDplkwtpJGuRF+/uLsACESnHzRKAcjPPAxxV3xN8ObXVPAdno1lpGgWd9HtAkS3/d2hcr57wfLkMQDtzjkDPSkPQ6/Qdfs9Y0Gw1VGFtFeWkd6sc7KrxxuoYFhnjqPao9P8R2t5resabseFtNkgiaaUqEmaVA6hDnnqBzjnpXM+AvhvpvhzTNW0+80zSbmCeR4YpfJDSzWhIKRzkj5ivTuCAD1rn/BnwiTRfE1pq9/aaHcCQyyXNusJKWkqyZt2tQV+XC4Vs46A8mgND0bUPEdrZ63pGmhHmfUZJ41miKlIWiQuwc5yOhHGeeuKPEviWx0Hw7f6vITdRWdubporZlZ3jHdQTgjrz7V5z4z+ESa14mu9X0+00O3EZikt7doSI7uVpM3DXQC/NuXhcZwSTwa3PHvwy0vxLa6PY2um6XaWsDrDcTJEFnjtF3N5MBA+XLHB6YBbHJo1DQ70XluDh5okcFVZGcZVj0U+9ZvhzxFa65bzSxxyWzJeXFkI5yoZ3hdkcqATkZU/hXJaJ8O4LL4cz6Nd6P4cutVZGJdrbEFxMu4RSyjbndggtjuWxVf4Y/C+HwZq8tzNFp15+5jeG8aL/SYbgoVnCtjiNj8wAPG5hjFAaHp9FFFMQUUUUAFFFFABRRRQAUUUUAYvifxFa6Bp7XUsclyVngt2igKl1M0ixoSCRgZcVpi7ti4QXEJcuYwu8Z3AZK/XHOK88+Jvwyt/Gup2kqxWFoNkhur1Y/8AS3cJiABsfcVsMQTztUdM06++Hkc/wyTRYdG8NQ60IxICLbNrFckBXmQbc7sDjjsAeKQzrPDHiay1/wAP2erIGs47mFrgQ3LKsiIpwWYAkY9845FLZeI7S613VtMKPCdOFuWnkKiOXzgSoQ55+7jnHUYzXJ/D/wCGGmeFxrNpcWGm3tnPmG2uJIg9y9s6gvDMxHzLuBxycjGelYnhf4Px6X4pttXvbLQp4pJZ3ubMQkxWwDA2xtgV+VlA+bOMlieSBQGh6RqfiK1sdW0ew2PO+pXElsskRUrE8cbSNv544Rvxp2v+IbLRtA1DVWYXMVnayXjRwOrO8aAliozg9DXnPjz4SL4g8R3Wq6fa6LaskazQRtCcXdyZMytdYHzKUBUYyfnY9cVteOPhppniHSdI06z0rSLSCCVIppFh2yQ2uS0kcBA+UseM8cMx60ahod5ZXcV3EjIQJCiu0RI3JuGQGA6f/WqxXH/DHwgvg/QDaS22nLfFyst1aRbGukVm8t5eBl9p56jJOOtdhQAUUUUxBRRRQAUUUUAFFFFABRRRQBneIdZsvD+jXOqapI0dlbgNI6oXIBIA4AJPJFaNea/FjwReeKriyj0mW9tZLvFve3kd66xQQIGcZg3bZGZiFB2nGc9hiKz8JXn/AArV/tljqzeJSPtbW665Nve6VSi7Z/MyqHrtzgA88ikM77QdZste04X2mSNJbGWSHcyFDujcowwQDwykfhRFrNlLr9xoySMdQgt0upE2HAjdmVTuxg5KNxntXnHwz+H2oaJcX1t4jmv71UjzbXY1GQRuZ1JuF8kNhWEjOQ+MkMDnIJrHsPhvrP8Awl32y8GrHQ7id7B7T+2pfMitIwWgmaQSbnBcy5jycCReMg0XYWR6/rGs2WkPp638jI1/dLZwbULbpWDEA4HAwp5PFaNePfE3wHrera+154ae/gWGM6kzf2pIqXN2pCpAib8RZTf+8XGCRyOa9N8MaZFpGhWlnBHcxqql2S5uWuJFZiWYGRiS3JPOfpQBqUUUUxBRRRQAUUUUAFFFFABRRRQAUUUUAQX95bafZT3d9PHb2sCGSWWVgqoo6kk9BUsUiTRJLEweN1DKynIIPQivOvjJo+s6tpkdnoV/qSNqn/Erlt4oY5LZY5Mh5ptyllCrnlSCTtHfNV/C9h4gn8A3d1q2seJLTVlHzwR28AeFoCwK26eXh0fHBIO4beetK47HothqFpqAnNjcw3Agme3lMThtkinDIcdGB6ij+0LMamNO+0w/bzD9oFvvG/y923ft64yQM+teS/CTSPFVvrUw8R3mq2qS51hYo7eJbeZrgNvjmby8+ajclQQOhAFZUmieME8eCZdV8RtpSSDQjqH2SA3mxgJTMP3WDCGCrvxnOTnjFFwse80UyFDHCiM7SFVALt1bHc+9PpiCiiigAooooAKKKKACiiigAooooAKKKKACiuG+LWuaroPhye40+1tZrSWGS3lZrtoLgSvhIhCAjbmJJ4yOccjk1lfDzxB4o1TwMJYNP0szWMEdogutRkaV54iEmFwfL/dsME/xc98HNK47Hp1FeL/CzxlrmteJ9Wt4rG1+z3l5/aAe51J322mBCTbL5fzp5kUhB+UfMOOQT7RQmFrBRRRTEFFFFABRRRQAUUUUAFFFFABRRRQAUUUUAQXlna3qxLeW8M4ikWaMSoG2SKcqwz0YHoeopsFhZ26XCQWlvGty7SThIwBK7feZuPmJ7k1keONXv9B0N9T0+DT5orYmW7+23TW6rCFJJVgjfNnHGPWuI+BviDXdV0xbG+s44obEyLdPd3zyXqvI3mxhkKcLscYO48AdMEBDPSrXSdOtXtntbC0he2h+zwNHCqmKLj5FIHC8DgccVdoopiCiiigAooooAKKKKACiiigAooooAKKKKACiiigCC+s7bULSW1v7eG5tZRiSGZA6OPQg8GiGytYbu4uobaGO5uNvnSqgDybRhdx6nA6Z6UUUAT0UUUAFFFFABRRRQAUUUUAFFFFABRRRQAUUUUAf/9k=)\n",
        "\n",
        "NOTE: There should be no spaces after any * .\n",
        "\n",
        "**Problem Constraints**\n",
        "\n",
        "2 <= N <= 100\n",
        "\n",
        "**Input Format**\n",
        "\n",
        "First and only line of input contains a single integer N.\n",
        "\n",
        "**Output Format**\n",
        "\n",
        "Output the Half Diamond pattern corresponding to the given N.\n",
        "\n",
        "**Example Input**\n",
        "\n",
        "Input 1:\n",
        "\n",
        " 2\n",
        "\n",
        "Input 2:\n",
        "\n",
        " 3\n",
        "\n",
        "**Example Output**\n",
        "\n",
        " Print the pattern as described.\n"
      ],
      "metadata": {
        "id": "qfGzM9gA4AN4"
      }
    },
    {
      "cell_type": "code",
      "source": [
        "def main():\n",
        "    # YOUR CODE GOES HERE\n",
        "    # Please take input and print output to standard input/output (stdin/stdout)\n",
        "    # E.g. 'input()/raw_input()' for input & 'print' for output\n",
        "\n",
        "    N = int(input())\n",
        "\n",
        "    for i in range(1, (2*N)):\n",
        "        if i <= N:\n",
        "            print('*'*i)\n",
        "        else:\n",
        "            print('*'*(2*N-i))\n",
        "\n",
        "    return 0\n",
        "\n",
        "if __name__ == '__main__':\n",
        "    main()"
      ],
      "metadata": {
        "colab": {
          "base_uri": "https://localhost:8080/"
        },
        "id": "5Gpui8RY4Qlm",
        "outputId": "5068be66-1d33-4297-9296-47d523b42819"
      },
      "execution_count": 3,
      "outputs": [
        {
          "output_type": "stream",
          "name": "stdout",
          "text": [
            "5\n",
            "*\n",
            "**\n",
            "***\n",
            "****\n",
            "*****\n",
            "****\n",
            "***\n",
            "**\n",
            "*\n"
          ]
        }
      ]
    },
    {
      "cell_type": "markdown",
      "source": [
        "**Q4. Full Numeric Pyramid**\n",
        "\n",
        "**Problem Description**\n",
        "\n",
        "Given an integer N, print the corresponding Full Numeric Pyramid pattern for N.\n",
        "\n",
        "For example if N = 5 then pattern will be like:\n",
        "\n",
        "0 0 0 0 1 0 0 0 0 \n",
        "\n",
        "0 0 0 2 3 2 0 0 0 \n",
        "\n",
        "0 0 3 4 5 4 3 0 0\n",
        "\n",
        "0 4 5 6 7 6 5 4 0\n",
        "\n",
        "5 6 7 8 9 8 7 6 5 \n",
        "\n",
        "**NOTE:** There should be exactly one extra space after each number for each row.\n",
        "\n",
        "**Problem Constraints**\n",
        "\n",
        "2 <= N <= 100\n",
        "\n",
        "**Input Format**\n",
        "\n",
        "First and only line of input contains a single integer N.\n",
        "\n",
        "**Output Format**\n",
        "\n",
        "Output the Full Pyramid pattern corresponding to the given N.\n",
        "\n",
        "**NOTE:**\n",
        "\n",
        "There is no extra space before the first integer of any row.\n",
        "There is an extra space after the last integer of any row.\n",
        "All the integers in any row are space separated.\n",
        "\n",
        "**Example Input**\n",
        "\n",
        "Input 1:\n",
        "\n",
        " 2\n",
        "\n",
        "Input 2:\n",
        "\n",
        " 3\n",
        "\n",
        "**Example Output**\n",
        "\n",
        "Output 1:\n",
        "\n",
        "0 1 0\n",
        "\n",
        "2 3 2\n",
        "\n",
        "Output 2:\n",
        "\n",
        "0 0 1 0 0\n",
        "\n",
        "0 2 3 2 0\n",
        "\n",
        "3 4 5 4 3\n",
        "\n",
        "**Example Explanation**\n",
        "\n",
        " Print the pattern as described."
      ],
      "metadata": {
        "id": "m6Tqym4p43T1"
      }
    },
    {
      "cell_type": "code",
      "source": [
        "def main():\n",
        "    # YOUR CODE GOES HERE\n",
        "    # Please take input and print output to standard input/output (stdin/stdout)\n",
        "    # E.g. 'input()/raw_input()' for input & 'print' for output\n",
        "\n",
        "    N = int(input())\n",
        "\n",
        "    for i in range(1, N+1):\n",
        "        print('0 '*(N-i), end = '')\n",
        "        k = i\n",
        "        p = 2\n",
        "        # counter = 0\n",
        "        for j in range(1, 2*i):\n",
        "            # counter = counter+1\n",
        "            # if counter <= i:\n",
        "            if j <= i:\n",
        "                print(k, end = ' ')\n",
        "            else:\n",
        "                print(k-p, end = ' ')\n",
        "                p = p+2\n",
        "\n",
        "            k = k + 1\n",
        "        print('0 '*(N-i))\n",
        "\n",
        "\n",
        "    return 0\n",
        "\n",
        "if __name__ == '__main__':\n",
        "    main()"
      ],
      "metadata": {
        "colab": {
          "base_uri": "https://localhost:8080/"
        },
        "id": "aBCu-yxh5pda",
        "outputId": "b7a1de90-a189-456c-8d81-e4a2d4c09849"
      },
      "execution_count": 5,
      "outputs": [
        {
          "output_type": "stream",
          "name": "stdout",
          "text": [
            "5\n",
            "0 0 0 0 1 0 0 0 0 \n",
            "0 0 0 2 3 2 0 0 0 \n",
            "0 0 3 4 5 4 3 0 0 \n",
            "0 4 5 6 7 6 5 4 0 \n",
            "5 6 7 8 9 8 7 6 5 \n"
          ]
        }
      ]
    },
    {
      "cell_type": "markdown",
      "source": [
        "**Q5. Inverted Numeric Pyramid**\n",
        "\n",
        "**Problem Description**\n",
        "\n",
        "Given an integer N, print the corresponding Numeric Inverted Half Pyramid pattern for N.\n",
        "\n",
        "For example if N = 4 then pattern will be like:\n",
        "\n",
        "1 2 3 4\n",
        "\n",
        "1 2 3\n",
        "\n",
        "1 2\n",
        "\n",
        "1\n",
        "\n",
        "**Problem Constraints**\n",
        "\n",
        "1 <= N <= 100\n",
        "\n",
        "**Input Format**\n",
        "\n",
        "First and only line of input contains a single integer N.\n",
        "\n",
        "**Output Format**\n",
        "\n",
        "Output the Numeric Inverted Half Pyramid pattern corresponding to the given N.\n",
        "\n",
        "**NOTE:** There should be no extra spaces after last integer and before first integer in any row and all integers in any row in the pattern are space separated.\n",
        "\n",
        "**Example Input**\n",
        "\n",
        "Input 1:\n",
        "\n",
        " 2\n",
        "\n",
        "Input 2:\n",
        "\n",
        " 3\n",
        "\n",
        "**Example Output**\n",
        "\n",
        "Output 1:\n",
        "\n",
        "1 2\n",
        "\n",
        "1\n",
        "\n",
        "Output 2:\n",
        "\n",
        "1 2 3\n",
        "\n",
        "1 2\n",
        "\n",
        "1\n",
        "\n",
        "**Example Explanation**\n",
        "\n",
        " Print the pattern as described."
      ],
      "metadata": {
        "id": "_HpzJnpZ51Pr"
      }
    },
    {
      "cell_type": "code",
      "source": [
        "def main():\n",
        "    # YOUR CODE GOES HERE\n",
        "    # Please take input and print output to standard input/output (stdin/stdout)\n",
        "    # E.g. 'input()/raw_input()' for input & 'print' for output\n",
        "\n",
        "    N = int(input())\n",
        "\n",
        "    for i in range(N, 0, -1):\n",
        "        for j in range(1, i+1):\n",
        "            if j == i:\n",
        "                print(j)\n",
        "            else:\n",
        "                print(j, end = ' ')\n",
        "\n",
        "    return 0\n",
        "\n",
        "if __name__ == '__main__':\n",
        "    main()"
      ],
      "metadata": {
        "colab": {
          "base_uri": "https://localhost:8080/"
        },
        "id": "dzfLsfzq6D9A",
        "outputId": "fdd581c6-df55-4cc3-acc2-69f37edf2338"
      },
      "execution_count": 6,
      "outputs": [
        {
          "output_type": "stream",
          "name": "stdout",
          "text": [
            "5\n",
            "1 2 3 4 5\n",
            "1 2 3 4\n",
            "1 2 3\n",
            "1 2\n",
            "1\n"
          ]
        }
      ]
    }
  ]
}