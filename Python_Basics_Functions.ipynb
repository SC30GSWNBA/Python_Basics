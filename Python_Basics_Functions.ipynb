{
  "nbformat": 4,
  "nbformat_minor": 0,
  "metadata": {
    "colab": {
      "name": "Python_Basics: Functions.ipynb",
      "provenance": [],
      "collapsed_sections": []
    },
    "kernelspec": {
      "name": "python3",
      "display_name": "Python 3"
    },
    "language_info": {
      "name": "python"
    }
  },
  "cells": [
    {
      "cell_type": "markdown",
      "source": [
        "**Q1. Add the numbers**\n",
        "\n",
        "**Problem Description**\n",
        "\n",
        "Given two numbers A & B. Return their sum.\n",
        "\n",
        "**Problem Constraints**\n",
        "\n",
        "1 <= A <= 10^7\n",
        "\n",
        "1 <= B <= 10^7\n",
        "\n",
        "**Input Format**\n",
        "\n",
        "First argument is an integer A.\n",
        "\n",
        "Second argument is an integer B.\n",
        "\n",
        "**Output Format**\n",
        "\n",
        "Return an integer which is the sum of A & B.\n",
        "\n",
        "**Example Input**\n",
        "\n",
        "Input 1:\n",
        "\n",
        "A = 4, B = 3\n",
        "\n",
        "Input 2:\n",
        "\n",
        "A = 14, B = 34\n",
        "\n",
        "**Example Output**\n",
        "\n",
        "Output 1:\n",
        "\n",
        "7\n",
        "\n",
        "Output 2:\n",
        "\n",
        "48\n",
        "\n",
        "**Example Explanation**\n",
        "\n",
        "Explanation 1:\n",
        "\n",
        "4 + 3 = 7\n",
        "\n",
        "Explanation 2:\n",
        "\n",
        "14 + 34 = 48"
      ],
      "metadata": {
        "id": "ZUwtNg4BE__B"
      }
    },
    {
      "cell_type": "code",
      "execution_count": null,
      "metadata": {
        "colab": {
          "base_uri": "https://localhost:8080/"
        },
        "id": "LWTjtRC7E4aH",
        "outputId": "803cf92a-c314-4ec2-b720-05bdcad2a48a"
      },
      "outputs": [
        {
          "output_type": "stream",
          "name": "stdout",
          "text": [
            "48\n"
          ]
        }
      ],
      "source": [
        "class Solution:\n",
        "    # param A : integer\n",
        "    # param B : integer\n",
        "    # return an integer\n",
        "    def solve(self, A, B):\n",
        "\n",
        "        return A+B\n",
        "\n",
        "\n",
        "X = Solution()\n",
        "print(X.solve(14, 34))"
      ]
    },
    {
      "cell_type": "markdown",
      "source": [
        "**Q2. Multiply the numbers**\n",
        "\n",
        "**Problem Description**\n",
        "\n",
        "Given two numbers A & B. Return their product.\n",
        "\n",
        "**Problem Constraints**\n",
        "\n",
        "1 <= A <= 10^4\n",
        "\n",
        "1 <= B <= 10^4\n",
        "\n",
        "**Input Format**\n",
        "\n",
        "First argument is an integer A.\n",
        "\n",
        "Second argument is an integer B.\n",
        "\n",
        "**Output Format**\n",
        "\n",
        "Return an integer which is the product of A & B.\n",
        "\n",
        "**Example Input**\n",
        "\n",
        "Input 1:\n",
        "\n",
        "A = 4, B = 3\n",
        "\n",
        "Input 2:\n",
        "\n",
        "A = 14, B = 34\n",
        "\n",
        "**Example Output**\n",
        "\n",
        "Output 1:\n",
        "\n",
        "12\n",
        "\n",
        "Output 2:\n",
        "\n",
        "476\n",
        "\n",
        "**Example Explanation**\n",
        "\n",
        "Explanation 1:\n",
        "\n",
        "4 * 3 = 12\n",
        "\n",
        "Explanation 2:\n",
        "\n",
        "14 * 34 = 476"
      ],
      "metadata": {
        "id": "zFu2tufDFiPR"
      }
    },
    {
      "cell_type": "code",
      "source": [
        "class Solution:\n",
        "    # param A : integer\n",
        "    # param B : integer\n",
        "    # return an integer\n",
        "    def solve(self, A, B):\n",
        "\n",
        "        return A*B\n",
        "\n",
        "X = Solution()\n",
        "print(X.solve(14, 34))"
      ],
      "metadata": {
        "colab": {
          "base_uri": "https://localhost:8080/"
        },
        "id": "oXvaNsmpE_zL",
        "outputId": "aced19cc-9df6-48fb-88d5-7b09e0808b31"
      },
      "execution_count": null,
      "outputs": [
        {
          "output_type": "stream",
          "name": "stdout",
          "text": [
            "476\n"
          ]
        }
      ]
    },
    {
      "cell_type": "markdown",
      "source": [
        "**Q3. Square of a number**\n",
        "\n",
        "**Problem Description**\n",
        "\n",
        "Given a number A. Return square of the number.\n",
        "\n",
        "**Problem Constraints**\n",
        "\n",
        "1 <= A <= 10^4\n",
        "\n",
        "**Input Format**\n",
        "\n",
        "First argument is an integer A.\n",
        "\n",
        "**Output Format**\n",
        "\n",
        "Return an integer which is the square of A.\n",
        "\n",
        "**Example Input**\n",
        "\n",
        "Input 1:\n",
        "\n",
        "A = 4\n",
        "\n",
        "Input 2:\n",
        "\n",
        "A = 14\n",
        "\n",
        "**Example Output**\n",
        "\n",
        "Output 1:\n",
        "\n",
        "16\n",
        "\n",
        "Output 2:\n",
        "\n",
        "196\n",
        "\n",
        "**Example Explanation**\n",
        "\n",
        "Explanation 1:\n",
        "\n",
        "square(4) = 16\n",
        "\n",
        "Explanation 2:\n",
        "\n",
        "square(14) = 196"
      ],
      "metadata": {
        "id": "Omn2eAPWF1iO"
      }
    },
    {
      "cell_type": "code",
      "source": [
        "class Solution:\n",
        "    # param A : integer\n",
        "    # return an integer\n",
        "    def solve(self, A):\n",
        "\n",
        "        return A*A\n",
        "\n",
        "X = Solution()\n",
        "print(X.solve(14))\n",
        "print(X.solve(34))"
      ],
      "metadata": {
        "colab": {
          "base_uri": "https://localhost:8080/"
        },
        "id": "z2hclAjcGDup",
        "outputId": "d142dc59-6f8d-454c-be34-d3e89a4d1146"
      },
      "execution_count": null,
      "outputs": [
        {
          "output_type": "stream",
          "name": "stdout",
          "text": [
            "196\n",
            "1156\n"
          ]
        }
      ]
    },
    {
      "cell_type": "markdown",
      "source": [
        "**Q4. Square root of a number**\n",
        "\n",
        "**Problem Description**\n",
        "\n",
        "Given a number A. Return square root of the number if it is perfect square otherwise return -1.\n",
        "\n",
        "**Problem Constraints**\n",
        "\n",
        "1 <= A <= 10^8\n",
        "\n",
        "**Input Format**\n",
        "\n",
        "First argument is an integer A.\n",
        "\n",
        "**Output Format**\n",
        "\n",
        "Return an integer which is the square root of A if A is perfect square otherwise return -1.\n",
        "\n",
        "**Example Input**\n",
        "\n",
        "Input 1:\n",
        "\n",
        "A = 4\n",
        "\n",
        "Input 2:\n",
        "\n",
        "A = 1001\n",
        "\n",
        "**Example Output**\n",
        "\n",
        "Output 1:\n",
        "\n",
        "2\n",
        "\n",
        "Output 2:\n",
        "\n",
        "-1\n",
        "\n",
        "**Example Explanation**\n",
        "\n",
        "Explanation 1:\n",
        "\n",
        "sqrt(4) = 2\n",
        "\n",
        "Explanation 2:\n",
        "\n",
        "1001 is not a perfect square."
      ],
      "metadata": {
        "id": "YgqgtA1_GNUO"
      }
    },
    {
      "cell_type": "code",
      "source": [
        "class Solution:\n",
        "    # param A : integer\n",
        "    # return an integer\n",
        "    def solve(self, A):\n",
        "\n",
        "        A_sqrt = int(A ** 0.5)\n",
        "\n",
        "        if A_sqrt ** 2 == A:\n",
        "\n",
        "            return A_sqrt\n",
        "\n",
        "        else:\n",
        "\n",
        "            return -1\n",
        "\n",
        "X = Solution()\n",
        "print(X.solve(14))\n",
        "print(X.solve(36))"
      ],
      "metadata": {
        "colab": {
          "base_uri": "https://localhost:8080/"
        },
        "id": "40D-yCHZGa83",
        "outputId": "f8e7c3e1-908b-420e-bb97-5dd79cba9c23"
      },
      "execution_count": null,
      "outputs": [
        {
          "output_type": "stream",
          "name": "stdout",
          "text": [
            "-1\n",
            "6\n"
          ]
        }
      ]
    },
    {
      "cell_type": "markdown",
      "source": [
        "**Q5. Is Perfect Square?**\n",
        "\n",
        "**Problem Description**\n",
        "\n",
        "Given a number A. Return 1 if it is perfect square otherwise return 0.\n",
        "\n",
        "**Problem Constraints**\n",
        "\n",
        "1 <= A <= 10^8\n",
        "\n",
        "**Input Format**\n",
        "\n",
        "First line consists of a single integer T.\n",
        "\n",
        "Next, each of the test case consists of an integer A.\n",
        "\n",
        "**Output Format**\n",
        "\n",
        "Return an integer (0 or 1) based upon the question.\n",
        "\n",
        "**Example Input**\n",
        "\n",
        "Input 1:\n",
        "\n",
        "1\n",
        "\n",
        "4\n",
        "Input 2:\n",
        "\n",
        "1\n",
        "\n",
        "1001\n",
        "\n",
        "**Example Output**\n",
        "\n",
        "Output 1:\n",
        "\n",
        "1\n",
        "\n",
        "Output 2:\n",
        "\n",
        "0\n",
        "\n",
        "**Example Explanation**\n",
        "\n",
        "Explanation 1:\n",
        "\n",
        "sqrt(4) = 2\n",
        "\n",
        "Explanation 2:\n",
        "\n",
        "1001 is not a perfect square."
      ],
      "metadata": {
        "id": "tzyezEswGmqu"
      }
    },
    {
      "cell_type": "code",
      "source": [
        "def issquare(num):\n",
        "    ans  = None\n",
        "    # YOUR CODE GOES HERE\n",
        "\n",
        "    import math\n",
        "\n",
        "    sqrt_num = int(math.sqrt(num))\n",
        "\n",
        "    if sqrt_num * sqrt_num == num:\n",
        "        ans = 1\n",
        "    else:\n",
        "        ans = 0\n",
        "\n",
        "    return ans\n",
        "\n",
        "print(issquare(14))\n",
        "print(issquare(36))"
      ],
      "metadata": {
        "colab": {
          "base_uri": "https://localhost:8080/"
        },
        "id": "BEJXQuxsG2Wt",
        "outputId": "dfca43be-bd3d-4b79-af0c-519d29e01262"
      },
      "execution_count": null,
      "outputs": [
        {
          "output_type": "stream",
          "name": "stdout",
          "text": [
            "0\n",
            "1\n"
          ]
        }
      ]
    },
    {
      "cell_type": "markdown",
      "source": [
        "**Q6. Area of Square**\n",
        "\n",
        "**Problem Description**\n",
        "\n",
        "You are given a positive integer A denoting the side of a square. You have to calculate the area of the square.\n",
        "\n",
        "Area of a square having side S is given by (S * S).\n",
        "\n",
        "**Problem Constraints**\n",
        "\n",
        "1 <= A <= 1000\n",
        "\n",
        "**Input Format**\n",
        "\n",
        "First and only argument is an integer A.\n",
        "\n",
        "**Output Format**\n",
        "\n",
        "Return a single integer denoting the area of the square.\n",
        "\n",
        "**Example Input**\n",
        "\n",
        "Input 1:\n",
        "\n",
        " A = 1 \n",
        "\n",
        "Input 2:\n",
        "\n",
        " A = 4 \n",
        "\n",
        "**Example Output**\n",
        "\n",
        "Output 1:\n",
        "\n",
        " 1 \n",
        "\n",
        "Output 2:\n",
        "\n",
        " 16 \n",
        "\n",
        "**Example Explanation**\n",
        "\n",
        "Explanation 1:\n",
        "\n",
        "Area = 1*1 = 1\n",
        "\n",
        "Explanation 2:\n",
        "\n",
        "Area = 4*4 = 16"
      ],
      "metadata": {
        "id": "AbjcXnhsHFJ5"
      }
    },
    {
      "cell_type": "code",
      "source": [
        "class Solution:\n",
        "    # param A : integer\n",
        "    # return an integer\n",
        "    def solve(self, A):\n",
        "\n",
        "        return A*A\n",
        "\n",
        "X = Solution()\n",
        "print(X.solve(4))"
      ],
      "metadata": {
        "colab": {
          "base_uri": "https://localhost:8080/"
        },
        "id": "-ymC5w3fHkWf",
        "outputId": "fe794065-fd2c-4fa7-b829-8c272a1e5b0c"
      },
      "execution_count": null,
      "outputs": [
        {
          "output_type": "stream",
          "name": "stdout",
          "text": [
            "16\n"
          ]
        }
      ]
    },
    {
      "cell_type": "markdown",
      "source": [
        "**Q7. Area of Circle**\n",
        "\n",
        "**Problem Description**\n",
        "\n",
        "You are given a positive integer A denoting the radius of a circle. You have to calculate the area of the circle.\n",
        "\n",
        "Arae of a circle having radius R is given by (π * R2).\n",
        "\n",
        "**NOTE:** Since, the answer can be a real number, you have to return the ceil value of the area. Ceil value of a real number X is the smallest integer that is greater than or equal to X.\n",
        "\n",
        "**Problem Constraints**\n",
        "\n",
        "1 <= A <= 1000\n",
        "\n",
        "**Input Format**\n",
        "\n",
        "First and only argument is an integer A.\n",
        "\n",
        "**Output Format**\n",
        "\n",
        "Return a single integer denoting the ceil value of area of the circle.\n",
        "\n",
        "**Example Input**\n",
        "\n",
        "Input 1:\n",
        "\n",
        " A = 1 \n",
        "\n",
        "Input 2:\n",
        "\n",
        " A = 4 \n",
        "\n",
        "**Example Output**\n",
        "\n",
        "Output 1:\n",
        "\n",
        " 4 \n",
        "\n",
        "Output 2:\n",
        "\n",
        " 51 \n",
        "\n",
        "**Example Explanation**\n",
        "\n",
        "Explanation 1:\n",
        "\n",
        " Area of circle having radius 1 units = 3.14\n",
        "\n",
        " Ceil value = 4 \n",
        "\n",
        "Explanation 2:\n",
        "\n",
        " Area of circle having radius 4 units = 50.27\n",
        " \n",
        " Ceil value of volume = 51 "
      ],
      "metadata": {
        "id": "CbeIZIgQH3aQ"
      }
    },
    {
      "cell_type": "code",
      "source": [
        "class Solution:\n",
        "    # param A : integer\n",
        "    # return an integer\n",
        "    def solve(self, A):\n",
        "        \n",
        "        import math\n",
        "\n",
        "        return math.ceil(math.pi * A * A)\n",
        "\n",
        "X = Solution()\n",
        "print(X.solve(10))"
      ],
      "metadata": {
        "colab": {
          "base_uri": "https://localhost:8080/"
        },
        "id": "K293ycelJgaD",
        "outputId": "4a5c70fc-ffeb-45f8-b915-a961daf93f52"
      },
      "execution_count": null,
      "outputs": [
        {
          "output_type": "stream",
          "name": "stdout",
          "text": [
            "315\n"
          ]
        }
      ]
    },
    {
      "cell_type": "markdown",
      "source": [
        "**Q8. Is It Cube?**\n",
        "\n",
        "**Problem Description**\n",
        "\n",
        "You are given an integer A, You have to tell whether it is a perfect cube or not.\n",
        "\n",
        "A perfect cube is an integer that is equal to some other integer raised to the third power. If X is a perfect cube of Y, then X = Y3.\n",
        "\n",
        "**Problem Constraints**\n",
        "\n",
        "1 <= A <= 10^9\n",
        "\n",
        "**Input Format**\n",
        "\n",
        "First and only argument is an integer A.\n",
        "\n",
        "**Output Format**\n",
        "\n",
        "Return 1 if A is a perfect cube, else return 0.\n",
        "\n",
        "**Example Input**\n",
        "\n",
        "Input 1:\n",
        "\n",
        " A = 2 \n",
        "\n",
        "Input 2:\n",
        "\n",
        " A = 8 \n",
        "\n",
        "Input 3:\n",
        "\n",
        " A = 216 \n",
        "\n",
        "**Example Output**\n",
        "\n",
        "Output 1:\n",
        "\n",
        " 0 \n",
        "\n",
        "Output 2:\n",
        "\n",
        " 1 \n",
        "\n",
        "Output 3:\n",
        "\n",
        " 1 \n",
        "\n",
        "**Example Explanation**\n",
        "\n",
        "Explanation 1:\n",
        "\n",
        " A = 2, can not be expressed in the form X * X * X, where X denotes some integer. \n",
        "\n",
        "Explanation 2:\n",
        "\n",
        " A = 8, can be expressed as 2**3.\n",
        "\n",
        "Explanation 3:\n",
        "\n",
        " A = 216, can be expressed as 6**3."
      ],
      "metadata": {
        "id": "qwWb5sTSJtF5"
      }
    },
    {
      "cell_type": "code",
      "source": [
        "class Solution:\n",
        "    # param A : integer\n",
        "    # return an integer\n",
        "    def isPerfectCube(self, A):\n",
        "\n",
        "        import math\n",
        "\n",
        "        cube_root = int(math.pow(A, (1/3))) + 1\n",
        "\n",
        "        ans = 0\n",
        "\n",
        "        for i in range(1, cube_root+1):\n",
        "\n",
        "            if i ** 3 == A:\n",
        "\n",
        "                ans = 1\n",
        "                break\n",
        "\n",
        "        return ans\n",
        "\n",
        "X = Solution()\n",
        "print(X.isPerfectCube(8))\n",
        "print(X.isPerfectCube(216))"
      ],
      "metadata": {
        "colab": {
          "base_uri": "https://localhost:8080/"
        },
        "id": "ihhpgDDQJ7zd",
        "outputId": "5832e166-104c-4520-c631-26471e3b9ffc"
      },
      "execution_count": null,
      "outputs": [
        {
          "output_type": "stream",
          "name": "stdout",
          "text": [
            "1\n",
            "1\n"
          ]
        }
      ]
    },
    {
      "cell_type": "markdown",
      "source": [
        "**Q9. Division of Integers**\n",
        "\n",
        "**Problem Description**\n",
        "\n",
        "Given two integers A and B, where A is divisible by B.\n",
        "\n",
        "Print the value of quotient of A divided by B.\n",
        "\n",
        "**Problem Constraints**\n",
        "\n",
        "-10^9 <= A, B <= 10^9\n",
        "\n",
        "**Input Format**\n",
        "\n",
        "First argument is a single integer A.\n",
        "\n",
        "Second argument is a single integer B.\n",
        "\n",
        "**Output Format**\n",
        "\n",
        "Print a single integer in a single line.\n",
        "\n",
        "**Example Input**\n",
        "\n",
        "Input 1:\n",
        "\n",
        " A = 8\n",
        "\n",
        " B = 2 \n",
        "\n",
        "Input 2:\n",
        "\n",
        " A = -9\n",
        "\n",
        " B = 3 \n",
        "\n",
        "**Example Output**\n",
        "\n",
        "Output 1:\n",
        "\n",
        " 4 \n",
        "\n",
        "Output 2:\n",
        "\n",
        " -3 \n",
        "\n",
        "**Example Explanation**\n",
        "\n",
        "Explanation 1:\n",
        "\n",
        " Quotient of (8 / 2) = 4 \n",
        "\n",
        "Explanation 2:\n",
        "\n",
        " Quotient of (-9 / 3) = -3 "
      ],
      "metadata": {
        "id": "q-0E5-2UKSbG"
      }
    },
    {
      "cell_type": "code",
      "source": [
        "class Solution:\n",
        "    # param A : integer\n",
        "    # param B : integer\n",
        "    # return an integer\n",
        "    def divide(self, A, B):\n",
        "\n",
        "        return A//B\n",
        "\n",
        "X = Solution()\n",
        "print(X.divide(8, 2))\n",
        "print(X.divide(-9,3))"
      ],
      "metadata": {
        "colab": {
          "base_uri": "https://localhost:8080/"
        },
        "id": "IdMq1UDVKnkQ",
        "outputId": "7854b5dd-de46-489b-bf41-a55c7dcbf670"
      },
      "execution_count": null,
      "outputs": [
        {
          "output_type": "stream",
          "name": "stdout",
          "text": [
            "4\n",
            "-3\n"
          ]
        }
      ]
    },
    {
      "cell_type": "markdown",
      "source": [
        "**Q10. Power function**\n",
        "\n",
        "**Problem Description**\n",
        "\n",
        "You are given two integers A and B.\n",
        "\n",
        "You have to find the value of AB.\n",
        "\n",
        "**NOTE:** The value of answer is always less than or equal to 109.\n",
        "\n",
        "**Problem Constraints**\n",
        "\n",
        "1 <= A, B <= 1000\n",
        "\n",
        "**Input Format**\n",
        "\n",
        "First parameter is an integer A.\n",
        "\n",
        "Second parameter is an integer B.\n",
        "\n",
        "**Output Format**\n",
        "\n",
        "Return an integer.\n",
        "\n",
        "**Example Input**\n",
        "\n",
        "Input 1:\n",
        "\n",
        " A = 2\n",
        "\n",
        " B = 3 \n",
        "\n",
        "Input 2:\n",
        "\n",
        " A = 1\n",
        "\n",
        " B = 10 \n",
        "\n",
        "**Example Output**\n",
        "\n",
        "Output 1:\n",
        "\n",
        " 8 \n",
        "\n",
        "Output 2:\n",
        "\n",
        " 1 \n",
        "\n",
        "**Example Explanation**\n",
        "\n",
        "Explanation 1:\n",
        "\n",
        " For A = 2 and B = 3, the value of 23 = 2 * 2 * 2 = 8. \n",
        "\n",
        "Explanation 2:\n",
        "\n",
        " For A = 1 and B = 10, the value of 110 = 1."
      ],
      "metadata": {
        "id": "c_jtYk1IK1rk"
      }
    },
    {
      "cell_type": "code",
      "source": [
        "class Solution:\n",
        "    # param A : integer\n",
        "    # param B : integer\n",
        "    # return an integer\n",
        "    def power(self, A, B):\n",
        "\n",
        "        return A ** B\n",
        "\n",
        "X = Solution()\n",
        "print(X.power(3,4))"
      ],
      "metadata": {
        "colab": {
          "base_uri": "https://localhost:8080/"
        },
        "id": "Q05iEHRYLCDn",
        "outputId": "3ce38b90-34e8-4026-c003-14a352f75e1f"
      },
      "execution_count": null,
      "outputs": [
        {
          "output_type": "stream",
          "name": "stdout",
          "text": [
            "81\n"
          ]
        }
      ]
    },
    {
      "cell_type": "markdown",
      "source": [
        "**Q11. Cube It!**\n",
        "\n",
        "**Problem Description**\n",
        "\n",
        "You are given an integer A.\n",
        "\n",
        "You have to find the value of cube of A i.e, A3.\n",
        "\n",
        "**Problem Constraints**\n",
        "\n",
        "1 <= A <= 1000\n",
        "\n",
        "**Input Format**\n",
        "\n",
        "First and only parameter is an integer A.\n",
        "\n",
        "**Output Format**\n",
        "\n",
        "Return an integer.\n",
        "\n",
        "**Example Input**\n",
        "\n",
        "Input 1:\n",
        "\n",
        " A = 1 \n",
        "\n",
        "Input 2:\n",
        "\n",
        " A = 2 \n",
        "\n",
        "**Example Output**\n",
        "\n",
        "Output 1:\n",
        "\n",
        " 1 \n",
        "\n",
        "Output 2:\n",
        "\n",
        " 8 \n",
        "\n",
        "**Example Explanation**\n",
        "\n",
        "Explanation 1:\n",
        "\n",
        " Value of 13 = 1 \n",
        " \n",
        "Explanation 2:\n",
        "\n",
        " Value of 23 = 2 * 2 * 2 = 8 "
      ],
      "metadata": {
        "id": "BcBjCetNLPP5"
      }
    },
    {
      "cell_type": "code",
      "source": [
        "class Solution:\n",
        "    # param A : integer\n",
        "    # return an integer\n",
        "    def cube(self, A):\n",
        "\n",
        "        return A ** 3\n",
        "\n",
        "X = Solution()\n",
        "print(X.cube(6))"
      ],
      "metadata": {
        "colab": {
          "base_uri": "https://localhost:8080/"
        },
        "id": "97P6EsXKLcxA",
        "outputId": "fd462fb6-4911-496e-ef71-0a8c41498e72"
      },
      "execution_count": null,
      "outputs": [
        {
          "output_type": "stream",
          "name": "stdout",
          "text": [
            "216\n"
          ]
        }
      ]
    },
    {
      "cell_type": "markdown",
      "source": [
        "**Q12. Volume Of Sphere**\n",
        "\n",
        "**Problem Description**\n",
        "\n",
        "You are given a positive integer A denoting the radius of a sphere. You have to calculate the volume of the sphere.\n",
        "\n",
        "Volume of a sphere having radius R is given by (4 * π * R3) / 3.\n",
        "\n",
        "**NOTE:** Since, the answer can be a real number, you have to return the ceil value of the volume. Ceil value of a real number X is the smallest integer that is greater than or equal to X.\n",
        "\n",
        "**Problem Constraints**\n",
        "\n",
        "1 <= A <= 400\n",
        "\n",
        "**Input Format**\n",
        "\n",
        "First and only argument is an integer A.\n",
        "\n",
        "**Output Format**\n",
        "\n",
        "Return a single integer denoting the ceil value of volume of the sphere.\n",
        "\n",
        "**Example Input**\n",
        "\n",
        "Input 1:\n",
        "\n",
        " A = 1\n",
        "\n",
        "Input 2:\n",
        "\n",
        " A = 4 \n",
        "\n",
        "**Example Output**\n",
        "\n",
        "Output 1:\n",
        "\n",
        " 5 \n",
        "\n",
        "Output 2:\n",
        "\n",
        " 269 \n",
        "\n",
        "**Example Explanation**\n",
        "\n",
        "Explanation 1:\n",
        "\n",
        " Volume of sphere having radius 1 units = 4.19\n",
        "\n",
        " Ceil value of volume = 5\n",
        "\n",
        "Explanation 2:\n",
        "\n",
        " Volume of sphere having radius 4 units = 268.08\n",
        " \n",
        " Ceil value of volume = 269 "
      ],
      "metadata": {
        "id": "Yfr3IspDLnOE"
      }
    },
    {
      "cell_type": "code",
      "source": [
        "class Solution:\n",
        "    # param A : integer\n",
        "    # return an integer\n",
        "    def solve(self, A):\n",
        "\n",
        "        import math\n",
        "\n",
        "        return int(math.pi * 4 * (A ** 3))//3 + 1\n",
        "\n",
        "X = Solution()\n",
        "print(X.solve(4))"
      ],
      "metadata": {
        "colab": {
          "base_uri": "https://localhost:8080/"
        },
        "id": "HSJaln9fL3Yh",
        "outputId": "fb0ca7c4-6df6-4d5e-c799-7d66ec5bce61"
      },
      "execution_count": null,
      "outputs": [
        {
          "output_type": "stream",
          "name": "stdout",
          "text": [
            "269\n"
          ]
        }
      ]
    },
    {
      "cell_type": "markdown",
      "source": [
        "**Q13. Area Of Ellipse**\n",
        "\n",
        "**Problem Description**\n",
        "\n",
        "Given the lengths of semi-major axis A and semi-minor axis B of an ellipse, calculate the Area of the Ellipse.\n",
        "\n",
        "Area of ellipse having semi-major axis length a and semi-minor axis length b is given by π * a * b.\n",
        "\n",
        "**NOTE:** Since, the answer can be a real number, you have to return the ceil value of the area. Ceil value of a real number X is the smallest integer that is greater than or equal to X.\n",
        "\n",
        "**Problem Constraints**\n",
        "\n",
        "1 <= B <= A <= 1000\n",
        "\n",
        "**Input Format**\n",
        "\n",
        "First argument is an integer A.\n",
        "\n",
        "Second argument is an integer B.\n",
        "\n",
        "**Output Format**\n",
        "\n",
        "Return a single integer denoting the ceil value of Area of the Ellipse.\n",
        "\n",
        "**Example Input**\n",
        "\n",
        "Input 1:\n",
        "\n",
        " A = 3\n",
        "\n",
        " B = 2\n",
        "\n",
        "Input 2:\n",
        "\n",
        " A = 4 \n",
        "\n",
        " B = 1\n",
        "\n",
        "**Example Output**\n",
        "\n",
        "Output 1:\n",
        "\n",
        " 19 \n",
        "\n",
        "Output 2:\n",
        "\n",
        " 13 \n",
        "\n",
        "**Example Explanation**\n",
        "\n",
        "Explanation 1:\n",
        "\n",
        " Area of Ellipse = π * 3 * 2 = 18.85\n",
        "\n",
        " Ceil value of area = 19 \n",
        "\n",
        "Explanation 2:\n",
        "\n",
        " Area of Ellipse = π * 4 * 1 = 12.57\n",
        " \n",
        " Ceil value of area = 13 "
      ],
      "metadata": {
        "id": "Ap3IMn53MBEl"
      }
    },
    {
      "cell_type": "code",
      "source": [
        "class Solution:\n",
        "    # param A : integer\n",
        "    # param B : integer\n",
        "    # return an integer\n",
        "    def solve(self, A, B):\n",
        "\n",
        "        import math\n",
        "\n",
        "        return int(math.ceil(math.pi * A * B))\n",
        "\n",
        "X = Solution()\n",
        "print(X.solve(3, 4))"
      ],
      "metadata": {
        "colab": {
          "base_uri": "https://localhost:8080/"
        },
        "id": "pb9_H6f6Mdlq",
        "outputId": "04f9fdeb-2432-4352-9ce1-4bd3224fd0cf"
      },
      "execution_count": null,
      "outputs": [
        {
          "output_type": "stream",
          "name": "stdout",
          "text": [
            "38\n"
          ]
        }
      ]
    }
  ]
}