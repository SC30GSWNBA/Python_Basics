{
  "nbformat": 4,
  "nbformat_minor": 0,
  "metadata": {
    "colab": {
      "name": "Python_Basics : Strings.ipynb",
      "provenance": [],
      "collapsed_sections": []
    },
    "kernelspec": {
      "name": "python3",
      "display_name": "Python 3"
    },
    "language_info": {
      "name": "python"
    }
  },
  "cells": [
    {
      "cell_type": "markdown",
      "source": [
        "**Q1. Reverse string - II**\n",
        "\n",
        "**Problem Description**\n",
        "\n",
        "Write a program to reverse the words present in a string. Everything else should be preserved.\n",
        "\n",
        "Check example input/output.\n",
        "\n",
        "**Note:** There are no punctuation and special characters in the string.\n",
        "The string will only contain alphanumeric characters and spaces.\n",
        "\n",
        "**Example Input**\n",
        "\n",
        "Everyone loves data science\n",
        "\n",
        "**Example Output**\n",
        "\n",
        "enoyrevE sevol atad ecneics"
      ],
      "metadata": {
        "id": "rPoDJztgS7bO"
      }
    },
    {
      "cell_type": "code",
      "execution_count": null,
      "metadata": {
        "id": "Kw21mFExv7VL",
        "colab": {
          "base_uri": "https://localhost:8080/"
        },
        "outputId": "921c88ac-f352-4957-9504-d402ca8942e9"
      },
      "outputs": [
        {
          "output_type": "stream",
          "name": "stdout",
          "text": [
            "Everyone loves data science\n",
            "enoyrevE sevol atad ecneics\n"
          ]
        }
      ],
      "source": [
        "def main():\n",
        "    # YOUR CODE GOES HERE\n",
        "    # Please take input and print output to standard input/output (stdin/stdout)\n",
        "    # E.g. 'input()/raw_input()' for input & 'print' for output\n",
        "\n",
        "    A = input()\n",
        "\n",
        "    A = A.split()\n",
        "\n",
        "    for i in range(len(A)):\n",
        "\n",
        "        A[i] = A[i][::-1]\n",
        "\n",
        "    print(' '.join(A))\n",
        "\n",
        "    return 0\n",
        "\n",
        "if __name__ == '__main__':\n",
        "    main()"
      ]
    },
    {
      "cell_type": "markdown",
      "source": [
        "**Q2. Reverse the word - II**\n",
        "\n",
        "**Problem Description**\n",
        "\n",
        "You are given lowercase string (A) and you have to return after reversing that.\n",
        "\n",
        "**Problem Constraints**\n",
        "\n",
        "1 <= S.size() <= 1000\n",
        "\n",
        "**Input Format**\n",
        "\n",
        "First and only argument containing a lowercase string S.\n",
        "\n",
        "**Output Format**\n",
        "\n",
        "You have to return string which is reverse form of input string.\n",
        "\n",
        "**Example Input**\n",
        "\n",
        "Input 1:\n",
        "\n",
        "interviewbit\n",
        "\n",
        "Input 2:\n",
        "\n",
        "scaler\n",
        "\n",
        "**Example Output**\n",
        "\n",
        "Output 1:\n",
        "\n",
        "tibweivretni\n",
        "\n",
        "Output 2:\n",
        "\n",
        "relacs\n",
        "\n",
        "**Example Explanation**\n",
        "\n",
        "Explanation 1:\n",
        "\n",
        "Clearly, reverse of interviewbit is tibweivretni.\n",
        "\n",
        "Explanation 2:\n",
        "\n",
        "Clearly, reverse of scaler is relacs."
      ],
      "metadata": {
        "id": "s3bi2lKWT3WJ"
      }
    },
    {
      "cell_type": "code",
      "source": [
        "# Solution-1\n",
        "\n",
        "class Solution:\n",
        "    # param A : string\n",
        "    # return a strings\n",
        "    def solve(self, A):\n",
        "\n",
        "        return A[::-1]\n",
        "\n",
        "X = Solution()\n",
        "\n",
        "print(X.solve('interviewbit'))"
      ],
      "metadata": {
        "colab": {
          "base_uri": "https://localhost:8080/"
        },
        "id": "lmTIM2TBUGYh",
        "outputId": "de42d2b4-272c-4297-f020-9de7ec5c0aa9"
      },
      "execution_count": null,
      "outputs": [
        {
          "output_type": "stream",
          "name": "stdout",
          "text": [
            "tibweivretni\n"
          ]
        }
      ]
    },
    {
      "cell_type": "code",
      "source": [
        "# Solution-2\n",
        "\n",
        "class Solution:\n",
        "    # param A : string\n",
        "    # return a strings\n",
        "    def solve(self, A):\n",
        "\n",
        "        x = ''\n",
        "\n",
        "        for i in range(len(A)-1, -1, -1):\n",
        "\n",
        "          x += A[i]\n",
        "\n",
        "        return x\n",
        "\n",
        "X = Solution()\n",
        "\n",
        "print(X.solve('interviewbit'))"
      ],
      "metadata": {
        "colab": {
          "base_uri": "https://localhost:8080/"
        },
        "id": "cTUH61pebfHm",
        "outputId": "735a90b4-4d13-4541-df78-99d36e28b1ec"
      },
      "execution_count": null,
      "outputs": [
        {
          "output_type": "stream",
          "name": "stdout",
          "text": [
            "tibweivretni\n"
          ]
        }
      ]
    },
    {
      "cell_type": "markdown",
      "source": [
        "**Q3. First Occurrence Of Word**\n",
        "\n",
        "**Problem Description**\n",
        "\n",
        "You are given two character strings A and B.\n",
        "\n",
        "You have to find the first occurrence of string B in string A, as a substring, and return the starting position of first occurrence.\n",
        "\n",
        "A substring is a contiguous sequence of characters within a string. For e.g \"at\" is a substring in \"catalogue\".\n",
        "\n",
        "**Problem Constraints**\n",
        "\n",
        "1 <= |A|, |B| <= 1000\n",
        "\n",
        "A[i], B[i] ∈ ['a'-'z']\n",
        "\n",
        "**Input Format**\n",
        "\n",
        "First argument is a character string A.\n",
        "\n",
        "Second argument is a character string B.\n",
        "\n",
        "**Output Format**\n",
        "\n",
        "Return an integer denoting the starting position of first occurrence, or return -1 to report that there is no such occurrence.\n",
        "\n",
        "**Example Input**\n",
        "\n",
        "Input 1:\n",
        "\n",
        " A = \"aabababaa\"\n",
        "\n",
        " B = \"ba\" \n",
        "\n",
        "Input 2:\n",
        "\n",
        " A = \"abc\"\n",
        "\n",
        " B = \"ac\" \n",
        "\n",
        "**Example Output**\n",
        "\n",
        "Output 1:\n",
        "\n",
        " 3 \n",
        "\n",
        "Output 2:\n",
        "\n",
        " -1 \n",
        "\n",
        "**Example Explanation**\n",
        "\n",
        "Explanation 1:\n",
        "\n",
        " Substrings A[3..4], A[5..6] and A[6..7] are equal to B = \"ba\".\n",
        " First occurrence is substring A[3..4] having starting position = 3. \n",
        "Explanation 2:\n",
        "\n",
        " \"ac\" does not exist as a substring in \"abc\"."
      ],
      "metadata": {
        "id": "wfyJp_DFUaG-"
      }
    },
    {
      "cell_type": "code",
      "source": [
        "class Solution:\n",
        "    # param A : string\n",
        "    # param B : string\n",
        "    # return an integer\n",
        "    def solve(self, A, B):\n",
        "\n",
        "        position = A.find(B)\n",
        "\n",
        "        if position == -1:\n",
        "\n",
        "            return position\n",
        "\n",
        "        else:\n",
        "\n",
        "            return position + 1\n",
        "\n",
        "\n",
        "X = Solution()\n",
        "\n",
        "print(X.solve('aabababaa','ba'))\n",
        "print(X.solve('abc','ca'))"
      ],
      "metadata": {
        "colab": {
          "base_uri": "https://localhost:8080/"
        },
        "id": "D0W-5_SmUvBj",
        "outputId": "78557482-4ed9-42c4-d8b2-f23e4339ecb6"
      },
      "execution_count": null,
      "outputs": [
        {
          "output_type": "stream",
          "name": "stdout",
          "text": [
            "3\n",
            "-1\n"
          ]
        }
      ]
    },
    {
      "cell_type": "markdown",
      "source": [
        "**Q4. Vowels vs Consonants - II**\n",
        "\n",
        "**Problem Description**\n",
        "\n",
        "You are given lowercase string (A) and you have to tell count of vowels and consonants in it.\n",
        "\n",
        "**Problem Constraints**\n",
        "\n",
        "1 <= S.size() <= 1000\n",
        "\n",
        "**Input Format**\n",
        "\n",
        "First and only argument containing a lowercase string S.\n",
        "\n",
        "**Output Format**\n",
        "\n",
        "You have to return an array of two elements representing count of vowels and consonants in input string respectively.\n",
        "\n",
        "**Example Input**\n",
        "\n",
        "Input 1:\n",
        "\n",
        "interviewbit\n",
        "\n",
        "Input 2:\n",
        "\n",
        "scaler\n",
        "\n",
        "**Example Output**\n",
        "\n",
        "Output 1:\n",
        "\n",
        "[5 7]\n",
        "\n",
        "Output 2:\n",
        "\n",
        "[2 4]\n",
        "\n",
        "**Example Explanation**\n",
        "\n",
        "Explanation 1:\n",
        "\n",
        "Clearly, interviewbit has 4 vowels and 7 consonants.\n",
        "\n",
        "Explanation 2:\n",
        "\n",
        "Clearly, scaler has 2 vowels and 4 consonants."
      ],
      "metadata": {
        "id": "D7EwCJ99b7gx"
      }
    },
    {
      "cell_type": "code",
      "source": [
        "# Solution-1\n",
        "\n",
        "class Solution:\n",
        "    # param A : string\n",
        "    # return a list of integers\n",
        "    def solve(self, A):\n",
        "\n",
        "        count = 0\n",
        "\n",
        "        for i in A:\n",
        "\n",
        "            if i in ['a','e','i','o','u']:\n",
        "\n",
        "                count = count + 1\n",
        "\n",
        "        output = []\n",
        "\n",
        "        output.append(count)\n",
        "\n",
        "        output.append(len(A)-count)\n",
        "\n",
        "        return output\n",
        "\n",
        "X = Solution()\n",
        "print(X.solve('interviewbit'))"
      ],
      "metadata": {
        "colab": {
          "base_uri": "https://localhost:8080/"
        },
        "id": "dORgN78uco7o",
        "outputId": "6016adff-524f-451b-ffea-784d4b76ca9c"
      },
      "execution_count": null,
      "outputs": [
        {
          "output_type": "stream",
          "name": "stdout",
          "text": [
            "[5, 7]\n"
          ]
        }
      ]
    },
    {
      "cell_type": "code",
      "source": [
        "# Solution-2\n",
        "\n",
        "class Solution:\n",
        "    # param A : string\n",
        "    # return a list of integers\n",
        "    def solve(self, A):\n",
        "\n",
        "        count = 0\n",
        "\n",
        "        for i in A:\n",
        "\n",
        "            if ord(i) == 97 or ord(i) == 101 or ord(i) == 105 or ord(i) == 111 or ord(i) == 117:\n",
        "\n",
        "                count = count + 1\n",
        "\n",
        "        output = []\n",
        "\n",
        "        output.append(count)\n",
        "\n",
        "        output.append(len(A)-count)\n",
        "\n",
        "        return output\n",
        "\n",
        "X = Solution()\n",
        "print(X.solve('interviewbit'))"
      ],
      "metadata": {
        "colab": {
          "base_uri": "https://localhost:8080/"
        },
        "id": "fxu35duec93z",
        "outputId": "f139e24f-88b9-45ed-9632-a4da1eae31ff"
      },
      "execution_count": null,
      "outputs": [
        {
          "output_type": "stream",
          "name": "stdout",
          "text": [
            "[5, 7]\n"
          ]
        }
      ]
    },
    {
      "cell_type": "markdown",
      "source": [
        "**Q5. Length of String - II**\n",
        "\n",
        "**Problem Description**\n",
        "\n",
        "You have a string (A).\n",
        "\n",
        "You have to return length of input string.\n",
        "\n",
        "**Problem Constraints**\n",
        "\n",
        "1 <= A.size() <= 1000\n",
        "\n",
        "**Input Format**\n",
        "\n",
        "First and only argument containing a lowercase string A.\n",
        "\n",
        "**Output Format**\n",
        "\n",
        "You have to return an integer as per the question.\n",
        "\n",
        "**Example Input**\n",
        "\n",
        "Input 1:\n",
        "\n",
        "scaler\n",
        "\n",
        "Input 2:\n",
        "\n",
        "interviewbit\n",
        "\n",
        "**Example Output**\n",
        "\n",
        "Output 1:\n",
        "\n",
        "6\n",
        "\n",
        "Output 2:\n",
        "\n",
        "12\n",
        "\n",
        "**Example Explanation**\n",
        "\n",
        "Explanation 1:\n",
        "\n",
        "Clearly,  length of scaler is 6.\n",
        "\n",
        "Explanation 2:\n",
        "\n",
        "Clearly, length of interviewbit is 12."
      ],
      "metadata": {
        "id": "80xq5PcBdVdB"
      }
    },
    {
      "cell_type": "code",
      "source": [
        "class Solution:\n",
        "    # param A : string\n",
        "    # return an integer\n",
        "    def solve(self, A):\n",
        "\n",
        "        return len(A)\n",
        "\n",
        "X = Solution()\n",
        "X.solve('interviewbit')"
      ],
      "metadata": {
        "colab": {
          "base_uri": "https://localhost:8080/"
        },
        "id": "OKoeaEwddoE_",
        "outputId": "5e9523aa-d6d0-4653-df33-476e6af45e87"
      },
      "execution_count": null,
      "outputs": [
        {
          "output_type": "execute_result",
          "data": {
            "text/plain": [
              "12"
            ]
          },
          "metadata": {},
          "execution_count": 6
        }
      ]
    },
    {
      "cell_type": "markdown",
      "source": [
        "**Q6. Is is Palindrome?**\n",
        "\n",
        "**Problem Description**\n",
        "\n",
        "Write a program to input T strings (S) from user and print 1 if it is palindrome otherwise print 0. \n",
        "\n",
        "**NOTE:** A string is palindrome if it reads the same from backward as from forward.\n",
        "\n",
        "**Problem Constraints**\n",
        "\n",
        "1 <= T <= 100\n",
        "\n",
        "1 <= S.size() <= 1000\n",
        "\n",
        "**Input Format**\n",
        "\n",
        "First line is T which means number of test cases.\n",
        "\n",
        "Each next T lines contain a string S.\n",
        "\n",
        "**Output Format**\n",
        "\n",
        "T lines each containing either 0 or 1.\n",
        "\n",
        "**Example Input**\n",
        "\n",
        "Input 1:\n",
        "\n",
        "3\n",
        "\n",
        "abcba\n",
        "\n",
        "axax\n",
        "\n",
        "abba\n",
        "\n",
        "**Example Output**\n",
        "\n",
        "Output 1:\n",
        "\n",
        "1\n",
        "\n",
        "0\n",
        "\n",
        "1"
      ],
      "metadata": {
        "id": "SfN_NcO3fi8S"
      }
    },
    {
      "cell_type": "code",
      "source": [
        "def main():\n",
        "    # YOUR CODE GOES HERE\n",
        "    # Please take input and print output to standard input/output (stdin/stdout)\n",
        "    # E.g. 'input()/raw_input()' for input & 'print' for output\n",
        "\n",
        "    T = int(input())\n",
        "\n",
        "    for i in range(T):\n",
        "\n",
        "        X = input()\n",
        "\n",
        "        if X == X[::-1]:\n",
        "\n",
        "            print(1)\n",
        "\n",
        "        else:\n",
        "\n",
        "            print(0)\n",
        "\n",
        "    return 0\n",
        "\n",
        "if __name__ == '__main__':\n",
        "    main()"
      ],
      "metadata": {
        "colab": {
          "base_uri": "https://localhost:8080/"
        },
        "id": "93kMWaTrf0Dy",
        "outputId": "3f863607-e3f6-4475-ec43-62b34344879f"
      },
      "execution_count": null,
      "outputs": [
        {
          "output_type": "stream",
          "name": "stdout",
          "text": [
            "3\n",
            "abcba\n",
            "1\n",
            "axax\n",
            "0\n",
            "abba\n",
            "1\n"
          ]
        }
      ]
    },
    {
      "cell_type": "markdown",
      "source": [
        "**Q7. Trim From Ends**\n",
        "\n",
        "**Problem Description**\n",
        "\n",
        "You are given a character string A. You to trim(remove) both leading and trailing asterisk characters('*') in the string and return the resultant string.\n",
        "\n",
        "**Problem Constraints**\n",
        "\n",
        "1 <= |A| <= 10^5\n",
        "\n",
        "A[i] ∈ ['a'-'z', '*']\n",
        "\n",
        "**Input Format**\n",
        "\n",
        "First and only argument is a character string A.\n",
        "\n",
        "**Output Format**\n",
        "\n",
        "Return a character string denoting the resultant string after trimming.\n",
        "\n",
        "**Example Input**\n",
        "\n",
        "Input 1:\n",
        "\n",
        "A = \"**h*e*l*lo*\"\n",
        "\n",
        "Input 2:\n",
        "\n",
        "A = \"noasteriskhere\"\n",
        "\n",
        "**Example Output**\n",
        "\n",
        "Output 1:\n",
        "\n",
        "h*e*l*l*o\n",
        "\n",
        "Output 2:\n",
        "\n",
        "noasteriskhere\n",
        "\n",
        "**Example Explanation**\n",
        "\n",
        "Explanation 1:\n",
        "\n",
        " The string has 2 leading '*' and 1 trailing '*'. Removing them, the string becomes \"hello\".\n",
        " \n",
        "Explanation 2:\n",
        "\n",
        " As there are no leading or trailing zeros, resultant string is same as before."
      ],
      "metadata": {
        "id": "Tra4auX3gWeF"
      }
    },
    {
      "cell_type": "code",
      "source": [
        "class Solution:\n",
        "    # param A : string\n",
        "    # return a strings\n",
        "    def solve(self, A):\n",
        "\n",
        "        A = A.lstrip('*')\n",
        "\n",
        "        A = A.rstrip('*')\n",
        "\n",
        "        return A\n",
        "\n",
        "X = Solution()\n",
        "print(X.solve('*hello*'))\n",
        "print(X.solve('noasteriskhere'))"
      ],
      "metadata": {
        "colab": {
          "base_uri": "https://localhost:8080/"
        },
        "id": "Ca7z_TAshLqF",
        "outputId": "1cff9eb7-98e1-41ce-f816-ea0ed61c5d5f"
      },
      "execution_count": null,
      "outputs": [
        {
          "output_type": "stream",
          "name": "stdout",
          "text": [
            "hello\n",
            "noasteriskhere\n"
          ]
        }
      ]
    }
  ]
}