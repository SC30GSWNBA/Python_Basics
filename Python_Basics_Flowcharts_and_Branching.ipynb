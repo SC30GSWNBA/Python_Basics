{
  "nbformat": 4,
  "nbformat_minor": 0,
  "metadata": {
    "colab": {
      "name": "Python Basics : Flowcharts and Branching.ipynb",
      "provenance": [],
      "collapsed_sections": []
    },
    "kernelspec": {
      "name": "python3",
      "display_name": "Python 3"
    },
    "language_info": {
      "name": "python"
    }
  },
  "cells": [
    {
      "cell_type": "markdown",
      "source": [
        "**Q1. Min of two:**\n",
        "\n",
        "**Problem Description**\n",
        "\n",
        "Write a program to input two numbers(**A & B**) from user and print the minimum element among A & B in each line.\n",
        "\n",
        "\n",
        "**Problem Constraints**\n",
        "\n",
        "1 <= A <= 1000000\n",
        "\n",
        "1 <= B <= 1000000\n",
        "\n",
        "\n",
        "**Input Format**\n",
        "\n",
        "First line is a single integer A.\n",
        "\n",
        "Second line is a single integer B.\n",
        "\n",
        "\n",
        "**Output Format**\n",
        "\n",
        "One line containing an integer as per the question.\n",
        "\n",
        "\n",
        "**Example Input**\n",
        "\n",
        "Input 1:\n",
        "\n",
        "5 6\n",
        "\n",
        "Input 2:\n",
        "\n",
        "1000 10000\n",
        "\n",
        "\n",
        "**Example Output**\n",
        "\n",
        "Output 1:\n",
        "\n",
        "5\n",
        "\n",
        "Output 2:\n",
        "\n",
        "1000\n",
        "\n",
        "\n",
        "**Example Explanation**\n",
        "\n",
        "Explanation 1:\n",
        "\n",
        "Clearly, among 5 and 6, 5 is minimum.\n",
        "\n",
        "Explanation 2:\n",
        "\n",
        "Clearly, among 1000 and 10000, 1000 is minimum."
      ],
      "metadata": {
        "id": "O4wnGTpSsBxN"
      }
    },
    {
      "cell_type": "code",
      "execution_count": 1,
      "metadata": {
        "colab": {
          "base_uri": "https://localhost:8080/"
        },
        "id": "H8UyqgSGr3eR",
        "outputId": "46f624b4-88c5-447c-b615-d979f0797d97"
      },
      "outputs": [
        {
          "output_type": "stream",
          "name": "stdout",
          "text": [
            "5 6\n",
            "5\n"
          ]
        }
      ],
      "source": [
        "# Solution-1\n",
        "\n",
        "def main():\n",
        "    # YOUR CODE GOES HERE\n",
        "    # Please take input and print output to standard input/output (stdin/stdout)\n",
        "    # E.g. 'input()/raw_input()' for input & 'print' for output\n",
        "\n",
        "    l = list(map(int, input().split()))\n",
        "\n",
        "    A = l[0]\n",
        "    B = l[1]\n",
        "\n",
        "    if A >= B:\n",
        "        print(B)\n",
        "    else:\n",
        "        print(A)\n",
        "\n",
        "    return 0\n",
        "\n",
        "if __name__ == '__main__':\n",
        "    main()"
      ]
    },
    {
      "cell_type": "code",
      "source": [
        "# Solution-2\n",
        "\n",
        "def main():\n",
        "    # YOUR CODE GOES HERE\n",
        "    # Please take input and print output to standard input/output (stdin/stdout)\n",
        "    # E.g. 'input()/raw_input()' for input & 'print' for output\n",
        "\n",
        "    l = list(map(int, input().split()))\n",
        "\n",
        "    print(min(l))\n",
        "\n",
        "    return 0\n",
        "\n",
        "if __name__ == '__main__':\n",
        "    main()"
      ],
      "metadata": {
        "colab": {
          "base_uri": "https://localhost:8080/"
        },
        "id": "wtmIcEoisurR",
        "outputId": "7e5c7078-57ea-4bd1-d33f-42d93cf97461"
      },
      "execution_count": 2,
      "outputs": [
        {
          "output_type": "stream",
          "name": "stdout",
          "text": [
            "5 6\n",
            "5\n"
          ]
        }
      ]
    },
    {
      "cell_type": "markdown",
      "source": [
        "**Q2. Min of three:**\n",
        "\n",
        "**Problem Description**\n",
        "\n",
        "Write a program to input three numbers(A, B & C) from user and print the minimum element among A, B & C in each line.\n",
        "\n",
        "\n",
        "**Problem Constraints**\n",
        "\n",
        "1 <= A <= 1000000\n",
        "\n",
        "1 <= B <= 1000000\n",
        "\n",
        "1 <= C <= 1000000\n",
        "\n",
        "\n",
        "**Input Format**\n",
        "\n",
        "First line is a single integer A.\n",
        "\n",
        "Second line is a single integer B.\n",
        "\n",
        "Third line is a single integer C.\n",
        "\n",
        "\n",
        "**Output Format**\n",
        "\n",
        "One line containing an integer as per the question.\n",
        "\n",
        "\n",
        "**Example Input**\n",
        "\n",
        "Input 1:\n",
        "\n",
        "5 \n",
        "6 \n",
        "7\n",
        "\n",
        "Input 2:\n",
        "\n",
        "1000 \n",
        "10000 \n",
        "100000\n",
        "\n",
        "\n",
        "**Example Output**\n",
        "\n",
        "Output 1:-\n",
        "\n",
        "5\n",
        "\n",
        "Output 2:-\n",
        "\n",
        "1000\n",
        "\n",
        "\n",
        "**Example Explanation**\n",
        "\n",
        "Explanation 1:\n",
        "\n",
        "Clearly, among 5, 6 and 7, 5 is minimum.\n",
        "\n",
        "Explanation 2:\n",
        "\n",
        "Clearly, among 1000, 10000 and 100000, 1000 is minimum."
      ],
      "metadata": {
        "id": "BSKCYr6ptGcX"
      }
    },
    {
      "cell_type": "code",
      "source": [
        "# Solution-1\n",
        "\n",
        "def main():\n",
        "    # YOUR CODE GOES HERE\n",
        "    # Please take input and print output to standard input/output (stdin/stdout)\n",
        "    # E.g. 'input()/raw_input()' for input & 'print' for output\n",
        "\n",
        "    l = list(map(int, input().split()))\n",
        "\n",
        "    A = l[0]\n",
        "    B = l[1]\n",
        "    C = l[2]\n",
        "\n",
        "    if A <= B and A <= C:\n",
        "        print(A)\n",
        "    elif B <= A and B <= C:\n",
        "        print(B)\n",
        "    else:\n",
        "        print(C)\n",
        "\n",
        "    return 0\n",
        "\n",
        "if __name__ == '__main__':\n",
        "    main()"
      ],
      "metadata": {
        "colab": {
          "base_uri": "https://localhost:8080/"
        },
        "id": "ZOQ0h1uMtgt4",
        "outputId": "150987bd-6c38-43a6-b086-92cff82b23c7"
      },
      "execution_count": 3,
      "outputs": [
        {
          "output_type": "stream",
          "name": "stdout",
          "text": [
            "100 1000 10000\n",
            "100\n"
          ]
        }
      ]
    },
    {
      "cell_type": "code",
      "source": [
        "# Solution-2\n",
        "\n",
        "def main():\n",
        "    # YOUR CODE GOES HERE\n",
        "    # Please take input and print output to standard input/output (stdin/stdout)\n",
        "    # E.g. 'input()/raw_input()' for input & 'print' for output\n",
        "\n",
        "    list1 = list(map(int, input().split()))\n",
        "\n",
        "    print(min(list1))\n",
        "\n",
        "    return 0\n",
        "\n",
        "if __name__ == '__main__':\n",
        "    main()"
      ],
      "metadata": {
        "colab": {
          "base_uri": "https://localhost:8080/"
        },
        "id": "iIiZs_17txQT",
        "outputId": "71d70f56-bbf3-4afc-f1ee-80ad2e5e2aa9"
      },
      "execution_count": 4,
      "outputs": [
        {
          "output_type": "stream",
          "name": "stdout",
          "text": [
            "100 1000 10000\n",
            "100\n"
          ]
        }
      ]
    },
    {
      "cell_type": "markdown",
      "source": [
        "**Q3. Profit Or Loss:**\n",
        "\n",
        "**Problem Description**\n",
        "\n",
        "You are given the Cost Price C and Selling Price S of a Product. You have to tell whether there is a Profit or Loss. Also, calculate total profit or loss.\n",
        "\n",
        "**NOTE:** It is guaranteed that Cost Price and Selling Price are not equal.\n",
        "\n",
        "\n",
        "**Problem Constraints**\n",
        "\n",
        "1 <= C, S <= 109\n",
        "\n",
        "C ≠ S\n",
        "\n",
        "\n",
        "**Input Format**\n",
        "\n",
        "First line of the input contains a single integer C.\n",
        "\n",
        "Second line of the input contains a single integer S.\n",
        "\n",
        "\n",
        "**Output Format**\n",
        "\n",
        "Print two integers in separate lines.\n",
        "\n",
        "First integer denotes whether there is a profit or loss. If there is a profit, print 1, else print -1.\n",
        "\n",
        "Second integer is a non-negative integer denoting the absolute value of total profit or loss.\n",
        "\n",
        "\n",
        "**Example Input**\n",
        "\n",
        "Input 1:\n",
        "\n",
        " 2\n",
        " 4\n",
        "\n",
        "Input 2:\n",
        "\n",
        " 4\n",
        " 1\n",
        "\n",
        "\n",
        "**Example Output**\n",
        "\n",
        "Output 1:\n",
        "\n",
        " 1\n",
        "\n",
        " 2\n",
        "\n",
        "Output 2:\n",
        "\n",
        " -1\n",
        "\n",
        " 3\n",
        "\n",
        "\n",
        "**Example Explanation**\n",
        "\n",
        "Explanation 1:\n",
        "\n",
        " Cost Price = 2\n",
        "\n",
        " Selling Price = 4\n",
        "\n",
        " As Cost Price < Selling Price, there is a profit.\n",
        "\n",
        " Total Profit = Selling Price - Cost Price = 4 - 2 = 2\n",
        "\n",
        "Explanation 2:\n",
        "\n",
        " Cost Price = 4\n",
        "\n",
        " Selling Price = 1\n",
        "\n",
        " As Cost Price > Selling Price, there is a loss.\n",
        "\n",
        " Total Loss = Cost Price - Selling Price = 4 - 1 = 3 "
      ],
      "metadata": {
        "id": "E-QDPo7yufyQ"
      }
    },
    {
      "cell_type": "code",
      "source": [
        "def main():\n",
        "    # YOUR CODE GOES HERE\n",
        "    # Please take input and print output to standard input/output (stdin/stdout)\n",
        "    # E.g. 'input()/raw_input()' for input & 'print' for output\n",
        "\n",
        "    C = int(input())\n",
        "    S = int(input())\n",
        "\n",
        "    if S > C:\n",
        "        print(1)\n",
        "        print(S-C)\n",
        "    else:\n",
        "        print(-1)\n",
        "        print(C-S)\n",
        "\n",
        "    return 0\n",
        "\n",
        "if __name__ == '__main__':\n",
        "    main()"
      ],
      "metadata": {
        "colab": {
          "base_uri": "https://localhost:8080/"
        },
        "id": "FtIuw4V7u4_A",
        "outputId": "371b57e5-43f6-48b7-b1cc-3c0289e6fbae"
      },
      "execution_count": 6,
      "outputs": [
        {
          "output_type": "stream",
          "name": "stdout",
          "text": [
            "10\n",
            "20\n",
            "1\n",
            "10\n"
          ]
        }
      ]
    },
    {
      "cell_type": "markdown",
      "source": [
        "**Q4. Vowel Or Consonant:**\n",
        "\n",
        "**Problem Description**\n",
        "\n",
        "You are given a lowercase latin alphabetic character C. You have to tell whether it is a vowel or not.\n",
        "\n",
        "The characters 'a', 'e', 'i', 'o', and 'u' are called vowels.\n",
        "\n",
        "\n",
        "**Problem Constraints**\n",
        "\n",
        "C ∈ ['a' - 'z']\n",
        "\n",
        "\n",
        "**Input Format**\n",
        "\n",
        "The input consists of a single character C.\n",
        "\n",
        "\n",
        "**Output Format**\n",
        "\n",
        "Return 1 if the given character is a vowel, else return 0.\n",
        "\n",
        "\n",
        "**Example Input**\n",
        "\n",
        "Input 1:\n",
        "\n",
        " a \n",
        "\n",
        "Input 2:\n",
        "\n",
        " b \n",
        "\n",
        "\n",
        "**Example Output**\n",
        "\n",
        "Output 1:\n",
        "\n",
        " 1 \n",
        "\n",
        "Output 2:\n",
        "\n",
        " 0 \n",
        "\n",
        "\n",
        "**Example Explanation**\n",
        "\n",
        "Explanation 1:\n",
        "\n",
        " 'a' is a vowel.\n",
        " \n",
        "Explanation 2:\n",
        "\n",
        " 'b' is a consonant (not a vowel). "
      ],
      "metadata": {
        "id": "aE5y8OYTvIyx"
      }
    },
    {
      "cell_type": "code",
      "source": [
        "# Solution-1\n",
        "\n",
        "def isvowel(C):\n",
        "    ans = None\n",
        "    # YOUR CODE GOES HERE\n",
        "    if C in ['a','e','i','o','u']:\n",
        "        ans = 1\n",
        "    else:\n",
        "        ans = 0\n",
        "    \n",
        "    return ans\n",
        "\n",
        "\n",
        "print(isvowel('a'))\n",
        "print(isvowel('b'))\n",
        "print(isvowel('u'))"
      ],
      "metadata": {
        "colab": {
          "base_uri": "https://localhost:8080/"
        },
        "id": "mPgz52HNvn6N",
        "outputId": "530ceef6-5cd1-4265-d2b3-10821c70a50b"
      },
      "execution_count": 7,
      "outputs": [
        {
          "output_type": "stream",
          "name": "stdout",
          "text": [
            "1\n",
            "0\n",
            "1\n"
          ]
        }
      ]
    },
    {
      "cell_type": "code",
      "source": [
        "# Solution-2\n",
        "\n",
        "def isvowel(C):\n",
        "    ans = None\n",
        "    # YOUR CODE GOES HERE\n",
        "    if ord(C) in [97, 101, 105, 111, 117]:\n",
        "        ans = 1\n",
        "    else:\n",
        "        ans = 0\n",
        "    \n",
        "    return ans\n",
        "\n",
        "\n",
        "print(isvowel('a'))\n",
        "print(isvowel('b'))\n",
        "print(isvowel('u'))"
      ],
      "metadata": {
        "colab": {
          "base_uri": "https://localhost:8080/"
        },
        "id": "R4N_iUaYv2lr",
        "outputId": "a6ad7868-01b8-40df-b621-1d8cfc04b5f6"
      },
      "execution_count": 9,
      "outputs": [
        {
          "output_type": "stream",
          "name": "stdout",
          "text": [
            "1\n",
            "0\n",
            "1\n"
          ]
        }
      ]
    },
    {
      "cell_type": "markdown",
      "source": [
        "**Q5. Check even/odd:**\n",
        "\n",
        "**Problem Description**\n",
        "\n",
        "Write a program to input an integer from user and print 1 if it is odd otherwise print 0.\n",
        "\n",
        "\n",
        "**Problem Constraints**\n",
        "\n",
        "1 <= N <= 1000000\n",
        "\n",
        "\n",
        "**Input Format**\n",
        "\n",
        "One line containing an integer N.\n",
        "\n",
        "\n",
        "**Output Format**\n",
        "\n",
        "Print either 1 or 0 as per the question.\n",
        "\n",
        "\n",
        "**Example Input**\n",
        "\n",
        "Input 1:\n",
        "\n",
        "5\n",
        "\n",
        "Input 2:\n",
        "\n",
        "1000\n",
        "\n",
        "\n",
        "**Example Output**\n",
        "\n",
        "Output 1:\n",
        "\n",
        "1\n",
        "\n",
        "Output 2:\n",
        "\n",
        "0\n",
        "\n",
        "\n",
        "**Example Explanation**\n",
        "\n",
        "Explanation 1:\n",
        "\n",
        "Clearly, 5 is odd.\n",
        "\n",
        "Explanation 2:\n",
        "\n",
        "Clearly, 1000 is even."
      ],
      "metadata": {
        "id": "7H9I_083x129"
      }
    },
    {
      "cell_type": "code",
      "source": [
        "def main():\n",
        "    # YOUR CODE GOES HERE\n",
        "    # Please take input and print output to standard input/output (stdin/stdout)\n",
        "    # E.g. 'input()/raw_input()' for input & 'print' for output\n",
        "\n",
        "    N = int(input())\n",
        "\n",
        "    if N%2 == 0:\n",
        "        print(0)\n",
        "    else:\n",
        "        print(1)\n",
        "\n",
        "    return 0\n",
        "\n",
        "if __name__ == '__main__':\n",
        "    main()"
      ],
      "metadata": {
        "colab": {
          "base_uri": "https://localhost:8080/"
        },
        "id": "VtXT1Wv8yIn5",
        "outputId": "a7ad9fcc-3bc3-453b-9c04-bed9adc69272"
      },
      "execution_count": 10,
      "outputs": [
        {
          "output_type": "stream",
          "name": "stdout",
          "text": [
            "100\n",
            "0\n"
          ]
        }
      ]
    },
    {
      "cell_type": "markdown",
      "source": [
        "**Q6. Max of two:**\n",
        "\n",
        "**Problem Description**\n",
        "\n",
        "Write a program to input two numbers(A & B) from user and print the maximum element among A & B in each line.\n",
        "\n",
        "\n",
        "**Problem Constraints**\n",
        "\n",
        "1 <= A <= 1000000\n",
        "\n",
        "1 <= B <= 1000000\n",
        "\n",
        "\n",
        "**Input Format**\n",
        "\n",
        "First line is a single integer A.\n",
        "\n",
        "Second line is a single integer B.\n",
        "\n",
        "\n",
        "**Output Format**\n",
        "\n",
        "One line containing an integer as per the question.\n",
        "\n",
        "\n",
        "**Example Input**\n",
        "\n",
        "Input 1:\n",
        "\n",
        "5 \n",
        "6\n",
        "\n",
        "Input 2:\n",
        "\n",
        "1000 \n",
        "10000\n",
        "\n",
        "\n",
        "**Example Output**\n",
        "\n",
        "Output 1:\n",
        "\n",
        "6\n",
        "\n",
        "Output 2:\n",
        "\n",
        "10000\n",
        "\n",
        "\n",
        "**Example Explanation**\n",
        "\n",
        "Explanation 1:\n",
        "\n",
        "Clearly, among 5 and 6, 6 is maximum.\n",
        "\n",
        "Explanation 2:\n",
        "\n",
        "Clearly, among 1000 and 10000, 10000 is maximum."
      ],
      "metadata": {
        "id": "KN0OacayyYhy"
      }
    },
    {
      "cell_type": "code",
      "source": [
        "# Solution-1\n",
        "\n",
        "def main():\n",
        "    # YOUR CODE GOES HERE\n",
        "    # Please take input and print output to standard input/output (stdin/stdout)\n",
        "    # E.g. 'input()/raw_input()' for input & 'print' for output\n",
        "\n",
        "    l = list(map(int, input().split()))\n",
        "\n",
        "    A = l[0]\n",
        "    B = l[1]\n",
        "\n",
        "    if A >= B:\n",
        "        print(A)\n",
        "    else:\n",
        "        print(B)\n",
        "\n",
        "    return 0\n",
        "\n",
        "if __name__ == '__main__':\n",
        "    main()"
      ],
      "metadata": {
        "colab": {
          "base_uri": "https://localhost:8080/"
        },
        "id": "Wzd-HT5iyoTb",
        "outputId": "2ec714d5-21aa-4a1c-e5c4-8d49e89f5367"
      },
      "execution_count": 11,
      "outputs": [
        {
          "output_type": "stream",
          "name": "stdout",
          "text": [
            "5 6\n",
            "6\n"
          ]
        }
      ]
    },
    {
      "cell_type": "code",
      "source": [
        "# Solution-2\n",
        "\n",
        "def main():\n",
        "    # YOUR CODE GOES HERE\n",
        "    # Please take input and print output to standard input/output (stdin/stdout)\n",
        "    # E.g. 'input()/raw_input()' for input & 'print' for output\n",
        "\n",
        "    l = list(map(int, input().split()))\n",
        "\n",
        "    print(max(l))\n",
        "\n",
        "    return 0\n",
        "\n",
        "if __name__ == '__main__':\n",
        "    main()"
      ],
      "metadata": {
        "colab": {
          "base_uri": "https://localhost:8080/"
        },
        "id": "v1I-kBkJyxTY",
        "outputId": "b04c36a5-b0c5-491e-cb25-128c209d39c2"
      },
      "execution_count": 12,
      "outputs": [
        {
          "output_type": "stream",
          "name": "stdout",
          "text": [
            "5 6\n",
            "6\n"
          ]
        }
      ]
    },
    {
      "cell_type": "markdown",
      "source": [
        "**Q7. Max of three:**\n",
        "\n",
        "**Problem Description**\n",
        "\n",
        "Write a program to input three numbers(A, B & C) from user and print the maximum element among A, B & C in each line.\n",
        "\n",
        "\n",
        "**Problem Constraints**\n",
        "\n",
        "1 <= A <= 1000000\n",
        "\n",
        "1 <= B <= 1000000\n",
        "\n",
        "1 <= C <= 1000000\n",
        "\n",
        "\n",
        "**Input Format**\n",
        "\n",
        "First line is a single integer A.\n",
        "\n",
        "Second line is a single integer B.\n",
        "\n",
        "Third line is a single integer C.\n",
        "\n",
        "\n",
        "**Output Format**\n",
        "\n",
        "One line containing an integer as per the question.\n",
        "\n",
        "\n",
        "**Example Input**\n",
        "\n",
        "Input 1:\n",
        "\n",
        "5 \n",
        "6 \n",
        "7\n",
        "\n",
        "Input 2:\n",
        "\n",
        "1000 \n",
        "10000 \n",
        "100000\n",
        "\n",
        "\n",
        "Example Output\n",
        "\n",
        "Output 1:\n",
        "\n",
        "7\n",
        "\n",
        "Output 2:\n",
        "\n",
        "100000\n",
        "\n",
        "\n",
        "**Example Explanation**\n",
        "\n",
        "Explanation 1:\n",
        "\n",
        "Clearly, among 5, 6 and 7, 7 is maximum.\n",
        "\n",
        "Explanation 2:\n",
        "\n",
        "Clearly, among 1000, 10000 and 100000, 100000 is maximum."
      ],
      "metadata": {
        "id": "3e3NN10by2JQ"
      }
    },
    {
      "cell_type": "code",
      "source": [
        "# Solution-1\n",
        "\n",
        "def main():\n",
        "    # YOUR CODE GOES HERE\n",
        "    # Please take input and print output to standard input/output (stdin/stdout)\n",
        "    # E.g. 'input()/raw_input()' for input & 'print' for output\n",
        "\n",
        "    l = list(map(int, input().split()))\n",
        "\n",
        "    A = l[0]\n",
        "    B = l[1]\n",
        "    C = l[2]\n",
        "\n",
        "    if A >= B and A >= C:\n",
        "        print(A)\n",
        "    elif B >= A and B >= C:\n",
        "        print(B)\n",
        "    else:\n",
        "        print(C)\n",
        "\n",
        "    return 0\n",
        "\n",
        "if __name__ == '__main__':\n",
        "    main()"
      ],
      "metadata": {
        "colab": {
          "base_uri": "https://localhost:8080/"
        },
        "id": "wHxL2tKezPRA",
        "outputId": "6282c585-af09-42e1-ae4b-255638596475"
      },
      "execution_count": 13,
      "outputs": [
        {
          "output_type": "stream",
          "name": "stdout",
          "text": [
            "100 1000 10000\n",
            "10000\n"
          ]
        }
      ]
    },
    {
      "cell_type": "code",
      "source": [
        "# Solution-2\n",
        "\n",
        "def main():\n",
        "    # YOUR CODE GOES HERE\n",
        "    # Please take input and print output to standard input/output (stdin/stdout)\n",
        "    # E.g. 'input()/raw_input()' for input & 'print' for output\n",
        "\n",
        "    l = list(map(int, input().split()))\n",
        "\n",
        "    print(max(l))\n",
        "\n",
        "    return 0\n",
        "\n",
        "if __name__ == '__main__':\n",
        "    main()"
      ],
      "metadata": {
        "colab": {
          "base_uri": "https://localhost:8080/"
        },
        "id": "5et-588Tzaci",
        "outputId": "c20c667a-4cac-4c3e-d54b-c002a972a1e5"
      },
      "execution_count": 14,
      "outputs": [
        {
          "output_type": "stream",
          "name": "stdout",
          "text": [
            "100 1000 10000\n",
            "10000\n"
          ]
        }
      ]
    },
    {
      "cell_type": "markdown",
      "source": [
        "**Q3. Categories the number:**\n",
        "\n",
        "**Problem Description**\n",
        "\n",
        "Write a program to input a number(A) from user and print 1 if it is positive, -1 if it is negative, 0 if it's neither positive nor negative.\n",
        "\n",
        "\n",
        "**Problem Constraints**\n",
        "\n",
        "1 <= A <= 1000000\n",
        "\n",
        "\n",
        "**Input Format**\n",
        "\n",
        "One line containing an integer A.\n",
        "\n",
        "\n",
        "**Output Format**\n",
        "\n",
        "One line each 0/1/-1 as per the question.\n",
        "\n",
        "\n",
        "**Example Input**\n",
        "\n",
        "Input 1:\n",
        "\n",
        "50\n",
        "\n",
        "Input 2:\n",
        "\n",
        "-101\n",
        "\n",
        "Input 3:\n",
        "\n",
        "0\n",
        "\n",
        "\n",
        "**Example Output**\n",
        "\n",
        "Output 1:\n",
        "\n",
        "1\n",
        "\n",
        "Output 2:\n",
        "\n",
        "-1\n",
        "\n",
        "Output 3:\n",
        "\n",
        "0\n",
        "\n",
        "\n",
        "**Example Explanation**\n",
        "\n",
        "Explanation 1:\n",
        "\n",
        "Clearly, 50 is positive.\n",
        "\n",
        "Explanation 2:\n",
        "\n",
        "Clearly, -101 is negative.\n",
        "\n",
        "Explanation 3:\n",
        "\n",
        "Clearly, 0 is neither positive nor negative."
      ],
      "metadata": {
        "id": "A33vr33izmYq"
      }
    },
    {
      "cell_type": "code",
      "source": [
        "def main():\n",
        "    # YOUR CODE GOES HERE\n",
        "    # Please take input and print output to standard input/output (stdin/stdout)\n",
        "    # E.g. 'input()/raw_input()' for input & 'print' for output\n",
        "\n",
        "    A = int(input())\n",
        "\n",
        "    if A > 0:\n",
        "        print(1)\n",
        "    elif A < 0:\n",
        "        print(-1)\n",
        "    else:\n",
        "        print(0)\n",
        "\n",
        "    return 0\n",
        "\n",
        "if __name__ == '__main__':\n",
        "    main()"
      ],
      "metadata": {
        "colab": {
          "base_uri": "https://localhost:8080/"
        },
        "id": "IQoQz6tdz3kC",
        "outputId": "4591ec04-7c4b-44cc-8100-d543de45f593"
      },
      "execution_count": 15,
      "outputs": [
        {
          "output_type": "stream",
          "name": "stdout",
          "text": [
            "35\n",
            "1\n"
          ]
        }
      ]
    }
  ]
}