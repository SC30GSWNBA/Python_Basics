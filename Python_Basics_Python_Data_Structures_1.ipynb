{
  "nbformat": 4,
  "nbformat_minor": 0,
  "metadata": {
    "colab": {
      "name": "Python_Basics : Python Data Structures 1.ipynb",
      "provenance": [],
      "collapsed_sections": []
    },
    "kernelspec": {
      "name": "python3",
      "display_name": "Python 3"
    },
    "language_info": {
      "name": "python"
    }
  },
  "cells": [
    {
      "cell_type": "markdown",
      "source": [
        "**Q1. Linear Search**\n",
        "\n",
        "**Problem Description**\n",
        "\n",
        "You are given an array of integers A of length N and an integer B.\n",
        "\n",
        "Return 1 if B is present in the array A, 0 otherwise.\n",
        "\n",
        "**Problem Constraints**\n",
        "\n",
        "1 <= N <= 10^5\n",
        "\n",
        "1 <= A[i] <= 10^9\n",
        "\n",
        "1 <= B <= 10^9\n",
        "\n",
        "**Input Format**\n",
        "\n",
        "First argument is the integer array A.\n",
        "\n",
        "Second argument is the integer B.\n",
        "\n",
        "**Output Format**\n",
        "\n",
        "Return 1 / 0, depending on the presence of B.\n",
        "\n",
        "**Example Input**\n",
        "\n",
        "Input 1:\n",
        "\n",
        "A = [1, 4, 3, 2]\n",
        "\n",
        "B = 2\n",
        "\n",
        "Input 2:\n",
        "\n",
        "A = [1, 4, 3, 2]\n",
        "\n",
        "B = 5\n",
        "\n",
        "**Example Output**\n",
        "\n",
        "Output 1:\n",
        "\n",
        "1\n",
        "\n",
        "Output 2:\n",
        "\n",
        "0\n",
        "\n",
        "**Example Explanation**\n",
        "\n",
        "Explanation 1:\n",
        "\n",
        "2 is present in the array.\n",
        "\n",
        "Input 2:\n",
        "\n",
        "5 is not present in the array."
      ],
      "metadata": {
        "id": "FWc2ZgWPxCfW"
      }
    },
    {
      "cell_type": "code",
      "execution_count": null,
      "metadata": {
        "colab": {
          "base_uri": "https://localhost:8080/"
        },
        "id": "0AAZG5kyw8jZ",
        "outputId": "696adc12-f30d-4953-e060-ab074f8ad113"
      },
      "outputs": [
        {
          "output_type": "stream",
          "name": "stdout",
          "text": [
            "1\n",
            "0\n"
          ]
        }
      ],
      "source": [
        "class Solution:\n",
        "    # param A : list of integers\n",
        "    # param B : integer\n",
        "    # return an integer\n",
        "    def linearSearch(self, A, B):\n",
        "\n",
        "        if B in A:\n",
        "\n",
        "            return 1\n",
        "\n",
        "        else:\n",
        "\n",
        "            return 0\n",
        "\n",
        "\n",
        "X = Solution()\n",
        "\n",
        "print(X.linearSearch([1, 4, 3, 2], 2))\n",
        "print(X.linearSearch([1, 4, 3, 2], 5))"
      ]
    },
    {
      "cell_type": "markdown",
      "source": [
        "**Q2. Linear Search - Multiple Occurences**\n",
        "\n",
        "**Problem Description**\n",
        "\n",
        "Given an array A and an integer B, find the number of occurrences of B in A.\n",
        "\n",
        "**Problem Constraints**\n",
        "\n",
        "1 <= B, A[i] <= 10^9\n",
        "\n",
        "1 <= |A| <= 10^5\n",
        "\n",
        "**Input Format**\n",
        "\n",
        "Given an integer array A and an integer B.\n",
        "\n",
        "**Output Format**\n",
        "\n",
        "Return an integer, number of occurrences of B in A.\n",
        "\n",
        "**Example Input**\n",
        "\n",
        "Input 1:\n",
        "\n",
        " A = [1, 2, 2], B = 2 \n",
        "\n",
        "Input 2:\n",
        "\n",
        " A = [1, 2, 1], B = 3 \n",
        "\n",
        "**Example Output**\n",
        "\n",
        "Output 1:\n",
        "\n",
        " 2\n",
        "\n",
        "Output 2:\n",
        "\n",
        " 0\n",
        "\n",
        "**Example Explanation**\n",
        "\n",
        "Explanation 1:\n",
        "\n",
        "Element at index 2, 3 is equal to 2 hence count is 2.\n",
        "\n",
        "Explanation 2:\n",
        "\n",
        "There is no element equal to 3 in the array."
      ],
      "metadata": {
        "id": "gWb4x913x0xI"
      }
    },
    {
      "cell_type": "code",
      "source": [
        "class Solution:\n",
        "    # param A : list of integers\n",
        "    # param B : integer\n",
        "    # return an integer\n",
        "    def solve(self, A, B):\n",
        "\n",
        "        return A.count(B)\n",
        "\n",
        "X = Solution()\n",
        "\n",
        "print(X.solve([1, 2, 2], 2))\n",
        "print(X.solve([1, 2, 3], 4))"
      ],
      "metadata": {
        "colab": {
          "base_uri": "https://localhost:8080/"
        },
        "id": "CIiBnkvIyFQe",
        "outputId": "7be1292d-2bf9-40f7-c825-4b0293f85653"
      },
      "execution_count": null,
      "outputs": [
        {
          "output_type": "stream",
          "name": "stdout",
          "text": [
            "2\n",
            "0\n"
          ]
        }
      ]
    },
    {
      "cell_type": "markdown",
      "source": [
        "**Q3. Print in Reverse**\n",
        "\n",
        "**Problem Description**\n",
        "\n",
        "Write a program to print the input array A of size N in reverse order where you have to take integer N and further N elements as input from user.\n",
        "\n",
        "**Problem Constraints**\n",
        "\n",
        "1 <= N <= 1000\n",
        "\n",
        "1 <= A <= 1000\n",
        "\n",
        "**Input Format**\n",
        "\n",
        "A single line representing N followed by N integers of the array A\n",
        "\n",
        "**Output Format**\n",
        "\n",
        "A single line containing N space separated integers representing elements of the input array in reverse order.\n",
        "\n",
        "**Example Input**\n",
        "\n",
        "Input 1:\n",
        "\n",
        "5 1 2 3 4 5\n",
        "\n",
        "Input 2:\n",
        "\n",
        "4 10 50 40 80\n",
        "\n",
        "**Example Output**\n",
        "\n",
        "Output 1:\n",
        "\n",
        "5 4 3 2 1\n",
        "\n",
        "Output 2:\n",
        "\n",
        "80 40 50 10"
      ],
      "metadata": {
        "id": "YZMzmZU-ylbs"
      }
    },
    {
      "cell_type": "code",
      "source": [
        "def main():\n",
        "    # YOUR CODE GOES HERE\n",
        "    # Please take input and print output to standard input/output (stdin/stdout)\n",
        "    # E.g. 'input()/raw_input()' for input & 'print' for output\n",
        "\n",
        "    l = list(map(int, input().split()))\n",
        "\n",
        "    N = l[0]\n",
        "\n",
        "    A = l[1:]\n",
        "\n",
        "    for i in range(N-1, -1, -1):\n",
        "        print(A[i], end = ' ')\n",
        "\n",
        "    return 0\n",
        "\n",
        "if __name__ == '__main__':\n",
        "    main()"
      ],
      "metadata": {
        "colab": {
          "base_uri": "https://localhost:8080/"
        },
        "id": "VyFOadUmzHyG",
        "outputId": "503b7191-e672-45c8-e41f-f8adc0945991"
      },
      "execution_count": null,
      "outputs": [
        {
          "output_type": "stream",
          "name": "stdout",
          "text": [
            "4 90 91 92 96\n",
            "96 92 91 90 "
          ]
        }
      ]
    },
    {
      "cell_type": "markdown",
      "source": [
        "**Q4. Negative Integers**\n",
        "\n",
        "**Problem Description**\n",
        "\n",
        "Write a program to print all negative numbers from input array A of size N where you have to take integer N and further N elements as input from user.\n",
        "\n",
        "**Problem Constraints**\n",
        "\n",
        "1 <= N <= 1000\n",
        "\n",
        "-1000 <= A <= 1000\n",
        "\n",
        "**Input Format**\n",
        "\n",
        "A single line representing N followed by N integers of the array A\n",
        "\n",
        "**Output Format**\n",
        "\n",
        "A single line containing elements from the input array which are negative in the same order.\n",
        "\n",
        "**Example Input**\n",
        "\n",
        "Input 1:\n",
        "\n",
        "5 1 -5 2 -8 -4\n",
        "\n",
        "Input 2:\n",
        "\n",
        "4 -1 0 -8 -1\n",
        "\n",
        "**Example Output**\n",
        "\n",
        "Output 1:\n",
        "\n",
        "-5 -8 -4\n",
        "\n",
        "Output 2:\n",
        "\n",
        "-1 -8 -1"
      ],
      "metadata": {
        "id": "pwVG139KzYzF"
      }
    },
    {
      "cell_type": "code",
      "source": [
        "def main():\n",
        "    # YOUR CODE GOES HERE\n",
        "    # Please take input and print output to standard input/output (stdin/stdout)\n",
        "    # E.g. 'input()/raw_input()' for input & 'print' for output\n",
        "\n",
        "    l = list(map(int, input().split()))\n",
        "\n",
        "    for i in l[1:]:\n",
        "\n",
        "        if i < 0:\n",
        "\n",
        "            print(i, end = ' ')\n",
        "\n",
        "    return 0\n",
        "\n",
        "if __name__ == '__main__':\n",
        "    main()"
      ],
      "metadata": {
        "colab": {
          "base_uri": "https://localhost:8080/"
        },
        "id": "1yRTshfOzqBQ",
        "outputId": "b4a90ad3-3ced-41f2-a449-19bd0cd1b792"
      },
      "execution_count": null,
      "outputs": [
        {
          "output_type": "stream",
          "name": "stdout",
          "text": [
            "5 -90 -91 -92 -93 34\n",
            "-90 -91 -92 -93 "
          ]
        }
      ]
    },
    {
      "cell_type": "markdown",
      "source": [
        "**Q5. Sum the Array**\n",
        "\n",
        "**Problem Description**\n",
        "\n",
        "Write a program to print sum of elements of the input array A of size N where you have to take integer N and further N elements as input from user.\n",
        "\n",
        "**Problem Constraints**\n",
        "\n",
        "1 <= N <= 1000\n",
        "\n",
        "1 <= A <= 1000\n",
        "\n",
        "**Input Format**\n",
        "\n",
        "A single line representing N followed by N integers of the array A\n",
        "\n",
        "**Output Format**\n",
        "\n",
        "A single integer containing sum of elements from the input array.\n",
        "\n",
        "**Example Input**\n",
        "\n",
        "Input 1:\n",
        "\n",
        "5 1 2 3 4 5\n",
        "\n",
        "Input 2:\n",
        "\n",
        "4 10 50 40 80\n",
        "\n",
        "**Example Output**\n",
        "\n",
        "Output 1:\n",
        "\n",
        "15\n",
        "\n",
        "Output 2:\n",
        "\n",
        "180"
      ],
      "metadata": {
        "id": "e_-uMShzz1dt"
      }
    },
    {
      "cell_type": "code",
      "source": [
        "def main():\n",
        "    # YOUR CODE GOES HERE\n",
        "    # Please take input and print output to standard input/output (stdin/stdout)\n",
        "    # E.g. 'input()/raw_input()' for input & 'print' for output\n",
        "\n",
        "    l = list(map(int, input().split()))\n",
        "\n",
        "    print(sum(l[1:]))\n",
        "\n",
        "    return 0\n",
        "\n",
        "if __name__ == '__main__':\n",
        "    main()"
      ],
      "metadata": {
        "colab": {
          "base_uri": "https://localhost:8080/"
        },
        "id": "7P_92gMy0Bfl",
        "outputId": "d3364e2c-00ce-4b6e-c8b3-c336f464a2f9"
      },
      "execution_count": null,
      "outputs": [
        {
          "output_type": "stream",
          "name": "stdout",
          "text": [
            "4 10 50 40 96\n",
            "196\n"
          ]
        }
      ]
    },
    {
      "cell_type": "markdown",
      "source": [
        "**Q6. Remove that**\n",
        "\n",
        "**Problem Description**\n",
        "\n",
        "Write a program to input N numbers array from user and delete an element from it at specified position X.\n",
        "\n",
        "**Problem Constraints**\n",
        "\n",
        "1 <= N <= 100\n",
        "\n",
        "1 <= A[i] <= 1000\n",
        "\n",
        "1 <= X <= N\n",
        "\n",
        "**Input Format**\n",
        "\n",
        "First line is N which means number of elements.\n",
        "\n",
        "Second line contains N space separated integers.\n",
        "\n",
        "Third line is X position which has to be deleted.\n",
        "\n",
        "**Output Format**\n",
        "\n",
        "N-1 space separated integers of the input array after deleting the element at required position.\n",
        "\n",
        "**Example Input**\n",
        "\n",
        "Input 1:\n",
        "\n",
        "5\n",
        "\n",
        "2 3 1 4 2\n",
        "\n",
        "3\n",
        "\n",
        "**Example Output**\n",
        "\n",
        "Output 1:\n",
        "\n",
        "2 3 4 2\n",
        "\n",
        "**Example Explanation**\n",
        "\n",
        "Explanation 1:\n",
        "\n",
        "Clearly after removing A[3] = 1, remaining array is 2 3 4 2."
      ],
      "metadata": {
        "id": "yPw1xyuE8NU_"
      }
    },
    {
      "cell_type": "code",
      "source": [
        "def main():\n",
        "    # YOUR CODE GOES HERE\n",
        "    # Please take input and print output to standard input/output (stdin/stdout)\n",
        "    # E.g. 'input()/raw_input()' for input & 'print' for output\n",
        "\n",
        "    N = int(input())\n",
        "\n",
        "    l = list(map(int, input().split()))\n",
        "\n",
        "    X = int(input())\n",
        "\n",
        "    l.pop(X-1)\n",
        "\n",
        "    for i in l:\n",
        "\n",
        "        print(i, end = ' ')\n",
        "\n",
        "    return 0\n",
        "\n",
        "if __name__ == '__main__':\n",
        "    main()"
      ],
      "metadata": {
        "colab": {
          "base_uri": "https://localhost:8080/"
        },
        "id": "oRzi6JIh8ggT",
        "outputId": "e018d8df-ce1a-4514-b691-64bc73f346c7"
      },
      "execution_count": null,
      "outputs": [
        {
          "output_type": "stream",
          "name": "stdout",
          "text": [
            "5\n",
            "2 3 1 4 2\n",
            "2\n",
            "2 1 4 2 "
          ]
        }
      ]
    },
    {
      "cell_type": "markdown",
      "source": [
        "**Q7. Insert that**\n",
        "\n",
        "**Problem Description**\n",
        "\n",
        "Write a program to input N numbers array from user and insert an element Y in it at specified position X.\n",
        "\n",
        "**Problem Constraints**\n",
        "\n",
        "1 <= N <= 100\n",
        "\n",
        "1 <= A[i] <= 1000\n",
        "\n",
        "1 <= X <= N\n",
        "\n",
        "1 <= Y <= 1000\n",
        "\n",
        "**Input Format**\n",
        "\n",
        "First line is N which means number of elements.\n",
        "\n",
        "Second line contains N space separated integers.\n",
        "\n",
        "Third line is X position where Y has to be inserted.\n",
        "\n",
        "Fourth line is Y which has to be inserted.\n",
        "\n",
        "**Output Format**\n",
        "\n",
        "N+1 space separated integers of the input array after inserting the element at required position.\n",
        "\n",
        "**Example Input**\n",
        "\n",
        "Input 1:\n",
        "\n",
        "5\n",
        "\n",
        "2 3 1 4 2\n",
        "\n",
        "3\n",
        "\n",
        "5\n",
        "\n",
        "**Example Output**\n",
        "\n",
        "Output 1:\n",
        "\n",
        "2 3 5 1 4 2\n",
        "\n",
        "**Example Explanation**\n",
        "\n",
        "Explanation 1:\n",
        "\n",
        "Clearly after inserting 5 at 3rd position, new array is 2 3 5 1 4 2. "
      ],
      "metadata": {
        "id": "bzyUzwqk8wWC"
      }
    },
    {
      "cell_type": "code",
      "source": [
        "def main():\n",
        "    # YOUR CODE GOES HERE\n",
        "    # Please take input and print output to standard input/output (stdin/stdout)\n",
        "    # E.g. 'input()/raw_input()' for input & 'print' for output\n",
        "\n",
        "    N = int(input())\n",
        "\n",
        "    l = list(map(int, input().split()))\n",
        "\n",
        "    X = int(input())\n",
        "\n",
        "    Y = int(input())\n",
        "\n",
        "    l.insert(X-1, Y)\n",
        "\n",
        "    for i in l:\n",
        "\n",
        "        print(i, end = ' ')\n",
        "\n",
        "    return 0\n",
        "\n",
        "if __name__ == '__main__':\n",
        "    main()"
      ],
      "metadata": {
        "colab": {
          "base_uri": "https://localhost:8080/"
        },
        "id": "j9HK2ZGK9F6I",
        "outputId": "91e96dc0-b9eb-4847-dae0-3dd142e4a1e7"
      },
      "execution_count": null,
      "outputs": [
        {
          "output_type": "stream",
          "name": "stdout",
          "text": [
            "5\n",
            "2 3 1 4 2\n",
            "3\n",
            "5\n",
            "2 3 5 1 4 2 "
          ]
        }
      ]
    },
    {
      "cell_type": "markdown",
      "source": [
        "**Q8. Copy the Array**\n",
        "\n",
        "**Problem Description**\n",
        "\n",
        "You are given a constant array A and an integer B.\n",
        "\n",
        "You are required to return another array where outArr[i] = A[i] + B.\n",
        "\n",
        "**Problem Constraints**\n",
        "\n",
        "1 <= A.size() <= 10000\n",
        "\n",
        "1 <= A[i] <= 10000\n",
        "\n",
        "1 <= B <= 10000\n",
        "\n",
        "**Input Format**\n",
        "\n",
        "First argument is a constant array A.\n",
        "\n",
        "Second argument is an integer B.\n",
        "\n",
        "**Output Format**\n",
        "\n",
        "You have to return an integer array.\n",
        "\n",
        "**Example Input**\n",
        "\n",
        "Input 1:\n",
        "\n",
        "A = [1,2,3,2,1]\n",
        "\n",
        "B = 3\n",
        "\n",
        "Input 2:\n",
        "\n",
        "A = [1,1,10]\n",
        "\n",
        "B = 6\n",
        "\n",
        "**Example Output**\n",
        "\n",
        "Output 1:\n",
        "\n",
        " [4,5,6,5,4] \n",
        "\n",
        "Output 2:\n",
        "\n",
        " [7,7,16] \n",
        "\n",
        "**Example Explanation**\n",
        "\n",
        "Explanation 1:\n",
        "\n",
        "A[0] + 3 = 1 + 3 = 4\n",
        "\n",
        "A[1] + 3 = 2 + 3 = 5\n",
        "\n",
        "A[2] + 3 = 3 + 3 = 6\n",
        "\n",
        "A[3] + 3 = 2 + 3 = 5\n",
        "\n",
        "A[4] + 3 = 1 + 3 = 4"
      ],
      "metadata": {
        "id": "cvOkyddM9Qzv"
      }
    },
    {
      "cell_type": "code",
      "source": [
        "class Solution:\n",
        "    # param A : tuple of integers\n",
        "    # param B : integer\n",
        "    # return a list of integers\n",
        "    def solve(self, A, B):\n",
        "\n",
        "        return [x + B for x in A]\n",
        "\n",
        "X = Solution()\n",
        "X.solve([4,5,6,5,4], 90)"
      ],
      "metadata": {
        "colab": {
          "base_uri": "https://localhost:8080/"
        },
        "id": "SAWWt-8j9pju",
        "outputId": "93669d6c-2162-4142-982e-5241d3c1ec8c"
      },
      "execution_count": null,
      "outputs": [
        {
          "output_type": "execute_result",
          "data": {
            "text/plain": [
              "[94, 95, 96, 95, 94]"
            ]
          },
          "metadata": {},
          "execution_count": 10
        }
      ]
    },
    {
      "cell_type": "markdown",
      "source": [
        "**Q9. Max and Min of an Array**\n",
        "\n",
        "**Problem Description**\n",
        "\n",
        "Write a program to print maximum and minimum elements of the input array A of size N where you have to take integer N and other N elements as input from the user.\n",
        "\n",
        "**Problem Constraints**\n",
        "\n",
        "1 <= N <= 1000\n",
        "\n",
        "1 <= A <= 1000\n",
        "\n",
        "**Input Format**\n",
        "\n",
        "A single line representing N followed by N integers of the array A\n",
        "\n",
        "**Output Format**\n",
        "\n",
        "A single line containing two space separated integers representing maximum and minimum elements of the input array.\n",
        "\n",
        "**Example Input**\n",
        "\n",
        "Input 1:\n",
        "\n",
        "5 1 2 3 4 5\n",
        "\n",
        "Input 2:\n",
        "\n",
        "4 10 50 40 80\n",
        "\n",
        "**Example Output**\n",
        "\n",
        "Output 1:\n",
        "\n",
        "5 1\n",
        "\n",
        "Output 2:\n",
        "\n",
        "80 10"
      ],
      "metadata": {
        "id": "R6xGdFpM-wfF"
      }
    },
    {
      "cell_type": "code",
      "source": [
        "def main():\n",
        "    # YOUR CODE GOES HERE\n",
        "    # Please take input and print output to standard input/output (stdin/stdout)\n",
        "    # E.g. 'input()/raw_input()' for input & 'print' for output\n",
        "\n",
        "    l = list(map(int, input().split()))\n",
        "\n",
        "    l_desc = sorted(l[1:], reverse = True)\n",
        "\n",
        "    print(l_desc[0], l_desc[-1])\n",
        "\n",
        "    return 0\n",
        "\n",
        "if __name__ == '__main__':\n",
        "    main()"
      ],
      "metadata": {
        "colab": {
          "base_uri": "https://localhost:8080/"
        },
        "id": "5gp_s8Kv_Wra",
        "outputId": "27663d83-5f44-4a38-8404-e46c19ec3833"
      },
      "execution_count": null,
      "outputs": [
        {
          "output_type": "stream",
          "name": "stdout",
          "text": [
            "5 92 93 94 95 96\n",
            "96 92\n"
          ]
        }
      ]
    }
  ]
}