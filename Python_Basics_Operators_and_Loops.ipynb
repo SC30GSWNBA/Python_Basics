{
  "nbformat": 4,
  "nbformat_minor": 0,
  "metadata": {
    "colab": {
      "name": "Python_Basics : Operators and Loops.ipynb",
      "provenance": [],
      "collapsed_sections": []
    },
    "kernelspec": {
      "name": "python3",
      "display_name": "Python 3"
    },
    "language_info": {
      "name": "python"
    }
  },
  "cells": [
    {
      "cell_type": "markdown",
      "source": [
        "**Q1. Number Pattern - II**\n",
        "\n",
        "**Problem Description**\n",
        "\n",
        "Write a program to input an integer N from user and print the given number pattern.\n",
        "\n",
        "See example for clarifications.\n",
        "\n",
        "**Problem Constraints**\n",
        "\n",
        "1 <= N <= 1000\n",
        "\n",
        "**Input Format**\n",
        "\n",
        "First line is an integer N\n",
        "\n",
        "**Output Format**\n",
        "\n",
        "N lines conatining the given pattern.\n",
        "\n",
        "**Example Input**\n",
        "\n",
        "Input 1:\n",
        "\n",
        "4\n",
        "\n",
        "Input 2:\n",
        "\n",
        "3\n",
        "\n",
        "**Example Output**\n",
        "\n",
        "Output 1:\n",
        "\n",
        "1 \n",
        "\n",
        "2 3 \n",
        "\n",
        "4 5 6 \n",
        "\n",
        "7 8 9 10 \n",
        "\n",
        "Output 2:\n",
        "\n",
        "1 \n",
        "\n",
        "2 3 \n",
        "\n",
        "4 5 6 "
      ],
      "metadata": {
        "id": "OeokhAtOnN5z"
      }
    },
    {
      "cell_type": "code",
      "execution_count": 2,
      "metadata": {
        "colab": {
          "base_uri": "https://localhost:8080/"
        },
        "id": "vQU1C-AcnIS6",
        "outputId": "f7ea71a7-9fe7-4a3e-fae1-29ff1a95fc68"
      },
      "outputs": [
        {
          "output_type": "stream",
          "name": "stdout",
          "text": [
            "4\n",
            "1 \n",
            "2 3 \n",
            "4 5 6 \n",
            "7 8 9 10 \n"
          ]
        }
      ],
      "source": [
        "def main():\n",
        "    # YOUR CODE GOES HERE\n",
        "    # Please take input and print output to standard input/output (stdin/stdout)\n",
        "    # E.g. 'input()/raw_input()' for input & 'print' for output\n",
        "\n",
        "    N = int(input())\n",
        "\n",
        "    j = 1\n",
        "\n",
        "    for i in range(1, N+1):\n",
        "        for k in range(1, i+1):\n",
        "            print(j, end = ' ')\n",
        "            j = j + 1\n",
        "        print()\n",
        "\n",
        "    return 0\n",
        "\n",
        "if __name__ == '__main__':\n",
        "    main()"
      ]
    },
    {
      "cell_type": "code",
      "source": [
        "def main():\n",
        "    # YOUR CODE GOES HERE\n",
        "    # Please take input and print output to standard input/output (stdin/stdout)\n",
        "    # E.g. 'input()/raw_input()' for input & 'print' for output\n",
        "\n",
        "    N = int(input())\n",
        "\n",
        "    j = 1\n",
        "\n",
        "    for i in range(1, N+1):\n",
        "        for k in range(1, i+1):\n",
        "            print(j, end = ' ')\n",
        "            j = j + 1\n",
        "        print()\n",
        "\n",
        "    return 0\n",
        "\n",
        "if __name__ == '__main__':\n",
        "    main()"
      ],
      "metadata": {
        "id": "SZm3qnLHnwIS"
      },
      "execution_count": null,
      "outputs": []
    },
    {
      "cell_type": "markdown",
      "source": [
        "**Q2. Stair Pattern**\n",
        "\n",
        "**Problem Description**\n",
        "\n",
        "Given an integer N, print the corresponding stair pattern for N.\n",
        "\n",
        "For example if N = 6 then stair pattern will be like:\n",
        "\n",
        "![Half Pyramid.JPG](data:image/jpeg;base64,/9j/4AAQSkZJRgABAQEAYABgAAD/4RD6RXhpZgAATU0AKgAAAAgABAE7AAIAAAAQAAAISodpAAQAAAABAAAIWpydAAEAAAAgAAAQ0uocAAcAAAgMAAAAPgAAAAAc6gAAAAgAAAAAAAAAAAAAAAAAAAAAAAAAAAAAAAAAAAAAAAAAAAAAAAAAAAAAAAAAAAAAAAAAAAAAAAAAAAAAAAAAAAAAAAAAAAAAAAAAAAAAAAAAAAAAAAAAAAAAAAAAAAAAAAAAAAAAAAAAAAAAAAAAAAAAAAAAAAAAAAAAAAAAAAAAAAAAAAAAAAAAAAAAAAAAAAAAAAAAAAAAAAAAAAAAAAAAAAAAAAAAAAAAAAAAAAAAAAAAAAAAAAAAAAAAAAAAAAAAAAAAAAAAAAAAAAAAAAAAAAAAAAAAAAAAAAAAAAAAAAAAAAAAAAAAAAAAAAAAAAAAAAAAAAAAAAAAAAAAAAAAAAAAAAAAAAAAAAAAAAAAAAAAAAAAAAAAAAAAAAAAAAAAAAAAAAAAAAAAAAAAAAAAAAAAAAAAAAAAAAAAAAAAAAAAAAAAAAAAAAAAAAAAAAAAAAAAAAAAAAAAAAAAAAAAAAAAAAAAAAAAAAAAAAAAAAAAAAAAAAAAAAAAAAAAAAAAAAAAAAAAAAAAAAAAAAAAAAAAAAAAAAAAAAAAAAAAAAAAAAAAAAAAAAAAAAAAAAAAAAAAAAAAAAAAAAAAAAAAAAAAAAAAAAAAAAAAAAAAAAAAAAAAAAAAAAAAAAAAAAAAAAAAAAAAAAAAAAAAAAAAAAAAAAAAAAAAAAAAAAAAAAAAAAAAAAAAAAAAAAAAAAAAAAAAAAAAAAAAAAAAAAAAAAAAAAAAAAAAAAAAAAAAAAAAAAAAAAAAAAAAAAAAAAAAAAAAAAAAAAAAAAAAAAAAAAAAAAAAAAAAAAAAAAAAAAAAAAAAAAAAAAAAAAAAAAAAAAAAAAAAAAAAAAAAAAAAAAAAAAAAAAAAAAAAAAAAAAAAAAAAAAAAAAAAAAAAAAAAAAAAAAAAAAAAAAAAAAAAAAAAAAAAAAAAAAAAAAAAAAAAAAAAAAAAAAAAAAAAAAAAAAAAAAAAAAAAAAAAAAAAAAAAAAAAAAAAAAAAAAAAAAAAAAAAAAAAAAAAAAAAAAAAAAAAAAAAAAAAAAAAAAAAAAAAAAAAAAAAAAAAAAAAAAAAAAAAAAAAAAAAAAAAAAAAAAAAAAAAAAAAAAAAAAAAAAAAAAAAAAAAAAAAAAAAAAAAAAAAAAAAAAAAAAAAAAAAAAAAAAAAAAAAAAAAAAAAAAAAAAAAAAAAAAAAAAAAAAAAAAAAAAAAAAAAAAAAAAAAAAAAAAAAAAAAAAAAAAAAAAAAAAAAAAAAAAAAAAAAAAAAAAAAAAAAAAAAAAAAAAAAAAAAAAAAAAAAAAAAAAAAAAAAAAAAAAAAAAAAAAAAAAAAAAAAAAAAAAAAAAAAAAAAAAAAAAAAAAAAAAAAAAAAAAAAAAAAAAAAAAAAAAAAAAAAAAAAAAAAAAAAAAAAAAAAAAAAAAAAAAAAAAAAAAAAAAAAAAAAAAAAAAAAAAAAAAAAAAAAAAAAAAAAAAAAAAAAAAAAAAAAAAAAAAAAAAAAAAAAAAAAAAAAAAAAAAAAAAAAAAAAAAAAAAAAAAAAAAAAAAAAAAAAAAAAAAAAAAAAAAAAAAAAAAAAAAAAAAAAAAAAAAAAAAAAAAAAAAAAAAAAAAAAAAAAAAAAAAAAAAAAAAAAAAAAAAAAAAAAAAAAAAAAAAAAAAAAAAAAAAAAAAAAAAAAAAAAAAAAAAAAAAAAAAAAAAAAAAAAAAAAAAAAAAAAAAAAAAAAAAAAAAAAAAAAAAAAAAAAAAAAAAAAAAAAAAAAAAAAAAAAAAAAAAAAAAAAAAAAAAAAAAAAAAAAAAAAAAAAAAAAAAAAAAAAAAAAAAAAAAAAAAAAAAAAAAAAAAAAAAAAAAAAAAAAAAAAAAAAAAAAAAAAAAAAAAAAAAAAAAAAAAAAAAAAAAAAAAAAAAAAAAAAAAAAAAAAAAAAAAAAAAAAAAAAAAAAAAAAAAAAAAAAAAAAAAAAAAAAAAAAAAAAAAAAAAAAAAAAAAAAAAAAAAAAAAAAAAAAAAAAAAAAAAAAAAAAAAAAAAAAAAAAAAAAAAAAAAAAAAAAAAAAAAAAAAAAAAAAAAAAAAAAAAAAAAAAAAAAAAAAAAAAAAAAAAAAAAAAAAAAAAAAAAAAAAAAAAAAAAAAAAAAAAAAAAAAAAAAAAAAAAAAAAAAAAAAAAAAAAAAAAAAAAAAAAAAAAAAAAAAAAAAAAAAAAAAAAAAAAAAAAAAAAAAAAAAAAAAAAAAAAAAAAAAAAAAAAAAAAAAAAAAAAAAAAAAAAAAAAAAAAAAAAAAAAAAAAAAAAAAAAAAAAAAAAAAAAAAAAAAAAAAAAAAAAAAAAAAAAAAAAAAAAAAAAAAAAAAAAAAAAAAAAAAAAAAAAAAAAAAAAAAAAAAAAAAAAAAAAAAAAAAAAAAAAAAAAAAAAAAAAAAAAAAAAAAAAAAAAAAAAAAAAAAAAAAAAAAAAAAAAAAAAAAAAAAAAAAAAAAAAAAAAAAAAAAAAAAAAAAAAAAAAAAAAAAAAAAAAAAAAAAAAAAAAAAAAAAAAAAAAAAAAAAAAAAAAAAAAAAAAAAAAAAAAAAAAAAAAAAAAAAAAAAAAAAAAAAAAAAAAAAAAAAAAAAAAAAAAAAAAAAAAAAAAAAAAAAAAAAAAAAAAAAAAAAAAAAAAAAAAAAAAAAAAAAAAAAAAAAAAAAAAAAAAAAAAAAAAAAAAAAAAAAAAAAAAAAAAAAAAAAAAAAAAAAAAAAAAAAAAAAAAAAAAAAAAAAAEJpbGxpb25haXJlU1JveQAABZADAAIAAAAUAAAQqJAEAAIAAAAUAAAQvJKRAAIAAAADODEAAJKSAAIAAAADODEAAOocAAcAAAgMAAAInAAAAAAc6gAAAAgAAAAAAAAAAAAAAAAAAAAAAAAAAAAAAAAAAAAAAAAAAAAAAAAAAAAAAAAAAAAAAAAAAAAAAAAAAAAAAAAAAAAAAAAAAAAAAAAAAAAAAAAAAAAAAAAAAAAAAAAAAAAAAAAAAAAAAAAAAAAAAAAAAAAAAAAAAAAAAAAAAAAAAAAAAAAAAAAAAAAAAAAAAAAAAAAAAAAAAAAAAAAAAAAAAAAAAAAAAAAAAAAAAAAAAAAAAAAAAAAAAAAAAAAAAAAAAAAAAAAAAAAAAAAAAAAAAAAAAAAAAAAAAAAAAAAAAAAAAAAAAAAAAAAAAAAAAAAAAAAAAAAAAAAAAAAAAAAAAAAAAAAAAAAAAAAAAAAAAAAAAAAAAAAAAAAAAAAAAAAAAAAAAAAAAAAAAAAAAAAAAAAAAAAAAAAAAAAAAAAAAAAAAAAAAAAAAAAAAAAAAAAAAAAAAAAAAAAAAAAAAAAAAAAAAAAAAAAAAAAAAAAAAAAAAAAAAAAAAAAAAAAAAAAAAAAAAAAAAAAAAAAAAAAAAAAAAAAAAAAAAAAAAAAAAAAAAAAAAAAAAAAAAAAAAAAAAAAAAAAAAAAAAAAAAAAAAAAAAAAAAAAAAAAAAAAAAAAAAAAAAAAAAAAAAAAAAAAAAAAAAAAAAAAAAAAAAAAAAAAAAAAAAAAAAAAAAAAAAAAAAAAAAAAAAAAAAAAAAAAAAAAAAAAAAAAAAAAAAAAAAAAAAAAAAAAAAAAAAAAAAAAAAAAAAAAAAAAAAAAAAAAAAAAAAAAAAAAAAAAAAAAAAAAAAAAAAAAAAAAAAAAAAAAAAAAAAAAAAAAAAAAAAAAAAAAAAAAAAAAAAAAAAAAAAAAAAAAAAAAAAAAAAAAAAAAAAAAAAAAAAAAAAAAAAAAAAAAAAAAAAAAAAAAAAAAAAAAAAAAAAAAAAAAAAAAAAAAAAAAAAAAAAAAAAAAAAAAAAAAAAAAAAAAAAAAAAAAAAAAAAAAAAAAAAAAAAAAAAAAAAAAAAAAAAAAAAAAAAAAAAAAAAAAAAAAAAAAAAAAAAAAAAAAAAAAAAAAAAAAAAAAAAAAAAAAAAAAAAAAAAAAAAAAAAAAAAAAAAAAAAAAAAAAAAAAAAAAAAAAAAAAAAAAAAAAAAAAAAAAAAAAAAAAAAAAAAAAAAAAAAAAAAAAAAAAAAAAAAAAAAAAAAAAAAAAAAAAAAAAAAAAAAAAAAAAAAAAAAAAAAAAAAAAAAAAAAAAAAAAAAAAAAAAAAAAAAAAAAAAAAAAAAAAAAAAAAAAAAAAAAAAAAAAAAAAAAAAAAAAAAAAAAAAAAAAAAAAAAAAAAAAAAAAAAAAAAAAAAAAAAAAAAAAAAAAAAAAAAAAAAAAAAAAAAAAAAAAAAAAAAAAAAAAAAAAAAAAAAAAAAAAAAAAAAAAAAAAAAAAAAAAAAAAAAAAAAAAAAAAAAAAAAAAAAAAAAAAAAAAAAAAAAAAAAAAAAAAAAAAAAAAAAAAAAAAAAAAAAAAAAAAAAAAAAAAAAAAAAAAAAAAAAAAAAAAAAAAAAAAAAAAAAAAAAAAAAAAAAAAAAAAAAAAAAAAAAAAAAAAAAAAAAAAAAAAAAAAAAAAAAAAAAAAAAAAAAAAAAAAAAAAAAAAAAAAAAAAAAAAAAAAAAAAAAAAAAAAAAAAAAAAAAAAAAAAAAAAAAAAAAAAAAAAAAAAAAAAAAAAAAAAAAAAAAAAAAAAAAAAAAAAAAAAAAAAAAAAAAAAAAAAAAAAAAAAAAAAAAAAAAAAAAAAAAAAAAAAAAAAAAAAAAAAAAAAAAAAAAAAAAAAAAAAAAAAAAAAAAAAAAAAAAAAAAAAAAAAAAAAAAAAAAAAAAAAAAAAAAAAAAAAAAAAAAAAAAAAAAAAAAAAAAAAAAAAAAAAAAAAAAAAAAAAAAAAAAAAAAAAAAAAAAAAAAAAAAAAAAAAAAAAAAAAAAAAAAAAAAAAAAAAAAAAAAAAAAAAAAAAAAAAAAAAAAAAAAAAAAAAAAAAAAAAAAAAAAAAAAAAAAAAAAAAAAAAAAAAAAAAAAAAAAAAAAAAAAAAAAAAAAAAAAAAAAAAAAAAAAAAAAAAAAAAAAAAAAAAAAAAAAAAAAAAAAAAAAAAAAAAAAAAAAAAAAAAAAAAAAAAAAAAAAAAAAAAAAAAAAAAAAAAAAAAAAAAAAAAAAAAAAAAAAAAAAAAAAAAAAAAAAAAAAAAAAAAAAAAAAAAAAAAAAAAAAAAAAAAAAAAAAAAAAAAAAAAAAAAAAAAAAAAAAAAAAAAAAAAAAAAAAAAAAAAAAAAAAAAAAAAAAAAAAAAAAAAAAAAAAAAAAAAAAAAAAAAAAAAAAAAAAAAAAAAAAAAAAAAAAAAAAAAAAAAAAAAAAAAAAAAAAAAAAAAAAAAAAAAAAAAAAAAAAAAAAAAAAAAAAAAAAAAAAAAAAAAAAAAAAAAAAAAAAAAAAAAAAAAAAAAAAAAAAAAAAAAAAAAAAAAAAAAAAAAAAAAAAAAAAAAAAAAAAAAAAAAAAAAAAAAAAAAAAAAAAAAAAAAAAAAAAAAAAAAAAAAAAAAAAAAAAAAAAAAAAAAAAAAAAAAAAAAAAAAAAAAAAAAAAAAAAAAAAAAAAAAAAAAAAAAAAAAAAAAAAAAAAAAAAAAAAAAAAAAAAAAAAAAAAAAAAAAAAAAAAAAAAAAAAAAAAAAAAAAAAAAAAAAAAAAAAAAAAAAAAAAAAAAAAAAAAAAAAAAAAAAAAAAAADIwMjI6MDc6MTkgMDk6NDk6NTcAMjAyMjowNzoxOSAwOTo0OTo1NwAAAEIAaQBsAGwAaQBvAG4AYQBpAHIAZQBTAFIAbwB5AAAA/+ELImh0dHA6Ly9ucy5hZG9iZS5jb20veGFwLzEuMC8APD94cGFja2V0IGJlZ2luPSfvu78nIGlkPSdXNU0wTXBDZWhpSHpyZVN6TlRjemtjOWQnPz4NCjx4OnhtcG1ldGEgeG1sbnM6eD0iYWRvYmU6bnM6bWV0YS8iPjxyZGY6UkRGIHhtbG5zOnJkZj0iaHR0cDovL3d3dy53My5vcmcvMTk5OS8wMi8yMi1yZGYtc3ludGF4LW5zIyI+PHJkZjpEZXNjcmlwdGlvbiByZGY6YWJvdXQ9InV1aWQ6ZmFmNWJkZDUtYmEzZC0xMWRhLWFkMzEtZDMzZDc1MTgyZjFiIiB4bWxuczpkYz0iaHR0cDovL3B1cmwub3JnL2RjL2VsZW1lbnRzLzEuMS8iLz48cmRmOkRlc2NyaXB0aW9uIHJkZjphYm91dD0idXVpZDpmYWY1YmRkNS1iYTNkLTExZGEtYWQzMS1kMzNkNzUxODJmMWIiIHhtbG5zOnhtcD0iaHR0cDovL25zLmFkb2JlLmNvbS94YXAvMS4wLyI+PHhtcDpDcmVhdGVEYXRlPjIwMjItMDctMTlUMDk6NDk6NTcuODEwPC94bXA6Q3JlYXRlRGF0ZT48L3JkZjpEZXNjcmlwdGlvbj48cmRmOkRlc2NyaXB0aW9uIHJkZjphYm91dD0idXVpZDpmYWY1YmRkNS1iYTNkLTExZGEtYWQzMS1kMzNkNzUxODJmMWIiIHhtbG5zOmRjPSJodHRwOi8vcHVybC5vcmcvZGMvZWxlbWVudHMvMS4xLyI+PGRjOmNyZWF0b3I+PHJkZjpTZXEgeG1sbnM6cmRmPSJodHRwOi8vd3d3LnczLm9yZy8xOTk5LzAyLzIyLXJkZi1zeW50YXgtbnMjIj48cmRmOmxpPkJpbGxpb25haXJlU1JveTwvcmRmOmxpPjwvcmRmOlNlcT4NCgkJCTwvZGM6Y3JlYXRvcj48L3JkZjpEZXNjcmlwdGlvbj48L3JkZjpSREY+PC94OnhtcG1ldGE+DQogICAgICAgICAgICAgICAgICAgICAgICAgICAgICAgICAgICAgICAgICAgICAgICAgICAgICAgICAgICAgICAgICAgICAgICAgICAgICAgICAgICAgICAgICAgICAgICAgICAgCiAgICAgICAgICAgICAgICAgICAgICAgICAgICAgICAgICAgICAgICAgICAgICAgICAgICAgICAgICAgICAgICAgICAgICAgICAgICAgICAgICAgICAgICAgICAgICAgICAgICAKICAgICAgICAgICAgICAgICAgICAgICAgICAgICAgICAgICAgICAgICAgICAgICAgICAgICAgICAgICAgICAgICAgICAgICAgICAgICAgICAgICAgICAgICAgICAgICAgICAgIAogICAgICAgICAgICAgICAgICAgICAgICAgICAgICAgICAgICAgICAgICAgICAgICAgICAgICAgICAgICAgICAgICAgICAgICAgICAgICAgICAgICAgICAgICAgICAgICAgICAgCiAgICAgICAgICAgICAgICAgICAgICAgICAgICAgICAgICAgICAgICAgICAgICAgICAgICAgICAgICAgICAgICAgICAgICAgICAgICAgICAgICAgICAgICAgICAgICAgICAgICAKICAgICAgICAgICAgICAgICAgICAgICAgICAgICAgICAgICAgICAgICAgICAgICAgICAgICAgICAgICAgICAgICAgICAgICAgICAgICAgICAgICAgICAgICAgICAgICAgICAgIAogICAgICAgICAgICAgICAgICAgICAgICAgICAgICAgICAgICAgICAgICAgICAgICAgICAgICAgICAgICAgICAgICAgICAgICAgICAgICAgICAgICAgICAgICAgICAgICAgICAgCiAgICAgICAgICAgICAgICAgICAgICAgICAgICAgICAgICAgICAgICAgICAgICAgICAgICAgICAgICAgICAgICAgICAgICAgICAgICAgICAgICAgICAgICAgICAgICAgICAgICAKICAgICAgICAgICAgICAgICAgICAgICAgICAgICAgICAgICAgICAgICAgICAgICAgICAgICAgICAgICAgICAgICAgICAgICAgICAgICAgICAgICAgICAgICAgICAgICAgICAgIAogICAgICAgICAgICAgICAgICAgICAgICAgICAgICAgICAgICAgICAgICAgICAgICAgICAgICAgICAgICAgICAgICAgICAgICAgICAgICAgICAgICAgICAgICAgICAgICAgICAgCiAgICAgICAgICAgICAgICAgICAgICAgICAgICAgICAgICAgICAgICAgICAgICAgICAgICAgICAgICAgICAgICAgICAgICAgICAgICAgICAgICAgICAgICAgICAgICAgICAgICAKICAgICAgICAgICAgICAgICAgICAgICAgICAgICAgICAgICAgICAgICAgICAgICAgICAgICAgICAgICAgICAgICAgICAgICAgICAgICAgICAgICAgICAgICAgICAgICAgICAgIAogICAgICAgICAgICAgICAgICAgICAgICAgICAgICAgICAgICAgICAgICAgICAgICAgICAgICAgICAgICAgICAgICAgICAgICAgICAgICAgICAgICAgICAgICAgICAgICAgICAgCiAgICAgICAgICAgICAgICAgICAgICAgICAgICAgICAgICAgICAgICAgICAgICAgICAgICAgICAgICAgICAgICAgICAgICAgICAgICAgICAgICAgICAgICAgICAgICAgICAgICAKICAgICAgICAgICAgICAgICAgICAgICAgICAgICAgICAgICAgICAgICAgICAgICAgICAgICAgICAgICAgICAgICAgICAgICAgICAgICAgICAgICAgICAgICAgICAgICAgICAgIAogICAgICAgICAgICAgICAgICAgICAgICAgICAgICAgICAgICAgICAgICAgICAgICAgICAgICAgICAgICAgICAgICAgICAgICAgICAgICAgICAgICAgICAgICAgICAgICAgICAgCiAgICAgICAgICAgICAgICAgICAgICAgICAgICAgICAgICAgICAgICAgICAgICAgICAgICAgICAgICAgICAgICAgICAgICAgICAgICAgICAgICAgICAgICAgICAgICAgICAgICAKICAgICAgICAgICAgICAgICAgICAgICAgICAgICAgICAgICAgICAgICAgICAgICAgICAgICAgICAgICAgICAgICAgICAgICAgICAgICAgICAgICAgICAgICAgICAgICAgICAgIAogICAgICAgICAgICAgICAgICAgICAgICAgICAgICAgICAgICAgICAgICAgICAgICAgICAgICAgICAgICAgICAgICAgICAgICAgICAgICAgICAgICAgICAgICAgICAgICAgICAgCiAgICAgICAgICAgICAgICAgICAgICAgICAgICAgICAgICAgICAgICAgICAgICAgICAgICAgICAgICAgICAgICAgICAgICAgICAgICAgICAgICAgICAgICAgICAgICAgICAgICAKICAgICAgICAgICAgICAgICAgICAgICAgICAgIDw/eHBhY2tldCBlbmQ9J3cnPz7/2wBDAAcFBQYFBAcGBQYIBwcIChELCgkJChUPEAwRGBUaGRgVGBcbHichGx0lHRcYIi4iJSgpKywrGiAvMy8qMicqKyr/2wBDAQcICAoJChQLCxQqHBgcKioqKioqKioqKioqKioqKioqKioqKioqKioqKioqKioqKioqKioqKioqKioqKioqKir/wAARCAEHAJsDASIAAhEBAxEB/8QAHwAAAQUBAQEBAQEAAAAAAAAAAAECAwQFBgcICQoL/8QAtRAAAgEDAwIEAwUFBAQAAAF9AQIDAAQRBRIhMUEGE1FhByJxFDKBkaEII0KxwRVS0fAkM2JyggkKFhcYGRolJicoKSo0NTY3ODk6Q0RFRkdISUpTVFVWV1hZWmNkZWZnaGlqc3R1dnd4eXqDhIWGh4iJipKTlJWWl5iZmqKjpKWmp6ipqrKztLW2t7i5usLDxMXGx8jJytLT1NXW19jZ2uHi4+Tl5ufo6erx8vP09fb3+Pn6/8QAHwEAAwEBAQEBAQEBAQAAAAAAAAECAwQFBgcICQoL/8QAtREAAgECBAQDBAcFBAQAAQJ3AAECAxEEBSExBhJBUQdhcRMiMoEIFEKRobHBCSMzUvAVYnLRChYkNOEl8RcYGRomJygpKjU2Nzg5OkNERUZHSElKU1RVVldYWVpjZGVmZ2hpanN0dXZ3eHl6goOEhYaHiImKkpOUlZaXmJmaoqOkpaanqKmqsrO0tba3uLm6wsPExcbHyMnK0tPU1dbX2Nna4uPk5ebn6Onq8vP09fb3+Pn6/9oADAMBAAIRAxEAPwD6RooooAKKKKACiiigAooooAKKKKACiiigAooooAKKKKACiiigAooooAKKKKACiqerXNxZ6XNPZ2j3kygbYEbaWyccH9a8p0PxHrX/AAkUMQW7vfs7y7LX7RhnyeQzfx4/pXNVxEaUlFrc9HCZfUxVOVSLS5f6/q+n3HsVFAOQM8UV0nnBRRRQAUUUUAFFFFABRRRQAUUUUAFFFFABRRRQAUUUUAIyhlKsAQRgg96zLfw1o9pLbSW9jGj2pYwkZ+Qscnv/APq7VqUVLjF7ouNScE1FtXCiiiqICiiigAooooAKKKKACiiigAooooAKKKKACiiigAooooAKKp6tqUOkaXNe3IcxxgZ8tdx5OOn415vpXxEvjq0KajOz2sLSeY0cALTAn5fl/hx9fzrCpiIUpKMup34bL6+KhKdNaL+tP66nqlFAOQDXl2v/ABDv4dYuYdKmKwMqonmwAGFw3zEdd2QD+fty61aFFXkThMFVxk3Gn0PUaKoaJqkWsaTFdwFyrZUl02EkcE47c1frVNSV0ck4ShJxlugooopkhRRRQAUUUUAFFFFABRRRQAUUUUAFFFFACEblIPf0rntP8E6bpuoW17byXHnwNIxdnGZt/wDf45xXRUVEoRk02tjanWqU04wdk9/6+YVz2reC9N1q9nur15zLNGsakOP3QU5ynHB/xPrXQ0UShGatJXFSrVKMuam7MbFGIokjBZgqgZY5J+pp1FFWZbhRRRQAUUUUAFFFFABRRRQAUUUUAFFFFABRRRQAUVBe3sGn2clzdypFEg5dzgDPAz+NcPpnxJ+1apBbXqWsEYaUXE3mHaAD8mw9+Pz68VlOtCm0pPc66GDr4iEp043S/r+vkd/RQDkZFcFrnxH/ALO1S4tbKO2uUCL5Egc/f3YYP0xxn8vfgqVYUleTFhsLWxUuWkrs72iqunX8Gp2MdzbSxyowwWjbK5HUA9+axPFXi6Lw7JbonkyyGRTPEWw4iOfmUd+lOVSMY87ehFPD1atX2UV7x0tFc74S8Up4js2MphjugzN5Eb5Kx5wC3of/ANftXRU4TjOPNHYmtRnRm6dRWaCiiirMgooooAKKKKACiiigAooooAKKKKAIrm2hvLd4LmKOWNuqSKGU+mQetcbpvw5hstTt7uaeG4w0huI3t1KSAn5Qq9Fx7V29FZTpQm05LY6aOKrUIuNOVk9w6Vxet/DyDVdSnuoZorXdGohSOAAI27LM2PvZ56+tdpRTqU4VFaSFh8TVw0uak7MgsbOKws47eCOONVHIiQIpPc4HTJrH8S+FLfxEbfeYoikimZ/KBkkjH8AbqOtb9FOUIyjytaE069SnU9rB+8Yfhjw1D4ds2izFNLuYCcRBXKE5CsR1rcoopxioR5Y7E1as603Obu2FFFFUZhRRRQAUUUUAFFFFABRRRQAUUUUAFFNdxGhZjgD3x/OuY0zx3aanqcFjHaTRzO0olDEfuNpwC31/Q8c1EqkYtKT3N6eHq1YuUFdLc6miiuX1nxzZ6LqE9nNbTPIkaPFtIxOS2CF+n9DROpGCvJ2FRoVK8uWmrs6iimQyieFJFBG4A7SRlfY471ma94ht9Ajt5LqN3jlmWN3UjEQP8Td8U5SUVzPYmFKdSfJFXZrUVl6BrsPiDT/tcETwoXZUEhGXUHG4exq7fXQsrGW4KNJ5aFhGmNzkDOBnvQpRceZbBKlOE/ZyWuxPRXOaF4zs9fvRb2sMi4gWSR2I2o5OPLOep+nWujpQnGavFlVqNShLkqKzCiiirMQooooAKKKKACiiigAooooAq6lp9vquny2d5H5kMgG5NxXODkcjkcivPtM+G88eqwTajbwPbSNJ50KzMPJGfk2kHJ/Ht15r0uisKlCFSSlJbHbh8dXw0JQpuyf9af10QAYGBXm+vfDme61a4uNKhhihVFaNHlY+c5bLbsn5eM9PavSKKdWjCqrSJwuMrYSTlSe5S0jTINI0yK0tYhEi8lA5YAnk4J5IzXP+MfB48QTW81rFGLhnWOad5GykQJ+6vQnnvXW0VUqUJw5GtCaWKq0q3tov3jlvBfhUeH7Z5LqGNb07o2kjkYiRN2QSDwDx2rV8Q6PDrekPbSwrM6ZkhR3ZF8wAgZK845rUopRpQjDkS0CeKqzre3b94898M/Dx9N1aK41SOOZESOZHWRlaKYNnaADhhx1P+NehUUUUqUKStEeKxdXFT56r1CiiitTlCiiigAooooAKKKKACiiigAooJwpJ6D0FYll4u0fULm1gtbkvJdFxEuw5yvXPp6jNS5Ri7NmkKVSabjFtLf8Ar5G3RRWNqHivSNMubm3vLkxy2yLJIuw9GIAx69R0olKMVeTsFOlOq+WCu/I2aKbHIssSSRnKuoZSRjg1T1LWLLSTbC/l8r7TKIoztONx9T0H403JJXYowlKXLFXZeoqlpWr2es2rXOnS+bEsjRltpAJHp6j3qxdXUVlZy3VwxWKFC7kAnAAyeBQpJq62B05xlyNa9iWisrTvEul6rdpbWNx5srwC4ACnhScYJ7H2PrWrSjJSV0wnTnTfLNWYUViSeL9GiupLd7lhLHcrasuw53nPbqRwRmtuiMoy2Y50qlO3OmrhRRRVGYUUUUAFFFFABRRRQBU1SybUNNlto7ia2Z8YlgOHGDng/hivL9F8I6uPEEc0y39pHdNKDOjASRYbq59/br1Fet0Vz1cPGrJSfQ9DC4+rhacoQStL+v69AAwAK8o8T+EdWl12aa1W9vY4EV/MlYEvl/uR9eme/TB9q9Xop1qMa0bMnB42pg5ucFe/coaNZSafpcUE1xcXD8sXuGy4zzgkenSuY8feHr7VmtzYvdSmaRIjCGHkxcn94w69+tdtRVTpRnDkexFHF1KNf263OP8AAGh3mmWBkvnu4nG6H7LKwMYw2d6j3ra8S6fNqGiyJbz3UUkWZAtqwV5cKRsyexzWtRRGlGNP2fQKmLnUxHt3ve55f4N8I6rZ6zG94buzQxxXO6JsK+Gz5T+/HTt+NemTxGa3kiDtGXQqHXquR1FSUUqNGNKPKisXjamLqe0nozyS58I6uPEzXKrqEkUd0kInLgzsMf6wHpgY7+wr1Sxtms7CC2eZ52iQIZZDlnwOp96noqaVCNJtrqVi8fUxUYxml7oUUUV0HAFFFFABRRRQAUUUUAFFBIAJJwB1NVItW0+doVhvYHM5YRBZAd+3hseuKTaW5SjJq6RbooqrNqljbvKk95BG0KhpQ0gBQE4BPpQ2luEYyk7JXLVFIrK6hkIZWGQQcgio57u3tmiW4mjiaZwkYdgC7HsPU07iSbdkS0VFb3UF2jPazRzKrFGKMDhh1B96fLLHDE0szrHGg3M7HAUepNK6tcOVp26jqKrw6hZ3EqRwXUUjyRCZFVwSyHow9R71YoTT2BxcXZoKKqNq2nqzK17bgpKIWzIOHPRT7+1W6E09huMo7oKKrz39pbTrDcXMUcrKXVGcAlQMk49Bg1Jb3EN3bpPaypNE4yrowIP40XV7A4ySu1oSUUUUyQooooAKKKKAKeqx3kumTJps8dvckDZJIu5V55yPpmvIfD1nqn/CSWz2siwGZ5haTSQExgg/NtX+H06cV7VSBVByAM/Suath1VkpXtY9PB5g8LTnTUU+b/L01/4fuKM7RnrXjPjCy1Q+I7prlxdGKJGuHhiKqIy/yhum7+H/ACK9mpCoPUA/hTr0PbR5b2IwGNeDqOaje5Q0KO8i0eBdQnjnlxkPEmxdv8IxgY4rkPiRa6nO1mLaVXjkmRLeFI/3gl5+YN2HTvXf0EA9aqpSU6fJcjD4t0cR7flT8jh/hpb38WlMZZUW0BdDb+UVdZQ3JYnrx/nit7xZHeSeH5/sU8UIUFp/Ni8wPHtO5cY6nitoADoMUUQpctP2dwq4t1MT9Y5et7HkfgOx1ePxBH5bi1LRRynz4ixkt93IU87c16xOsjW0iwMElKEIxGQGxwfzp4UDoAOMdKWpoUVRhy3uVjca8XV9o4pHil3Z6oPFUkskiPsvkjluBAfKM+DglO/fnH8+fZLFLmOwgS+kWW5VAJZEGAzY5IFTbVznAznPSlpUaCpNu97l43HvFxhFxS5Ty74hWWrTa7EscizFkkeBIo9rxxBfmBbjPQ8c/rz1ngSO7Xw1A1xPFJA6KbdI4vL8tccgjHJz379a6QqD1AP1FKBgYHAohh1Gq6l9x1swdXCxw/KtOv8AS/rXuFFFFdJ5gUUUUAFFFFABRRRQAUUUUAFFFFABRRRQAUUUUAFFFFABRRRQAUUUUAFFFFABRRRQAUVS1nU4tE0K/wBVuUd4bG2kuZFjA3MqKWIGeM4FS6depqWl2t9CrLHdQpMit1AZQQD780AWKKyPC/iO28V6BHq1jFLFDJLLEEmADAxyNGehI6oSParGu6vDoHh7UNXukkkgsLeS4kSMDcyopYgZwM8UAX6K5zWPGdtpaaXHBp97qV/qqGS1sbRU8xlVQzMSzKqgBhyT1IxmrfibxJb+FvCd3r2oW87w2kQkkhiCmTkgYGSBnJ9aANiiuKn+IsmmKs/iHwnrmkWG9UkvpxBJFDk4Bfy5WYLkjnGBXa5z0oAKKKKACiiigAoqjd6k9rqthZLp93cLeGQNcwoDFb7Vz+8JORu6DAPNP1XUI9J0e81GdWeKzged1TG4qqliBnvxQBboqnpGpRazotlqdujpFeW6Tor43KrqGAOO/NXKACiiigAooooA5/x//wAk18Tf9gi6/wDRLVgeG9J8bN4V0loPFWmRxGyhKI2jFiq7BgE+cM8d67fULC21TTbrT7+PzbW7heCaPcV3owKsMjBGQTyOafaWsNjZw2lqmyCCNY40yTtVRgDJ5PAoA8f8IXltbfBnQ7HUZdVkub7V7uCGHRpfImuZPtM7FQxZdq4Uk/MOnWq91d3lvo/xM0OQanDZ22gLcxWmqXq3UsDyRTBsSB3OCEU7Sxx7Zr0yTwJ4dk8Ow6J9gKWNvcNdQKk8ivDMzs5kSQNvVtzscg98dOKjtfh94ZtLfU4otPdv7XthbX7yXUrvcx/N95mYnPzt82c89eBgA4a58NWt/wDFbwq0t5qcZudCllbyNQmjClBAoC7WG0HuBgE8nNdL8Z8j4N+Isdfs64z/ANdFrpx4f0xdVstSFt/pdjbta28nmN8kTbcrjOD91eSCeKk1rRrDxDo9xpWsQfaLK5ULLFvZNwyD1UgjkDoaAOR1fw7408WaXNoviK80Sy0u6wty2nxyvNJGCCUUuQFzjG7Bx6VU1HxPN4B8ReI4tUmluLG4sv7U0pJpCSZRiOS2Qn/aMRCj/nocV6PXJeKfCj+JvF/hi4uYIW07R55L2R2b5zKABEgHpu+Y/wC4tAHKz6PrR1zwR4e1TxBqkbXNhfT6m9vdvG88mYn27gcgKzkDHIUYGM1d1yGwvdfutIsV8W6hPpNpDHN9h1b7PDbZUlGZmmQu5HJJ39s13s+j2NzrNpqs8G69so5I4Jd7DYsm3eMA4Odq9R24rM1TwNoGs6s+pXtpL9pljEU7Q3UsK3CDosqowEgHowPp0oA8y0zV9X8V6b8K4rzWL+2/taO9S/ktbho3uBFCcbiO52deoySMHmtTQfD8mqeP/F/hq71/Xjpejm1kskTVJlkRriHc2ZQ29gCnyhiQNx45ru7DwT4f0xdFWx0/yhoQlGnDzpD5HmAq/VvmyCfvZx2xV6z0LTrDWtR1e0t/LvtUEQu5d7HzfLUqnBOBgEjgDPfNAHmXhvxFq+or8K5LzUJ5Hvo71bzDkC58uEhS4HDHjPPfmqFrZ3Hij4M614x1jXNUg1We3v5GjF6629uEaRBD5Gdm3aoByMnJOc816hZ+DdB09dHFpY+WNF8z7B++kPk+YCH6t82QT97OO1ULz4Z+FL66u5rjTXK3rmS5t0upUglkPV2iVghfvuxnPPXmgC74F/5J54e/7Blv/wCi1reqCwsbfTNOt7Gyj8q2tolhiTcTtRRgDJ5PA71PQAUUUUAFFFFABRRRQAUUUUAFFFFABRRRQAUUUUAFFFFABRRRQAUUUUAFFFFAH//Z)\n",
        "\n",
        "**Problem Constraints**\n",
        "\n",
        "1 <= N <= 100\n",
        "\n",
        "**Input Format**\n",
        "\n",
        "First and only line of input contains a single integer N.\n",
        "\n",
        "**Output Format**\n",
        "\n",
        "Output the stair pattern corresponding to the given N.\n",
        "\n",
        "**Example Input**\n",
        "\n",
        "Input 1:\n",
        "\n",
        " 2\n",
        "\n",
        "Input 2:\n",
        "\n",
        " 3\n",
        "\n",
        "**Example Explanation**\n",
        "\n",
        " Print the pattern as described."
      ],
      "metadata": {
        "id": "SxKvsjBcq3Tl"
      }
    },
    {
      "cell_type": "code",
      "source": [
        "def main():\n",
        "    # YOUR CODE GOES HERE\n",
        "    # Please take input and print output to standard input/output (stdin/stdout)\n",
        "    # E.g. 'input()/raw_input()' for input & 'print' for output\n",
        "\n",
        "    N = int(input())\n",
        "\n",
        "    for i in range(1, N+1):\n",
        "        print('*'*i)\n",
        "\n",
        "    return 0\n",
        "\n",
        "if __name__ == '__main__':\n",
        "    main()"
      ],
      "metadata": {
        "colab": {
          "base_uri": "https://localhost:8080/"
        },
        "id": "bUdUTTyVr_bC",
        "outputId": "5dbad973-01f6-4af2-af6a-efae5061cb9b"
      },
      "execution_count": 3,
      "outputs": [
        {
          "output_type": "stream",
          "name": "stdout",
          "text": [
            "6\n",
            "*\n",
            "**\n",
            "***\n",
            "****\n",
            "*****\n",
            "******\n"
          ]
        }
      ]
    },
    {
      "cell_type": "markdown",
      "source": [
        "**Q3. Numeric Stair Pattern**\n",
        "\n",
        "**Problem Description**\n",
        "\n",
        "Given an integer N, print the corresponding pattern for N.\n",
        "\n",
        "For example if N = 4 then pattern will be like:\n",
        "\n",
        "1\n",
        "\n",
        "1 2\n",
        "\n",
        "1 2 3\n",
        "\n",
        "1 2 3 4\n",
        "\n",
        "**Problem Constraints**\n",
        "\n",
        "1 <= N <= 100\n",
        "\n",
        "**Input Format**\n",
        "\n",
        "First and only line of input contains a single integer N.\n",
        "\n",
        "**Output Format**\n",
        "\n",
        "Output the pattern corresponding to the given N.\n",
        "\n",
        "**NOTE:** There should be no extra spaces after last integer and before first integer in any row and all integers in any row in the pattern are space separated.\n",
        "\n",
        "**Example Input**\n",
        "\n",
        "Input 1:\n",
        "\n",
        " 2\n",
        "\n",
        "Input 2:\n",
        "\n",
        " 3\n",
        "\n",
        "**Example Output**\n",
        "\n",
        "Output 1:\n",
        "\n",
        "1\n",
        "\n",
        "1 2\n",
        "\n",
        "Output 2:\n",
        "\n",
        "1\n",
        "\n",
        "1 2\n",
        "\n",
        "1 2 3\n",
        "\n",
        "**Example Explanation**\n",
        "\n",
        " Print the pattern as described."
      ],
      "metadata": {
        "id": "gg7Jn2UPsWIW"
      }
    },
    {
      "cell_type": "code",
      "source": [
        "def main():\n",
        "    # YOUR CODE GOES HERE\n",
        "    # Please take input and print output to standard input/output (stdin/stdout)\n",
        "    # E.g. 'input()/raw_input()' for input & 'print' for output\n",
        "\n",
        "    N = int(input())\n",
        "\n",
        "    for i in range(1, N+1):\n",
        "        for k in range(1, i+1):\n",
        "            if k == i:\n",
        "                print(k)\n",
        "            else:\n",
        "                print(k , end = ' ')\n",
        "\n",
        "    return 0\n",
        "\n",
        "if __name__ == '__main__':\n",
        "    main()"
      ],
      "metadata": {
        "colab": {
          "base_uri": "https://localhost:8080/"
        },
        "id": "dGuRNZrzsk8K",
        "outputId": "eab9f0bb-2378-4704-a809-3da25a255548"
      },
      "execution_count": 4,
      "outputs": [
        {
          "output_type": "stream",
          "name": "stdout",
          "text": [
            "4\n",
            "1\n",
            "1 2\n",
            "1 2 3\n",
            "1 2 3 4\n"
          ]
        }
      ]
    },
    {
      "cell_type": "markdown",
      "source": [
        "**Q4. HCF using Loop**\n",
        "\n",
        "**Problem Description**\n",
        "\n",
        "Write a program to input an integer T and then for each test case input two integers A and B in two different lines and then print T lines containing HCF of two given 2 numbers A and B.\n",
        "\n",
        "\n",
        "**Problem Constraints**\n",
        "\n",
        "1 <= T <= 1000\n",
        "\n",
        "1 <= A,B <= 1000000\n",
        "\n",
        "**Input Format**\n",
        "\n",
        "In first-line input T which means number of test cases.\n",
        "\n",
        "Next 2T lines contains input A and B for each testcase.\n",
        "First line of each testcase contain an integer A and second line of the testcase contains input B.\n",
        "\n",
        "**Output Format**\n",
        "\n",
        "T lines each containing an integer representing HCF of A & B.\n",
        "\n",
        "**Example Input**\n",
        "\n",
        "Input 1:\n",
        "\n",
        "2\n",
        "\n",
        "15\n",
        "105 \n",
        "\n",
        "24\n",
        "36\n",
        "\n",
        "**Example Output**\n",
        "\n",
        "Output 1:\n",
        "\n",
        "15\n",
        "12"
      ],
      "metadata": {
        "id": "0vywfPJys1Z7"
      }
    },
    {
      "cell_type": "code",
      "source": [
        "# Solution-1\n",
        "\n",
        "def main():\n",
        "    # YOUR CODE GOES HERE\n",
        "    # Please take input and print output to standard input/output (stdin/stdout)\n",
        "    # E.g. 'input()/raw_input()' for input & 'print' for output\n",
        "\n",
        "    T = int(input())\n",
        "\n",
        "    for i in range(1, T+1):\n",
        "        A, B = map(int, input().split())\n",
        "\n",
        "        for i in range(min(A,B), 0, -1):\n",
        "            if A%i == 0 and B%i == 0:\n",
        "                print(i)\n",
        "                break\n",
        "\n",
        "    return 0\n",
        "\n",
        "if __name__ == '__main__':\n",
        "    main()"
      ],
      "metadata": {
        "colab": {
          "base_uri": "https://localhost:8080/"
        },
        "id": "ODan-TVrtIAY",
        "outputId": "482df598-de63-4f21-acea-d9d6b2b6d29a"
      },
      "execution_count": 5,
      "outputs": [
        {
          "output_type": "stream",
          "name": "stdout",
          "text": [
            "2\n",
            "15 105\n",
            "15\n",
            "24 36\n",
            "12\n"
          ]
        }
      ]
    },
    {
      "cell_type": "code",
      "source": [
        "# Solution-2\n",
        "\n",
        "def main():\n",
        "    # YOUR CODE GOES HERE\n",
        "    # Please take input and print output to standard input/output (stdin/stdout)\n",
        "    # E.g. 'input()/raw_input()' for input & 'print' for output\n",
        "\n",
        "    T = int(input())\n",
        "\n",
        "    for i in range(1, T+1):\n",
        "\n",
        "        A, B = map(int, input().split())\n",
        "\n",
        "        while A != 0 and B != 0:\n",
        "\n",
        "          if A > B:\n",
        "\n",
        "            A = A%B\n",
        "\n",
        "          else:\n",
        "\n",
        "            B = B%A\n",
        "\n",
        "        print(A+B)\n",
        "\n",
        "    return 0\n",
        "\n",
        "if __name__ == '__main__':\n",
        "    main()"
      ],
      "metadata": {
        "colab": {
          "base_uri": "https://localhost:8080/"
        },
        "id": "6Q7C_kSytwLE",
        "outputId": "f89b6068-6158-431c-cb75-2b391a060121"
      },
      "execution_count": 6,
      "outputs": [
        {
          "output_type": "stream",
          "name": "stdout",
          "text": [
            "2\n",
            "15 105\n",
            "15\n",
            "24 36\n",
            "12\n"
          ]
        }
      ]
    },
    {
      "cell_type": "markdown",
      "source": [
        "**Q5. Least Common Multiple**\n",
        "\n",
        "**Problem Description**\n",
        "\n",
        "Write a program to input an integer T and then for each test case input two integers A and B in two different lines and then print T lines containing Least Common Multiple (LCM) of two given 2 numbers A and B.\n",
        "\n",
        "LCM of two integers is the smallest positive integer divisible by both.\n",
        "\n",
        "**Problem Constraints**\n",
        "\n",
        "1 <= T <= 1000\n",
        "\n",
        "1 <= A,B <= 1000\n",
        "\n",
        "**Input Format**\n",
        "\n",
        "In first-line input T which means number of test cases.\n",
        "\n",
        "Next 2T lines contains input A and B for each testcase.\n",
        "First line of each testcase contain an integer A and second line of the testcase contains input B.\n",
        "\n",
        "**Output Format**\n",
        "\n",
        "T lines each containing an integer representing LCM of A & B.\n",
        "\n",
        "**Example Input**\n",
        "\n",
        "Input 1:\n",
        "\n",
        "3\n",
        "\n",
        "2\n",
        "3\n",
        "\n",
        "9\n",
        "6\n",
        "\n",
        "2\n",
        "6\n",
        "\n",
        "**Example Output**\n",
        "\n",
        "Output 1:\n",
        "\n",
        "6\n",
        "\n",
        "18\n",
        "\n",
        "6\n",
        "\n",
        "**Example Explanation**\n",
        "\n",
        "Explanation:\n",
        "\n",
        " In first testcase 6 is the smallest positive integer which is divisible by both 2 (2 * 3 = 6) and 3 (3 * 2 = 6).\n",
        "\n",
        " In second testcase 18 is the smallest positive integer which is divisible by both 9 (9 * 2 = 18) and 6 (6 * 3 = 18).\n",
        "\n",
        " In third testcase  6 is the smallest positive integer which is divisible by both 2 (2 * 3 = 6) and 6 (6 * 1 = 6)."
      ],
      "metadata": {
        "id": "zNqa_rzuuPlV"
      }
    },
    {
      "cell_type": "code",
      "source": [
        "class Solution:\n",
        "    # param A : integer\n",
        "    # param B : integer\n",
        "    # return an integer\n",
        "    def LCM(self, A, B):\n",
        "\n",
        "        C = A\n",
        "        D = B\n",
        "\n",
        "        while A != 0 and B != 0:\n",
        "            \n",
        "            if A > B:\n",
        "                \n",
        "                A = A%B\n",
        "                \n",
        "            else:\n",
        "                \n",
        "                B = B%A\n",
        "                \n",
        "        #print(A+B)\n",
        "\n",
        "        return (C*D)//(A+B) \n",
        "\n",
        "\n",
        "X = Solution()\n",
        "\n",
        "print(X.LCM(36, 48))\n",
        "print(X.LCM(1024, 2346))"
      ],
      "metadata": {
        "colab": {
          "base_uri": "https://localhost:8080/"
        },
        "id": "4ocT9B1BvW_0",
        "outputId": "c989e674-ad33-45b3-b92f-d707f4520584"
      },
      "execution_count": 8,
      "outputs": [
        {
          "output_type": "stream",
          "name": "stdout",
          "text": [
            "144\n",
            "1201152\n"
          ]
        }
      ]
    }
  ]
}